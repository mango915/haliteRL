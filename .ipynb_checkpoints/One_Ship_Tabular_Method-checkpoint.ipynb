{
 "cells": [
  {
   "cell_type": "markdown",
   "metadata": {},
   "source": [
    "# Halite challenge - basics"
   ]
  },
  {
   "cell_type": "code",
<<<<<<< HEAD
   "execution_count": null,
=======
   "execution_count": 1,
>>>>>>> master
   "metadata": {},
   "outputs": [],
   "source": [
    "import gym\n",
    "import numpy as np\n",
    "import matplotlib.pyplot as plt\n",
    "from Environment import halite_env as Env"
   ]
  },
  {
   "cell_type": "code",
<<<<<<< HEAD
   "execution_count": null,
   "metadata": {},
   "outputs": [],
=======
   "execution_count": 2,
   "metadata": {},
   "outputs": [
    {
     "data": {
      "text/plain": [
       "<module 'Environment.halite_env' from '/home/nicola/Nicola_unipd/QuartoAnno/TODO/Baiesi/RL/haliteRL/Environment/halite_env.py'>"
      ]
     },
     "execution_count": 2,
     "metadata": {},
     "output_type": "execute_result"
    }
   ],
>>>>>>> master
   "source": [
    "from importlib import reload\n",
    "reload(Env)"
   ]
  },
  {
   "cell_type": "markdown",
   "metadata": {},
   "source": [
<<<<<<< HEAD
    "## Setup of the environment"
=======
    "## Setup of the environment - example"
>>>>>>> master
   ]
  },
  {
   "cell_type": "code",
<<<<<<< HEAD
   "execution_count": null,
=======
   "execution_count": 3,
>>>>>>> master
   "metadata": {},
   "outputs": [],
   "source": [
    "num_players = 1\n",
<<<<<<< HEAD
    "n_actions = 5 # no dropoffs, 1 action for staying still, 4 for moving in the cardinal directions\n",
=======
>>>>>>> master
    "map_size = 7 # 7 x 7 map"
   ]
  },
  {
   "cell_type": "code",
<<<<<<< HEAD
   "execution_count": null,
=======
   "execution_count": 4,
>>>>>>> master
   "metadata": {},
   "outputs": [],
   "source": [
    "env = Env.HaliteEnv(num_players, map_size)"
   ]
  },
  {
   "cell_type": "code",
<<<<<<< HEAD
   "execution_count": null,
   "metadata": {},
   "outputs": [],
=======
   "execution_count": 5,
   "metadata": {},
   "outputs": [
    {
     "data": {
      "text/plain": [
       "array([[462, 481, 299, 413, 596, 173, 575],\n",
       "       [920, 312, 968,  22, 503, 627, 700],\n",
       "       [798, 108, 683, 916, 107, 251, 280],\n",
       "       [307, 133, 315,   0, 354, 891,  73],\n",
       "       [792, 937, 367, 856,  46, 348, 152],\n",
       "       [365, 233, 507, 369, 315, 884, 563],\n",
       "       [153, 480, 760,  27, 937, 158, 162]])"
      ]
     },
     "execution_count": 5,
     "metadata": {},
     "output_type": "execute_result"
    }
   ],
>>>>>>> master
   "source": [
    "# halite in the map, min = 0, max = 1000\n",
    "env.map[:,:,0]"
   ]
  },
  {
   "cell_type": "code",
<<<<<<< HEAD
   "execution_count": null,
   "metadata": {},
   "outputs": [],
=======
   "execution_count": 6,
   "metadata": {},
   "outputs": [
    {
     "data": {
      "text/plain": [
       "array([[0, 0, 0, 0, 0, 0, 0],\n",
       "       [0, 0, 0, 0, 0, 0, 0],\n",
       "       [0, 0, 0, 0, 0, 0, 0],\n",
       "       [0, 0, 0, 0, 0, 0, 0],\n",
       "       [0, 0, 0, 0, 0, 0, 0],\n",
       "       [0, 0, 0, 0, 0, 0, 0],\n",
       "       [0, 0, 0, 0, 0, 0, 0]])"
      ]
     },
     "execution_count": 6,
     "metadata": {},
     "output_type": "execute_result"
    }
   ],
>>>>>>> master
   "source": [
    "# ship position\n",
    "env.map[:,:,1] "
   ]
  },
  {
   "cell_type": "code",
<<<<<<< HEAD
   "execution_count": null,
   "metadata": {},
   "outputs": [],
   "source": [
    "# shows the halite carried from each ship in the position corresponding to the ship\n",
    "# initially there is no ship, hence no halite carried either\n",
    "\n",
=======
   "execution_count": 7,
   "metadata": {},
   "outputs": [
    {
     "data": {
      "text/plain": [
       "array([[0, 0, 0, 0, 0, 0, 0],\n",
       "       [0, 0, 0, 0, 0, 0, 0],\n",
       "       [0, 0, 0, 0, 0, 0, 0],\n",
       "       [0, 0, 0, 0, 0, 0, 0],\n",
       "       [0, 0, 0, 0, 0, 0, 0],\n",
       "       [0, 0, 0, 0, 0, 0, 0],\n",
       "       [0, 0, 0, 0, 0, 0, 0]])"
      ]
     },
     "execution_count": 7,
     "metadata": {},
     "output_type": "execute_result"
    }
   ],
   "source": [
    "# shows the halite carried from each ship in the position corresponding to the ship\n",
    "# initially there is no ship, hence no halite carried either\n",
>>>>>>> master
    "env.map[:,:,2] "
   ]
  },
  {
   "cell_type": "code",
<<<<<<< HEAD
   "execution_count": null,
   "metadata": {},
   "outputs": [],
=======
   "execution_count": 8,
   "metadata": {},
   "outputs": [
    {
     "data": {
      "text/plain": [
       "array([[0, 0, 0, 0, 0, 0, 0],\n",
       "       [0, 0, 0, 0, 0, 0, 0],\n",
       "       [0, 0, 0, 0, 0, 0, 0],\n",
       "       [0, 0, 0, 1, 0, 0, 0],\n",
       "       [0, 0, 0, 0, 0, 0, 0],\n",
       "       [0, 0, 0, 0, 0, 0, 0],\n",
       "       [0, 0, 0, 0, 0, 0, 0]])"
      ]
     },
     "execution_count": 8,
     "metadata": {},
     "output_type": "execute_result"
    }
   ],
>>>>>>> master
   "source": [
    "# shipyard position\n",
    "env.map[:,:,3] "
   ]
  },
  {
   "cell_type": "code",
<<<<<<< HEAD
   "execution_count": null,
   "metadata": {},
   "outputs": [],
=======
   "execution_count": 9,
   "metadata": {},
   "outputs": [
    {
     "name": "stdout",
     "output_type": "stream",
     "text": [
      "Initial halite:  [5000.]\n"
     ]
    }
   ],
>>>>>>> master
   "source": [
    "print(\"Initial halite: \", env.player_halite[0])"
   ]
  },
  {
   "cell_type": "code",
<<<<<<< HEAD
   "execution_count": null,
   "metadata": {},
   "outputs": [],
   "source": [
    "# actions are represented as a matrix whose entries are -1 if no ship is in that position, \n",
    "#'a_i' if ship i is present in that position \n",
    "action_matrix = np.full((map_size,map_size), -1) # no ship, no action"
   ]
  },
  {
   "cell_type": "code",
   "execution_count": null,
   "metadata": {},
   "outputs": [],
   "source": [
=======
   "execution_count": 10,
   "metadata": {},
   "outputs": [
    {
     "name": "stdout",
     "output_type": "stream",
     "text": [
      "[4000.]\n",
      "False\n"
     ]
    }
   ],
   "source": [
    "# actions are represented as a matrix whose entries are -1 if no ship is in that position, \n",
    "#'a_i' if ship i is present in that position \n",
    "action_matrix = np.full((map_size,map_size), -1) # no ship, no action\n",
    "\n",
>>>>>>> master
    "# the environment already has in memory the last state, thus we don't need to resubmit it\n",
    "# the only things that we submit are the action matrix and the shipyard action (1 or True to spawn a ship, 0 otherwise)\n",
    "shipyard_action = 1 # initially always choose to create a ship\n",
    "# returns the state, i.e. env.map\n",
    "s, h, finish, _ = env.step(action_matrix, makeship = shipyard_action)\n",
<<<<<<< HEAD
    "# s_0 -> map_halite, s_1 -> cargo_halite, s_2 -> shipyard_position (not used), s_3 -> ship_position\n",
    "map_halite = s[:,:,0]\n",
    "ship_pos_matrix = s[:,:,1]"
   ]
  },
  {
   "cell_type": "code",
   "execution_count": null,
   "metadata": {},
   "outputs": [],
   "source": [
    "def encode(v_dec, L):\n",
    "    # v_two = [v1,v2]\n",
    "    # returns the encoded version V[v1,v2] of V = np.arange(0,L)\n",
    "    # L = length(all_possible_v)\n",
    "    V = np.arange(0,L**2).reshape((L,L))\n",
    "    v_enc = V[v_dec[0],v_dec[1]] \n",
    "    return v_enc\n",
    "\n",
    "def decode(v_enc, L):\n",
    "    V = np.arange(0,L**2).reshape((L,L))\n",
    "    v_dec = np.array([np.where(v_enc == V)[0][0],np.where(v_enc == V)[1][0]])\n",
    "    return v_dec\n",
    "\n",
    "def one_to_index(V,L):\n",
    "    # matrix V with one entry = 1 and the others 0\n",
    "    return np.arange(L**2).reshape((L, L))[V.astype(bool)]\n",
    "\n",
    "# ship positions x (n_cells + 1) x halite levels -> tensor\n",
    "# we will need a 3D encoding, like the 2D seen above\n",
    "def encode3D(v_dec, L1, L2, L3):\n",
    "    # v_dec = [v1,v2,v3]\n",
    "    # returns the encoded version V[v1,v2,v3] of V = np.arange(0,L1*L2*L3)\n",
    "    V = np.arange(0,L1*L2*L3).reshape((L1,L2,L3))\n",
    "    v_enc = V[v_dec[0],v_dec[1], v_dec[2]] \n",
    "    return v_enc\n",
    "\n",
    "def decode3D(v_enc, L1, L2, L3):\n",
    "    # v_enc = V[v1,v2,v3] \n",
    "    # V = np.arange(0,L1*L2*L3)\n",
    "    # returns the decoded version v_dec = [v1,v2,v3] of V[v1,v2,v3] \n",
    "    V = np.arange(0,L1*L2*L3).reshape((L1,L2,L3))\n",
    "    v_dec = np.array([np.where(v_enc == V)[0][0],np.where(v_enc == V)[1][0], np.where(v_enc == V)[2][0]])\n",
    "    return v_dec"
   ]
  },
  {
   "cell_type": "code",
   "execution_count": null,
   "metadata": {},
   "outputs": [],
   "source": [
    "#position_encoded\n",
    "pos_enc = one_to_index(ship_pos_matrix, map_size)\n",
    "print(\"Encoded position of the ship: \", pos_enc)\n",
    "#position_decoded\n",
    "pos_dec = decode(pos_enc, map_size)\n",
    "print(\"Decoded position of the ship: \", pos_dec)"
   ]
  },
  {
   "cell_type": "code",
   "execution_count": null,
   "metadata": {},
   "outputs": [],
   "source": [
    "ship_cargo = s[pos_dec[0],pos_dec[1],2]\n",
    "print(\"Initial ship cargo: \", ship_cargo)"
=======
    "print(h[0])\n",
    "print(finish)\n",
    "# s_0 -> map_halite, s_1 -> ship_position, s_2 -> cargo_halite, s_3 -> shipyard_position (not used)\n",
    "map_halite = s[:,:,0]\n",
    "ship_pos_matrix = s[:,:,1]\n",
    "shipy_pos_matrix = s[:,:,3]"
   ]
  },
  {
   "cell_type": "markdown",
   "metadata": {},
   "source": [
    "## State complexity and state approximation\n",
    "\n",
    "We have:\n",
    "- $(map\\_size)^2$ positions ($49$ in this case, up to $64^2 = 4096$ for the largest map);\n",
    "- $1000$ values of halite for each position ($h\\_lev$);\n",
    "- $1000$ values of carried halite ($h\\_lev$).\n",
    "\n",
    "The state of the system is defined by the position of the ship + the halite in EACH cell + the halite carried by the ship. We can have almost all the possible combinations of the values that those variables can assume, thus we have the combinations of $1000$ values of halite for $50$ cells ($49$ of the map + the one carried by the ship) all multiplied by $49$ possible positions of the ship, for a total of $49\\times 10^{147}$ possible states. If instead we consider the largest map of $64 \\times 64$ we arrive at $4096\\times 10^{12288}$ possible states.\n",
    "\n",
    "The general formula can be written as: \n",
    "$$\\# states = (map\\_size)^2 \\times (h\\_lev)^{map\\_size^2+1}$$\n",
    "\n",
    "where we consider the map always centered on the shipyard, hence in this framework its position is fixed and not considered as a variable.\n",
    "Of course this state representation is totally uncontrollable, because it scales exponentially in the number of cells of the map.\n",
    "\n",
    "To tackle this issue we choose to drastically reduce the amount of information that is observed by the ship through two processes: partial observation and state abstraction.\n",
    "\n",
    "\n",
    "\n",
    "### Partial observation: depth of field\n",
    "\n",
    "The most expensive dependence in the formula about the number of states of the system is the exponent at which is elevated $h\\_lev$. This is obtained considering all possible combinations of halite for all the cells of the map and the halite carried by the ship. A different approach is to consider only the halite inside the field of view of the agent and restrict the depth of field to the minimal possible quantity, i.e. nearest neighbors. In this way, independently from the $map\\_size$ we get an exponent that in 2D is equal to 6 (4 for the neighbors, 1 for the state in which the ship stands and 1 for the halite it carries).\n",
    "\n",
    "In other words, we get: \n",
    "\n",
    "$$\\# states = (map\\_size)^2 \\times (h\\_lev)^{6}$$\n",
    "\n",
    "that yields $4.9 \\times 10^{19}$ for the $7 \\times 7$ map, that is still not manageable, but considerably smaller ( of order $ \\approx 10^{120}$).\n",
    "\n",
    "### State abstraction: halite quantization\n",
    "\n",
    "Differently from the restriction on the observation space, that are somewhat straightforward, the state abstraction must involve some hypothesis about the environment that involve knowing the model of the environment. For example, if we were in the situation on not knowing how the halite is collected we probably would have done a different choice.\n",
    "Since we know that the ship collects an amount of halite proportional to the halite in the cell (25% of it, to be more exact) and pays a fee of 10% of the halite contained in a cell to leave it, we are more interested in having encoded the notions of \"low\" and \"high\" halite levels, instead of sampling with precision the middle-high half of the halite scale. \n",
    "To be more specific, we choose to approximate the information about the halite using for $h_lev = 3$ halite levels and the following encoding:\n",
    "- $h = 0$ if $halite \\le 10$; \n",
    "- $h = 1$ if $10 < halite \\le 100$; \n",
    "- $h = 2$ if $100 < halite \\le 1000$.\n",
    "\n",
    "The important part is that the halite is quantized in intervals that grow of a decade each, but we could also test adding a fourth level.\n",
    "In this way the number of states of the system becomes:\n",
    "\n",
    "$$\\# states = (map\\_size)^2 \\times 3^{6}$$\n",
    "\n",
    "yielding for a $7 \\times 7$ map $35.721$ states, that is reachable with our resources. \n",
    "\n",
    "### State abstraction: meta-informations\n",
    "\n",
    "The problem of these manipulations is that now the ship has access only to local informations and lacks of the knowledge about the position of the shipyard (but again, being the latter fixed, only the ship position is needed) and of that of distant halite deposits. In order to enhance the ability of the ship to find those deposits, we encode in a 4-states additional information the direction that the ship should take to go towards the nearest and richest deposit.\n",
    "In this final formulation, the total number of states that needs to be experienced by the ship is:\n",
    "\n",
    "$$\\# states = (map\\_size)^2 \\times 3^{6} * 4$$\n",
    "\n",
    "yielding for a $7 \\times 7$ map the final result of $142.884$ states. Considering that each of these states requires 64 bits, i.e. 8 bytes, to be stored, the memory required to store the Q-value table is 1.143.072 bytes = 1.143 Mb.\n",
    "\n"
   ]
  },
  {
   "cell_type": "markdown",
   "metadata": {},
   "source": [
    "## State encoding\n",
    "\n",
    "We have seen how many states we have to handle for a $7 \\times 7$ map, but each state is composed by different informations:\n",
    "\n",
    "- $pos\\_enc \\in [0,48]$ (ship position encoded);\n",
    "- $halite\\_vector = (C, O, S, N, E, W)$ halite (where C stands for the halite carried by the ship and O for the cell occupied by the ship );\n",
    "- $halite\\_direction \\in [0,3]$ (action to take to go towards the nearest and richest halite deposit).\n",
    "\n",
    "The idea is to first encode the vector of halite using a one hot encoding, then to form a 3D tensor of $pos\\_enc \\times halvec\\_enc \\times haldir$ and encode it in a 1D array. This final array $s\\_enc$ will form the rows of the Q(s,a) table and should assume values between 0 and 142.883."
>>>>>>> master
   ]
  },
  {
   "cell_type": "code",
<<<<<<< HEAD
   "execution_count": null,
   "metadata": {},
   "outputs": [],
   "source": [
    "# functions for the agent\n",
    "def greedy_policy(s, q_values):\n",
    "    return np.argmax(q_values[s])\n",
    "\n",
    "def e_greedy_policy(s, q_values, eps = 0.01):\n",
    "    # s is encoded in input, a is encoded in output\n",
    "    u = np.random.rand()\n",
    "    if u > eps:\n",
    "        return np.argmax(q_values[s])\n",
    "    else:\n",
    "        return np.random.randint(0, len(q_values[s]))\n",
    "    \n",
    "def update_q(s, a, r, sp, ap, q_values, gamma = 1):\n",
    "    q_values[s,a] = r + gamma*q_values[sp,ap]\n",
    "    return q_values"
=======
   "execution_count": 11,
   "metadata": {},
   "outputs": [],
   "source": [
    "# reinitialize the environment\n",
    "env = Env.HaliteEnv(num_players, map_size)"
>>>>>>> master
   ]
  },
  {
   "cell_type": "markdown",
   "metadata": {},
   "source": [
<<<<<<< HEAD
    "## State complexity and state approximation\n",
    "\n",
    "We have:\n",
    "- $(map size)^2$ positions ($49$ in this case, up to $64^2 = 4096$);\n",
    "- 1000 values of halite for each position (h_val);\n",
    "- 1000 values of carried halite (h_val).\n",
    "\n",
    "The state of the system is defined by the halite in each cell + the halite carried by the ship + the position of the ship. We can have almost all the possible combinations of the values that those variables can assume, thus we have the combinations of $1000$ values of halite for $50$ cells ($49$ of the map + the one carried by the ship) all multiplied by $49$ possible positions of the ship, for a total of $49\\times 10^{147}$ possible states. If instead we consider the largest map of $64 \\times 64$ we arrive at $4096\\times 10^{12288}$ possible states.\n",
    "\n",
    "WORK IN PROGRESS\n",
    "\n",
    "To tackle this issue we choose to approximate the information about the halite using for example 4 halite levels and the following encoding:\n",
    "- $h = 0$ if $0 \\le halite \\le 1$; \n",
    "- $h = 1$ if $1 < halite \\le 10$; \n",
    "- $h = 2$ if $10 < halite \\le 100$; \n",
    "- $h = 3$ if $100 < halite \\le 1000$.\n",
    "\n",
    "In this way for a $7 \\times 7$ map, the total number of states are $9800$ and for the $64 \\times 64$ there are \"just\" $67.125.248$, that means a lot of training and experience are needed, but we're talking about millions and not tens of billions (an order $10^5$ of difference!). "
   ]
  },
  {
   "cell_type": "code",
   "execution_count": null,
   "metadata": {},
   "outputs": [],
   "source": [
    "4096*3"
=======
    "### Initial turn"
>>>>>>> master
   ]
  },
  {
   "cell_type": "code",
<<<<<<< HEAD
   "execution_count": null,
   "metadata": {},
   "outputs": [],
   "source": [
    "def halite_quantization(h, q_number = 4):\n",
    "    # h can either be a scalar or a matrix \n",
    "    tresholds = np.logspace(0,3,4) # [1, 10, 100, 1000] = [10^0, 10^1, 10^2, 10^3]\n",
    "    h_shape = h.shape\n",
    "    h_temp = h.flatten()\n",
    "    mask = (h_temp[:,np.newaxis] < tresholds).astype(int)\n",
    "    level = np.argmax(mask, axis = 1)\n",
    "    return level.reshape(h_shape)"
   ]
  },
  {
   "cell_type": "code",
   "execution_count": null,
   "metadata": {},
   "outputs": [],
   "source": [
    "# how to use it\n",
    "q_h = halite_quantization(map_halite)\n",
    "c_h = halite_quantization(ship_cargo)"
=======
   "execution_count": 12,
   "metadata": {},
   "outputs": [],
   "source": [
    "action_matrix = np.full((map_size,map_size), -1) # no ship, no action\n",
    "shipyard_action = 1 # initially always choose to create a ship\n",
    "# returns the state, i.e. env.map\n",
    "s, h, finish, _ = env.step(action_matrix, makeship = shipyard_action)\n",
    "# s_0 -> map_halite, s_1 -> ship_position, s_2 -> cargo_halite, s_3 -> shipyard_position (not used)\n",
    "map_halite = s[:,:,0]"
   ]
  },
  {
   "cell_type": "markdown",
   "metadata": {},
   "source": [
    "### Getting ship position (encoded and decoded)"
>>>>>>> master
   ]
  },
  {
   "cell_type": "code",
<<<<<<< HEAD
   "execution_count": null,
   "metadata": {},
   "outputs": [],
   "source": [
    "# Now we need to write a function that is able to get the decoded state from the output of the environment\n",
    "# ship positions x (n_cells + 1) -> ship positions x (n_cells + 1) x halite levels\n",
    "\n",
    "pos_enc = one_to_index(ship_pos_matrix, map_size) #this is the first entry\n",
    "\n",
    "# Now we compose an array of the halite values of the n cells and the ship \n",
    "# and encode it through the matrix [(n_cells + 1) x halite levels]\n"
=======
   "execution_count": 13,
   "metadata": {},
   "outputs": [],
   "source": [
    "# matrix to scalar encoding\n",
    "\n",
    "def one_to_index(V,L):\n",
    "    # matrix V with one entry = 1 and the others 0\n",
    "    return np.arange(L**2).reshape((L, L))[V.astype(bool)]\n",
    "\n",
    "# 2D encoding and decoding\n",
    "\n",
    "def encode(v_dec, L):\n",
    "    # v_two = [v1,v2]\n",
    "    # returns the encoded version V[v1,v2] of V = np.arange(0,L)\n",
    "    # L = length(all_possible_v)\n",
    "    V = np.arange(0,L**2).reshape((L,L))\n",
    "    v_enc = V[v_dec[0],v_dec[1]] \n",
    "    return v_enc\n",
    "\n",
    "def decode(v_enc, L):\n",
    "    V = np.arange(0,L**2).reshape((L,L))\n",
    "    v_dec = np.array([np.where(v_enc == V)[0][0],np.where(v_enc == V)[1][0]])\n",
    "    return v_dec"
>>>>>>> master
   ]
  },
  {
   "cell_type": "code",
<<<<<<< HEAD
   "execution_count": null,
   "metadata": {},
   "outputs": [],
   "source": [
    "h_lev = 4 # halite levels\n",
    "n_cells = map_size**2\n",
    "n_states = n_cells*(n_cells+1)*h_lev\n",
    "print(\"Total number of states to be experienced: \", n_states)\n",
    "n_actions = 5\n",
    "tot_turns = 400\n",
    "# to account the fact that the ships can't know the number of turns elapsed we train them as if there was\n",
    "# a uniform probability of 1/tot_turns of ending the game at each turn\n",
    "discount_factor = 1 - 1/tot_turns \n",
    "n_batch = 100 # number of episodes in an epoch\n",
    "epochs = 0\n",
    "q_values = np.zeros((n_states,n_actions)) #initialize to zero\n",
    "max_epochs = 1000\n",
    "reward_score = np.zeros(max_epochs)"
   ]
  },
  {
   "cell_type": "code",
   "execution_count": null,
   "metadata": {},
   "outputs": [],
   "source": [
    "s_dec = np.array([0,0,1])\n",
    "print(\"Original decoded state: \", s_dec)\n",
    "s_enc = encode3D(s_dec, L1 = n_cells, L2 = n_cells+1, L3 = h_lev)\n",
    "print(\"Encoded state: \", s_enc)\n",
    "s_dec_2 = decode3D(s_enc, L1 = n_cells, L2 = n_cells+1, L3 = h_lev)\n",
    "print(\"New decoded state: \", s_dec)"
=======
   "execution_count": 14,
   "metadata": {},
   "outputs": [
    {
     "name": "stdout",
     "output_type": "stream",
     "text": [
      "Encoded position of the ship:  [24]\n",
      "Decoded position of the ship:  [3 3]\n",
      "Encoded position of the shipyard:  [24]\n",
      "Decoded position of the shipyard:  [3 3]\n"
     ]
    }
   ],
   "source": [
    "ship_pos_matrix = s[:,:,1]\n",
    "shipy_pos_matrix = s[:,:,3]\n",
    "\n",
    "#position_encoded of the ship\n",
    "pos_enc = one_to_index(ship_pos_matrix, map_size)\n",
    "print(\"Encoded position of the ship: \", pos_enc)\n",
    "#position_decoded of the ship\n",
    "pos_dec = decode(pos_enc, map_size)\n",
    "print(\"Decoded position of the ship: \", pos_dec)\n",
    "\n",
    "#position_encoded of the ship\n",
    "shipy_enc = one_to_index(shipy_pos_matrix, map_size)\n",
    "print(\"Encoded position of the shipyard: \", shipy_enc)\n",
    "#position_decoded of the ship\n",
    "shipy_dec = decode(shipy_enc, map_size)\n",
    "print(\"Decoded position of the shipyard: \", shipy_dec)"
   ]
  },
  {
   "cell_type": "markdown",
   "metadata": {},
   "source": [
    "### Getting halite vector (encoded and decoded)"
>>>>>>> master
   ]
  },
  {
   "cell_type": "code",
<<<<<<< HEAD
   "execution_count": null,
   "metadata": {},
   "outputs": [],
   "source": [
    "while True:\n",
    "    #@@@@@@@@@@@@@@@@@@@@@@\n",
    "    # here starts an epoch\n",
    "    #@@@@@@@@@@@@@@@@@@@@@@\n",
    "    epochs = epochs + 1\n",
    "    reward_progress = np.zeros(n_batch) # bunch of 100 episodes\n",
    "    eps = 0.5 # starting value of epsilon\n",
    "    # generate an adaptive epsilon greedy algorithm, has to be calibrated\n",
    "    epsilons = np.array(list(map(lambda i : eps*np.exp(-i/100), np.arange(0,max_epochs+1))))\n",
    "    \n",
    "    for i in range(n_batch):\n",
    "        #@@@@@@@@@@@@@@@@@@@@@@@@\n",
    "        # here starts an episode\n",
    "        #@@@@@@@@@@@@@@@@@@@@@@@@\n",
    "        s_dec = [0,4] # init state: top corners\n",
    "        s_enc = encode(s_dec, 25) # encoded state used to have a scalar index to access the states; 25 singular states\n",
    "        steps = 0\n",
    "        reward = 0\n",
    "        \n",
    "        while True:\n",
    "            steps = steps + 1\n",
    "            \n",
    "            a_enc = e_greedy_pol_v1(s_enc, q_values, eps = epsilons[epochs])\n",
    "            a_dec = decode(a_enc, 4) # 4 singular actions\n",
    "            \n",
    "            sp_dec, r = turn_v2(s_dec, a_dec) # interacts with the environment \n",
    "            sp_enc = encode(sp_dec, 25) # encode to scalar state\n",
    "            reward = reward + r\n",
    "            \n",
    "            a_temp_enc = greedy_pol_v0(sp_enc, q_values)\n",
    "            a_temp_dec = decode(a_temp_enc, 4)\n",
    "\n",
    "            q_values = update_q_v0(s_enc, a_enc, r, sp_enc, a_temp_enc, q_values, gamma = discount_factor)\n",
    "            \n",
    "            # update states\n",
    "            s_enc = sp_enc\n",
    "            s_dec = sp_dec\n",
    "            \n",
    "            \n",
    "            # terminal states are 2 and 24\n",
    "            if (s_dec[0] == 2 and s_dec[1] == 24) or (s_dec[1] == 2 and s_dec[0] == 24):\n",
    "                #print(\"Terminal state reached at step %d.\"%steps)\n",
    "                reward_progress[i] = reward\n",
    "                game_progress[i] = steps\n",
    "                terminal_states[:,i] = s_dec\n",
    "                break\n",
    "            \"\"\"if (s_dec[0] == s_dec[1]):\n",
    "                #print(\"Agent crushed one on each other.\") \n",
    "                #game_progress[i] = 100 # assign 100 equals to failure (and the -100 reward accounts for the accident)\n",
    "                #break\"\"\"\n",
    "            if steps >= 100:\n",
    "                #print(\"Too much time has passed. Game Over.\")\n",
    "                reward_progress[i] = reward\n",
    "                game_progress[i] = steps\n",
    "                terminal_states[:,i] = s_dec\n",
    "                break\n",
    "    \n",
    "    print(\"Average reward per episode in epoch %d: \"%epochs, reward_progress.mean())\n",
    "    reward_score[epochs-1] = reward_progress.mean()\n",
    "\n",
    "    if epochs >= max_epochs:\n",
    "        print(\"Hey, I think you've had enough! Let's stop here.\")\n",
    "        break"
=======
   "execution_count": 15,
   "metadata": {},
   "outputs": [],
   "source": [
    "def get_halite_vec_dec(state, q_number = 3, map_size = 7):\n",
    "    \n",
    "    def halite_quantization(h, q_number = 3):\n",
    "        # h can either be a scalar or a matrix \n",
    "        tresholds = np.logspace(1,3,q_number) # [10, 100, 1000] = [10^1, 10^2, 10^3]\n",
    "        h_shape = h.shape\n",
    "        h_temp = h.flatten()\n",
    "        mask = (h_temp[:,np.newaxis] < tresholds).astype(int)\n",
    "        level = np.argmax(mask, axis = 1)\n",
    "        return level.reshape(h_shape)\n",
    "\n",
    "    pos_enc = one_to_index(state[:,:,1], map_size)\n",
    "    pos_dec = decode(pos_enc, map_size) # decode position to access matrix by two indices\n",
    "    \n",
    "    ship_cargo = state[pos_dec[0],pos_dec[1],2]\n",
    "    #print(\"Halite carried: \", ship_cargo)\n",
    "    cargo_quant = halite_quantization(ship_cargo).reshape(1)[0] # quantize halite\n",
    "    \n",
    "    map_halite = state[:,:,0]\n",
    "    halite_quant = halite_quantization(map_halite) # quantize halite\n",
    "    \n",
    "    halite_vector = []\n",
    "    halite_vector.append(cargo_quant)\n",
    "    halite_vector.append(halite_quant[pos_dec[0], pos_dec[1]])\n",
    "    halite_vector.append(halite_quant[(pos_dec[0]+1)%map_size, pos_dec[1]])\n",
    "    halite_vector.append(halite_quant[(pos_dec[0]-1)%map_size, pos_dec[1]])\n",
    "    halite_vector.append(halite_quant[pos_dec[0], (pos_dec[1]+1)%map_size])\n",
    "    halite_vector.append(halite_quant[pos_dec[0], (pos_dec[1]-1)%map_size])\n",
    "    #print(\"Quantized halite vector: \", halite_vector)\n",
    "    return np.array(halite_vector)"
>>>>>>> master
   ]
  },
  {
   "cell_type": "code",
<<<<<<< HEAD
   "execution_count": null,
   "metadata": {},
   "outputs": [],
   "source": []
  }
 ],
 "metadata": {
  "kernelspec": {
   "display_name": "Python 3",
   "language": "python",
   "name": "python3"
  },
  "language_info": {
   "codemirror_mode": {
    "name": "ipython",
    "version": 3
   },
   "file_extension": ".py",
   "mimetype": "text/x-python",
   "name": "python",
   "nbconvert_exporter": "python",
   "pygments_lexer": "ipython3",
   "version": "3.7.3"
  }
 },
 "nbformat": 4,
 "nbformat_minor": 2
}
{
 "cells": [
=======
   "execution_count": 16,
   "metadata": {},
   "outputs": [],
   "source": [
    "halvec_dec = get_halite_vec_dec(s)"
   ]
  },
>>>>>>> master
  {
   "cell_type": "markdown",
   "metadata": {},
   "source": [
<<<<<<< HEAD
    "# Halite challenge - basics"
=======
    "Now we need to encode this vector of 6 elements whose values can be 0,1 or 2 in a scalar between 0 and $3^6 - 1$ (the encoding, of course, must be unique). The idea is similar to that of the 2D case, where we have a matrix whose element are numbered from 0 to the total number of elements - 1:\n",
    "- to get the encoded state we read the element value whose indices are given by the ordered values stored in the array;\n",
    "- to decode the encoded state and recover the decompressed array, we create a tensor (before it was a matrix) with the same shape of the tensor (matrix) that contains all the numbered states; this tensor has all the entries equal to the scalar value of the encoded state and we compare the two tensor and take the indices of the only element that is equal to the encoded state.\n"
>>>>>>> master
   ]
  },
  {
   "cell_type": "code",
<<<<<<< HEAD
   "execution_count": null,
   "metadata": {},
   "outputs": [],
   "source": [
    "import gym\n",
    "import numpy as np\n",
    "import matplotlib.pyplot as plt\n",
    "from Environment import halite_env as Env"
=======
   "execution_count": 17,
   "metadata": {},
   "outputs": [],
   "source": [
    "# valid for encoding and decoding an array of length L whose entries can all assume only \n",
    "# the same integer values from 0 to m\n",
    "def encode_tensor(v_dec, L = 6, m = 3):\n",
    "    T = np.arange(m**L).reshape(tuple([m for i in range(L)]))\n",
    "    return T[tuple(v_dec)]\n",
    "\n",
    "def decode_tensor(v_enc, L = 6, m = 3):\n",
    "    T = np.arange(m**L).reshape(tuple([m for i in range(L)]))\n",
    "    return np.array([np.where(v_enc == T)[i][0] for i in range(L)])"
>>>>>>> master
   ]
  },
  {
   "cell_type": "code",
<<<<<<< HEAD
   "execution_count": null,
   "metadata": {},
   "outputs": [],
   "source": [
    "from importlib import reload\n",
    "reload(Env)"
=======
   "execution_count": 18,
   "metadata": {},
   "outputs": [
    {
     "name": "stdout",
     "output_type": "stream",
     "text": [
      "Original vector:  [0 0 2 2 2 2]\n",
      "Encoded vector:  80\n",
      "Decoded vector:  [0 0 2 2 2 2]\n"
     ]
    }
   ],
   "source": [
    "print(\"Original vector: \", halvec_dec)\n",
    "v_enc = encode_tensor(halvec_dec)\n",
    "print(\"Encoded vector: \", v_enc)\n",
    "v_dec = decode_tensor(v_enc)\n",
    "print(\"Decoded vector: \", v_dec)"
>>>>>>> master
   ]
  },
  {
   "cell_type": "markdown",
   "metadata": {},
   "source": [
<<<<<<< HEAD
    "## Setup of the environment"
=======
    "### Getting halite direction "
>>>>>>> master
   ]
  },
  {
   "cell_type": "code",
<<<<<<< HEAD
   "execution_count": null,
   "metadata": {},
   "outputs": [],
   "source": [
    "num_players = 1\n",
    "n_actions = 5 # no dropoffs, 1 action for staying still, 4 for moving in the cardinal directions\n",
    "map_size = 7 # 7 x 7 map"
   ]
  },
  {
   "cell_type": "code",
   "execution_count": null,
   "metadata": {},
   "outputs": [],
   "source": [
    "env = Env.HaliteEnv(num_players, map_size)"
=======
   "execution_count": 19,
   "metadata": {},
   "outputs": [],
   "source": [
    "def get_halite_direction(state, map_size = 7):\n",
    "    \n",
    "    def roll_and_cut(M, shift, axis, border = 1, center = (3,3)):\n",
    "        M_temp = np.roll(M, shift = shift, axis = axis)\n",
    "        M_cut = M_temp[center[0]-border:center[0]+border+1, center[1]-border:center[1]+border+1]\n",
    "        return M_cut\n",
    "\n",
    "    map_halite = state[:,:,0] # matrix with halite of each cell of the map\n",
    "    \n",
    "    pos_enc = one_to_index(state[:,:,1], map_size) # ship position\n",
    "    pos_dec = decode(pos_enc, map_size) # decode position to access matrix by two indices\n",
    "    \n",
    "    shipy_enc = one_to_index(shipy_pos_matrix, map_size) # shipyard position\n",
    "    shipy_dec = decode(shipy_enc, map_size) #position_decoded \n",
    "    \n",
    "    shift = (shipy_dec[0]-pos_dec[0],shipy_dec[1]-pos_dec[1])\n",
    "    centered_h = np.roll(map_halite, shift = shift, axis = (0,1)) #centers map_halite on the ship\n",
    "    \n",
    "    mean_cardinal_h = []\n",
    "    # this could be generalized to wider areas, like 5x5, but 3x3 it's enough for a 7x7 map\n",
    "    perm = [(a,sh) for a in [0,1] for sh in [-2,2]] # permutations of shifts and axis to get the 4 cardinal directions\n",
    "    for a,sh in perm:\n",
    "        mean_h = np.mean(roll_and_cut(centered_h, shift = sh, axis = a), axis = (0,1))\n",
    "        mean_cardinal_h.append(mean_h)\n",
    "\n",
    "    mean_cardinal_h = np.array(mean_cardinal_h)\n",
    "    halite_direction = np.argmax(mean_cardinal_h) #+ 1 # take the direction of the 3x3 most rich zone\n",
    "    \n",
    "    return halite_direction"
   ]
  },
  {
   "cell_type": "code",
   "execution_count": 20,
   "metadata": {},
   "outputs": [
    {
     "name": "stdout",
     "output_type": "stream",
     "text": [
      "This is what we should get: \n",
      " [[471 893 233 660 378 186 227]\n",
      " [671 703 255 690 853 512 353]\n",
      " [341 793 483 978  23 739 533]\n",
      " [ 64 450 621  33 557  73 625]\n",
      " [260  64 644 957   0 856 901]\n",
      " [992 618 647 101 746  30 847]\n",
      " [962 353 268  15 132 581 926]]\n",
      "Result: \n",
      " [[471 893 233 660 378 186 227]\n",
      " [671 703 255 690 853 512 353]\n",
      " [341 793 483 978  23 739 533]\n",
      " [ 64 450 621  33 557  73 625]\n",
      " [260  64 644 957   0 856 901]\n",
      " [992 618 647 101 746  30 847]\n",
      " [962 353 268  15 132 581 926]]\n",
      "Neighborhood of the ship: \n",
      " [[483 978  23]\n",
      " [621  33 557]\n",
      " [644 957   0]] \n",
      "\n",
      "Map shifted in direction: (-2,0)\n",
      " [[644 957   0]\n",
      " [647 101 746]\n",
      " [268  15 132]]\n",
      "Mean halite in direction: (-2,0) 390.0 \n",
      "\n",
      "Map shifted in direction: (2,0)\n",
      " [[233 660 378]\n",
      " [255 690 853]\n",
      " [483 978  23]]\n",
      "Mean halite in direction: (2,0) 505.8888888888889 \n",
      "\n",
      "Map shifted in direction: (-2,1)\n",
      " [[ 23 739 533]\n",
      " [557  73 625]\n",
      " [  0 856 901]]\n",
      "Mean halite in direction: (-2,1) 478.55555555555554 \n",
      "\n",
      "Map shifted in direction: (2,1)\n",
      " [[341 793 483]\n",
      " [ 64 450 621]\n",
      " [260  64 644]]\n",
      "Mean halite in direction: (2,1) 413.3333333333333 \n",
      "\n",
      "Action suggested to reach the nearest and richest halite deposit:  1\n"
     ]
    }
   ],
   "source": [
    "# Explanatory cell\n",
    "\n",
    "# now suppose that the ship is in [2,2], whereas the shipyard is at the center of the map, i.e. [3,3]\n",
    "example = np.roll(map_halite, shift = (1,1) , axis =  (0,1)) #in this way we simulate the ship to be in (2,2)\n",
    "print(\"This is what we should get: \\n\", example)\n",
    "pos_dec = [2,2]\n",
    "shift = (shipy_dec[0]-pos_dec[0],shipy_dec[1]-pos_dec[1])\n",
    "centered_h = np.roll(map_halite, shift = shift, axis = (0,1))\n",
    "print(\"Result: \\n\",centered_h)\n",
    "\n",
    "def roll_and_cut_v0(M, shift, axis, border = 1, center = (3,3)):\n",
    "        M_temp = np.roll(M, shift = shift, axis = axis)\n",
    "        M_cut = M_temp[center[0]-border:center[0]+border+1, center[1]-border:center[1]+border+1]\n",
    "        return M_cut\n",
    "    \n",
    "# try to return just the 3x3 area around the ship\n",
    "around_ship = roll_and_cut_v0(centered_h, shift = 0, axis = 0)\n",
    "print(\"Neighborhood of the ship: \\n\", around_ship, '\\n')\n",
    "# we actually need to do this shifting by two in all cardinal directions w.r.t. the map centered around the ship\n",
    "mean_cardinal_h = []\n",
    "perm = [(a,sh) for a in [0,1] for sh in [-2,2]]\n",
    "for a,sh in perm:\n",
    "    print(\"Map shifted in direction: (%d,%d)\\n\"%(sh,a), roll_and_cut_v0(centered_h, shift = sh, axis = a))\n",
    "    mean_h = np.mean(roll_and_cut_v0(centered_h, shift = sh, axis = a), axis = (0,1))\n",
    "    print(\"Mean halite in direction: (%d,%d)\"%(sh,a), mean_h, '\\n')\n",
    "    mean_cardinal_h.append(mean_h)\n",
    "\n",
    "mean_cardinal_h = np.array(mean_cardinal_h)\n",
    "halite_direction = np.argmax(mean_cardinal_h) #+ 1\n",
    "print(\"Action suggested to reach the nearest and richest halite deposit: \", halite_direction)"
   ]
  },
  {
   "cell_type": "markdown",
   "metadata": {},
   "source": [
    "### Encoding and decoding the total state\n",
    "\n",
    "Starting from the encoded position, the encoded halite vector and the halite direction, we finally encode and decode this 3 contributions in a unique scalar that will take values between 0 and 142.883."
>>>>>>> master
   ]
  },
  {
   "cell_type": "code",
<<<<<<< HEAD
   "execution_count": null,
   "metadata": {},
   "outputs": [],
   "source": [
    "# halite in the map, min = 0, max = 1000\n",
    "env.map[:,:,0]"
=======
   "execution_count": 21,
   "metadata": {},
   "outputs": [],
   "source": [
    "# 3D encoding and decoding for arbitrary lengths of the three axis\n",
    "\n",
    "def encode3D(v_dec, L1, L2, L3):\n",
    "    # v_dec = [v1,v2,v3]\n",
    "    # returns the encoded version V[v1,v2,v3] of V = np.arange(0,L1*L2*L3)\n",
    "    #print(\"v_dec: \", v_dec)\n",
    "    #print(\"L1 = %d, L2 = %d, L3 = %d\"%(L1,L2,L3))\n",
    "    V = np.arange(0,L1*L2*L3).reshape((L1,L2,L3))\n",
    "    v_enc = V[tuple(v_dec)] \n",
    "    return v_enc\n",
    "\n",
    "def decode3D(v_enc, L1, L2, L3):\n",
    "    # v_enc = V[v1,v2,v3] \n",
    "    # V = np.arange(0,L1*L2*L3)\n",
    "    # returns the decoded version v_dec = [v1,v2,v3] of V[v1,v2,v3] \n",
    "    V = np.arange(0,L1*L2*L3).reshape((L1,L2,L3))\n",
    "    v_dec = np.array([np.where(v_enc == V)[0][0],np.where(v_enc == V)[1][0], np.where(v_enc == V)[2][0]])\n",
    "    return v_dec"
>>>>>>> master
   ]
  },
  {
   "cell_type": "code",
<<<<<<< HEAD
   "execution_count": null,
   "metadata": {},
   "outputs": [],
   "source": [
    "# ship position\n",
    "env.map[:,:,1] "
=======
   "execution_count": 22,
   "metadata": {},
   "outputs": [
    {
     "name": "stdout",
     "output_type": "stream",
     "text": [
      "24\n",
      "80\n",
      "1\n"
     ]
    }
   ],
   "source": [
    "print(pos_enc[0])\n",
    "halvec_enc = encode_tensor(halvec_dec)\n",
    "print(halvec_enc)\n",
    "print(halite_direction)\n",
    "s_dec = np.array([pos_enc[0], halvec_enc, halite_direction] )"
>>>>>>> master
   ]
  },
  {
   "cell_type": "code",
<<<<<<< HEAD
   "execution_count": null,
   "metadata": {},
   "outputs": [],
   "source": [
    "# shows the halite carried from each ship in the position corresponding to the ship\n",
    "# initially there is no ship, hence no halite carried either\n",
    "\n",
    "env.map[:,:,2] "
   ]
  },
  {
   "cell_type": "code",
   "execution_count": null,
   "metadata": {},
   "outputs": [],
   "source": [
    "# shipyard position\n",
    "env.map[:,:,3] "
   ]
  },
  {
   "cell_type": "code",
   "execution_count": null,
   "metadata": {},
   "outputs": [],
   "source": [
    "print(\"Initial halite: \", env.player_halite[0])"
=======
   "execution_count": 23,
   "metadata": {
    "scrolled": true
   },
   "outputs": [
    {
     "name": "stdout",
     "output_type": "stream",
     "text": [
      "Total number of states to be experienced:  142884\n",
      "Original decoded state:  [24 80  1]\n",
      "Encoded state:  70305\n",
      "New decoded state:  [24 80  1]\n"
     ]
    }
   ],
   "source": [
    "h_lev = 3 # halite levels\n",
    "n_cells = map_size**2 # number of cells in a square map\n",
    "n_states = n_cells*h_lev**6*4\n",
    "n_actions = 5 # no dropoffs, 1 action for staying still, 4 for moving in the cardinal directions\n",
    "print(\"Total number of states to be experienced: \", n_states)\n",
    "\n",
    "print(\"Original decoded state: \", s_dec)\n",
    "s_enc = encode3D(s_dec, L1 = n_cells, L2 = h_lev**6, L3 = n_actions-1)\n",
    "print(\"Encoded state: \", s_enc)\n",
    "s_dec_2 = decode3D(s_enc, L1 = n_cells, L2 = h_lev**6, L3 = n_actions-1)\n",
    "print(\"New decoded state: \", s_dec)"
   ]
  },
  {
   "cell_type": "markdown",
   "metadata": {},
   "source": [
    "Now we put all together in order to have a single function that takes the multi-layer state output by the environment and returns the encoded state (that is the one we will use to access the Q-values)."
>>>>>>> master
   ]
  },
  {
   "cell_type": "code",
<<<<<<< HEAD
   "execution_count": null,
   "metadata": {},
   "outputs": [],
   "source": [
    "# actions are represented as a matrix whose entries are -1 if no ship is in that position, \n",
    "#'a_i' if ship i is present in that position \n",
    "action_matrix = np.full((map_size,map_size), -1) # no ship, no action"
=======
   "execution_count": 24,
   "metadata": {},
   "outputs": [],
   "source": [
    "def encode_state(state, map_size = 7, h_lev = h_lev, n_actions = n_actions, debug = False):\n",
    "    \n",
    "    pos_enc = one_to_index(state[:,:,1], map_size)[0] # ship position\n",
    "    if debug:\n",
    "        print(\"Ship position encoded in [0,%d]: \"%(map_size**2-1), pos_enc)\n",
    "    \n",
    "    halvec_dec = get_halite_vec_dec(state, q_number = 3, map_size = map_size) \n",
    "    halvec_enc = encode_tensor(halvec_dec) # halite vector\n",
    "    if debug:\n",
    "        print(\"Halite vector encoded in [0,%d]: \"%(h_lev**6 -1), halvec_enc)\n",
    "    \n",
    "    haldir = get_halite_direction(state, map_size = map_size) # halite direction\n",
    "    if debug:\n",
    "        print(\"Halite direction in [1,4]: \", haldir)\n",
    "    \n",
    "    s_dec = np.array([pos_enc, halvec_enc, haldir])\n",
    "    if debug:\n",
    "        print(\"Decoded state: \", s_dec)\n",
    "    s_enc = encode3D(s_dec, L1 = map_size**2, L2 = h_lev**6, L3 = n_actions-1)\n",
    "    if debug:\n",
    "        print(\"State encoded in [0, %d]: \"%(map_size**2*h_lev**6*(n_actions-1)), s_enc, '\\n')\n",
    "    \n",
    "    return s_enc"
>>>>>>> master
   ]
  },
  {
   "cell_type": "code",
<<<<<<< HEAD
   "execution_count": null,
   "metadata": {},
   "outputs": [],
   "source": [
    "# the environment already has in memory the last state, thus we don't need to resubmit it\n",
    "# the only things that we submit are the action matrix and the shipyard action (1 or True to spawn a ship, 0 otherwise)\n",
    "shipyard_action = 1 # initially always choose to create a ship\n",
    "# returns the state, i.e. env.map\n",
    "s, h, finish, _ = env.step(action_matrix, makeship = shipyard_action)\n",
    "# s_0 -> map_halite, s_1 -> cargo_halite, s_2 -> shipyard_position (not used), s_3 -> ship_position\n",
    "map_halite = s[:,:,0]\n",
    "ship_pos_matrix = s[:,:,1]"
   ]
  },
  {
   "cell_type": "code",
   "execution_count": null,
   "metadata": {},
   "outputs": [],
   "source": [
    "def encode(v_dec, L):\n",
    "    # v_two = [v1,v2]\n",
    "    # returns the encoded version V[v1,v2] of V = np.arange(0,L)\n",
    "    # L = length(all_possible_v)\n",
    "    V = np.arange(0,L**2).reshape((L,L))\n",
    "    v_enc = V[v_dec[0],v_dec[1]] \n",
    "    return v_enc\n",
    "\n",
    "def decode(v_enc, L):\n",
    "    V = np.arange(0,L**2).reshape((L,L))\n",
    "    v_dec = np.array([np.where(v_enc == V)[0][0],np.where(v_enc == V)[1][0]])\n",
    "    return v_dec\n",
    "\n",
    "def one_to_index(V,L):\n",
    "    # matrix V with one entry = 1 and the others 0\n",
    "    return np.arange(L**2).reshape((L, L))[V.astype(bool)]\n",
    "\n",
    "# ship positions x (n_cells + 1) x halite levels -> tensor\n",
    "# we will need a 3D encoding, like the 2D seen above\n",
    "def encode3D(v_dec, L1, L2, L3):\n",
    "    # v_dec = [v1,v2,v3]\n",
    "    # returns the encoded version V[v1,v2,v3] of V = np.arange(0,L1*L2*L3)\n",
    "    V = np.arange(0,L1*L2*L3).reshape((L1,L2,L3))\n",
    "    v_enc = V[v_dec[0],v_dec[1], v_dec[2]] \n",
    "    return v_enc\n",
    "\n",
    "def decode3D(v_enc, L1, L2, L3):\n",
    "    # v_enc = V[v1,v2,v3] \n",
    "    # V = np.arange(0,L1*L2*L3)\n",
    "    # returns the decoded version v_dec = [v1,v2,v3] of V[v1,v2,v3] \n",
    "    V = np.arange(0,L1*L2*L3).reshape((L1,L2,L3))\n",
    "    v_dec = np.array([np.where(v_enc == V)[0][0],np.where(v_enc == V)[1][0], np.where(v_enc == V)[2][0]])\n",
    "    return v_dec"
   ]
  },
  {
   "cell_type": "code",
   "execution_count": null,
   "metadata": {},
   "outputs": [],
   "source": [
    "#position_encoded\n",
    "pos_enc = one_to_index(ship_pos_matrix, map_size)\n",
    "print(\"Encoded position of the ship: \", pos_enc)\n",
    "#position_decoded\n",
    "pos_dec = decode(pos_enc, map_size)\n",
    "print(\"Decoded position of the ship: \", pos_dec)"
=======
   "execution_count": 25,
   "metadata": {},
   "outputs": [
    {
     "data": {
      "text/plain": [
       "70306"
      ]
     },
     "execution_count": 25,
     "metadata": {},
     "output_type": "execute_result"
    }
   ],
   "source": [
    "encode_state(s, map_size = 7, h_lev = h_lev, n_actions = n_actions, debug = False)"
   ]
  },
  {
   "cell_type": "markdown",
   "metadata": {},
   "source": [
    "### Scalar and matricial action\n",
    "\n",
    "The environment works for a generic number of ships. For this reason the action submitted must be a matrix of $map\\_size \\times map\\_size$ filled with -1 except for the entry of the ship position, where it has to be entered the value of the action choosen."
>>>>>>> master
   ]
  },
  {
   "cell_type": "code",
<<<<<<< HEAD
   "execution_count": null,
   "metadata": {},
   "outputs": [],
   "source": [
    "ship_cargo = s[pos_dec[0],pos_dec[1],2]\n",
    "print(\"Initial ship cargo: \", ship_cargo)"
=======
   "execution_count": 26,
   "metadata": {},
   "outputs": [],
   "source": [
    "def scalar_to_matrix_action(action, state, map_size = 7):\n",
    "    # first get the decoded position of the ship\n",
    "    ship_pos_matrix = state[:,:,1]\n",
    "    pos_enc = one_to_index(ship_pos_matrix, map_size)\n",
    "    pos_dec = decode(pos_enc, map_size)\n",
    "    # then fill a matrix of -1\n",
    "    mat_action = np.full((map_size,map_size), -1)\n",
    "    # finally insert the action in the pos_dec entry\n",
    "    mat_action[tuple(pos_dec)] = action\n",
    "    return mat_action"
>>>>>>> master
   ]
  },
  {
   "cell_type": "code",
<<<<<<< HEAD
   "execution_count": null,
   "metadata": {},
   "outputs": [],
   "source": [
    "# functions for the agent\n",
=======
   "execution_count": 138,
   "metadata": {},
   "outputs": [],
   "source": [
    "#@@@@@@@@@@@@@@@@@@@\n",
    "# RL agent functions\n",
    "#@@@@@@@@@@@@@@@@@@@\n",
    "\n",
>>>>>>> master
    "def greedy_policy(s, q_values):\n",
    "    return np.argmax(q_values[s])\n",
    "\n",
    "def e_greedy_policy(s, q_values, eps = 0.01):\n",
    "    # s is encoded in input, a is encoded in output\n",
    "    u = np.random.rand()\n",
    "    if u > eps:\n",
    "        return np.argmax(q_values[s])\n",
    "    else:\n",
    "        return np.random.randint(0, len(q_values[s]))\n",
<<<<<<< HEAD
    "    \n",
    "def update_q(s, a, r, sp, ap, q_values, gamma = 1):\n",
    "    q_values[s,a] = r + gamma*q_values[sp,ap]\n",
    "    return q_values"
   ]
  },
  {
   "cell_type": "markdown",
   "metadata": {},
   "source": [
    "## State complexity and state approximation\n",
    "\n",
    "We have:\n",
    "- $(map size)^2$ positions ($49$ in this case, up to $64^2 = 4096$);\n",
    "- 1000 values of halite for each position (h_val);\n",
    "- 1000 values of carried halite (h_val).\n",
    "\n",
    "The state of the system is defined by the halite in each cell + the halite carried by the ship + the position of the ship. We can have almost all the possible combinations of the values that those variables can assume, thus we have the combinations of $1000$ values of halite for $50$ cells ($49$ of the map + the one carried by the ship) all multiplied by $49$ possible positions of the ship, for a total of $49\\times 10^{147}$ possible states. If instead we consider the largest map of $64 \\times 64$ we arrive at $4096\\times 10^{12288}$ possible states.\n",
    "\n",
    "WORK IN PROGRESS\n",
    "\n",
    "To tackle this issue we choose to approximate the information about the halite using for example 4 halite levels and the following encoding:\n",
    "- $h = 0$ if $0 \\le halite \\le 1$; \n",
    "- $h = 1$ if $1 < halite \\le 10$; \n",
    "- $h = 2$ if $10 < halite \\le 100$; \n",
    "- $h = 3$ if $100 < halite \\le 1000$.\n",
    "\n",
    "In this way for a $7 \\times 7$ map, the total number of states are $9800$ and for the $64 \\times 64$ there are \"just\" $67.125.248$, that means a lot of training and experience are needed, but we're talking about millions and not tens of billions (an order $10^5$ of difference!). "
   ]
  },
  {
   "cell_type": "code",
   "execution_count": null,
   "metadata": {},
   "outputs": [],
   "source": [
    "4096*3"
   ]
  },
  {
   "cell_type": "code",
   "execution_count": null,
   "metadata": {},
   "outputs": [],
   "source": [
    "def halite_quantization(h, q_number = 4):\n",
    "    # h can either be a scalar or a matrix \n",
    "    tresholds = np.logspace(0,3,4) # [1, 10, 100, 1000] = [10^0, 10^1, 10^2, 10^3]\n",
    "    h_shape = h.shape\n",
    "    h_temp = h.flatten()\n",
    "    mask = (h_temp[:,np.newaxis] < tresholds).astype(int)\n",
    "    level = np.argmax(mask, axis = 1)\n",
    "    return level.reshape(h_shape)"
   ]
  },
  {
   "cell_type": "code",
   "execution_count": null,
   "metadata": {},
   "outputs": [],
   "source": [
    "# how to use it\n",
    "q_h = halite_quantization(map_halite)\n",
    "c_h = halite_quantization(ship_cargo)"
=======
    "\n",
    "    \n",
    "def update_q_v0(s, a, r, sp, ap, q_values, gamma = 1):\n",
    "    q_values[s,a] = r + gamma*q_values[sp,ap]\n",
    "    return q_values\n",
    "\n",
    "def update_q_v1(s, a, r, sp, ap, q_values, gamma = 1, n_cells = 49, h_lev = 3, n_actions = 5, alpha = 0.1):\n",
    "    s_dec = decode3D(s, L1 = n_cells, L2 = h_lev**6, L3 = n_actions-1)\n",
    "    sp_dec = decode3D(sp, L1 = n_cells, L2 = h_lev**6, L3 = n_actions-1)\n",
    "    shipy_pos = (n_cells-1)/2 #shipyard is at the center of the map\n",
    "    if (sp_dec[0] == shipy_pos and s_dec[0] != shipy_pos):\n",
    "        q_values[s,a] = (1-alpha)*q_values[s,a] + alpha*r # sp is terminal state -> enforce to have Q-value = 0 for all actions ap\n",
    "        #print(\"Terminal value update rule executed.\")\n",
    "    else:\n",
    "        q_values[s,a] = (1-alpha)*q_values[s,a] + alpha*(r + gamma*q_values[sp,ap]) # normal update\n",
    "    return q_values"
>>>>>>> master
   ]
  },
  {
   "cell_type": "code",
<<<<<<< HEAD
   "execution_count": null,
   "metadata": {},
   "outputs": [],
   "source": [
    "# Now we need to write a function that is able to get the decoded state from the output of the environment\n",
    "# ship positions x (n_cells + 1) -> ship positions x (n_cells + 1) x halite levels\n",
    "\n",
    "pos_enc = one_to_index(ship_pos_matrix, map_size) #this is the first entry\n",
    "\n",
    "# Now we compose an array of the halite values of the n cells and the ship \n",
    "# and encode it through the matrix [(n_cells + 1) x halite levels]\n"
=======
   "execution_count": 139,
   "metadata": {},
   "outputs": [
    {
     "name": "stdout",
     "output_type": "stream",
     "text": [
      "Total number of states to be experienced:  142884\n"
     ]
    }
   ],
   "source": [
    "#@@@@@@@@@@@@@@@@@@@@@@\n",
    "# Environment variables\n",
    "#@@@@@@@@@@@@@@@@@@@@@@\n",
    "NUM_PLAYERS = 1\n",
    "MAP_SIZE = 7 # 7 x 7 map\n",
    "TOT_TURNS = 400 # number of turns for each episode\n",
    "\n",
    "#@@@@@@@@@@@@@@@@\n",
    "# State variables\n",
    "#@@@@@@@@@@@@@@@@\n",
    "H_LEV = 3 # halite levels\n",
    "N_CELLS = MAP_SIZE**2 # number of cells in a square map\n",
    "N_STATES = N_CELLS*H_LEV**6*4\n",
    "N_ACTIONS = 5 # no dropoffs, 1 action for staying still, 4 for moving in the cardinal directions\n",
    "print(\"Total number of states to be experienced: \", N_STATES)\n",
    "\n",
    "#@@@@@@@@@@@@@@@@@@@@\n",
    "# Learning parameters\n",
    "#@@@@@@@@@@@@@@@@@@@@\n",
    "N_BATCH = 50 #100 # number of episodes in an epoch\n",
    "MAX_EPOCHS = 300 # max number of epochs played before stopping (500 ~ 7.3 hours of training)\n",
    "DISCOUNT_FACTOR = 1 - 1/TOT_TURNS #train ships as if each turn has a probability of 1/tot_turns of ending the game \n",
    "STD_REWARD = -0.01\n",
    "LEARNING_RATE = 0.1"
>>>>>>> master
   ]
  },
  {
   "cell_type": "code",
<<<<<<< HEAD
   "execution_count": null,
   "metadata": {},
   "outputs": [],
   "source": [
    "h_lev = 4 # halite levels\n",
    "n_cells = map_size**2\n",
    "n_states = n_cells*(n_cells+1)*h_lev\n",
    "print(\"Total number of states to be experienced: \", n_states)\n",
    "n_actions = 5\n",
    "tot_turns = 400\n",
    "# to account the fact that the ships can't know the number of turns elapsed we train them as if there was\n",
    "# a uniform probability of 1/tot_turns of ending the game at each turn\n",
    "discount_factor = 1 - 1/tot_turns \n",
    "n_batch = 100 # number of episodes in an epoch\n",
    "epochs = 0\n",
    "q_values = np.zeros((n_states,n_actions)) #initialize to zero\n",
    "max_epochs = 1000\n",
    "reward_score = np.zeros(max_epochs)"
   ]
  },
  {
   "cell_type": "code",
   "execution_count": null,
   "metadata": {},
   "outputs": [],
   "source": [
    "s_dec = np.array([0,0,1])\n",
    "print(\"Original decoded state: \", s_dec)\n",
    "s_enc = encode3D(s_dec, L1 = n_cells, L2 = n_cells+1, L3 = h_lev)\n",
    "print(\"Encoded state: \", s_enc)\n",
    "s_dec_2 = decode3D(s_enc, L1 = n_cells, L2 = n_cells+1, L3 = h_lev)\n",
    "print(\"New decoded state: \", s_dec)"
   ]
  },
  {
   "cell_type": "code",
   "execution_count": null,
   "metadata": {},
   "outputs": [],
   "source": [
    "while True:\n",
=======
   "execution_count": 141,
   "metadata": {
    "scrolled": false
   },
   "outputs": [
    {
     "data": {
      "application/javascript": [
       "/* Put everything inside the global mpl namespace */\n",
       "window.mpl = {};\n",
       "\n",
       "\n",
       "mpl.get_websocket_type = function() {\n",
       "    if (typeof(WebSocket) !== 'undefined') {\n",
       "        return WebSocket;\n",
       "    } else if (typeof(MozWebSocket) !== 'undefined') {\n",
       "        return MozWebSocket;\n",
       "    } else {\n",
       "        alert('Your browser does not have WebSocket support.' +\n",
       "              'Please try Chrome, Safari or Firefox ≥ 6. ' +\n",
       "              'Firefox 4 and 5 are also supported but you ' +\n",
       "              'have to enable WebSockets in about:config.');\n",
       "    };\n",
       "}\n",
       "\n",
       "mpl.figure = function(figure_id, websocket, ondownload, parent_element) {\n",
       "    this.id = figure_id;\n",
       "\n",
       "    this.ws = websocket;\n",
       "\n",
       "    this.supports_binary = (this.ws.binaryType != undefined);\n",
       "\n",
       "    if (!this.supports_binary) {\n",
       "        var warnings = document.getElementById(\"mpl-warnings\");\n",
       "        if (warnings) {\n",
       "            warnings.style.display = 'block';\n",
       "            warnings.textContent = (\n",
       "                \"This browser does not support binary websocket messages. \" +\n",
       "                    \"Performance may be slow.\");\n",
       "        }\n",
       "    }\n",
       "\n",
       "    this.imageObj = new Image();\n",
       "\n",
       "    this.context = undefined;\n",
       "    this.message = undefined;\n",
       "    this.canvas = undefined;\n",
       "    this.rubberband_canvas = undefined;\n",
       "    this.rubberband_context = undefined;\n",
       "    this.format_dropdown = undefined;\n",
       "\n",
       "    this.image_mode = 'full';\n",
       "\n",
       "    this.root = $('<div/>');\n",
       "    this._root_extra_style(this.root)\n",
       "    this.root.attr('style', 'display: inline-block');\n",
       "\n",
       "    $(parent_element).append(this.root);\n",
       "\n",
       "    this._init_header(this);\n",
       "    this._init_canvas(this);\n",
       "    this._init_toolbar(this);\n",
       "\n",
       "    var fig = this;\n",
       "\n",
       "    this.waiting = false;\n",
       "\n",
       "    this.ws.onopen =  function () {\n",
       "            fig.send_message(\"supports_binary\", {value: fig.supports_binary});\n",
       "            fig.send_message(\"send_image_mode\", {});\n",
       "            if (mpl.ratio != 1) {\n",
       "                fig.send_message(\"set_dpi_ratio\", {'dpi_ratio': mpl.ratio});\n",
       "            }\n",
       "            fig.send_message(\"refresh\", {});\n",
       "        }\n",
       "\n",
       "    this.imageObj.onload = function() {\n",
       "            if (fig.image_mode == 'full') {\n",
       "                // Full images could contain transparency (where diff images\n",
       "                // almost always do), so we need to clear the canvas so that\n",
       "                // there is no ghosting.\n",
       "                fig.context.clearRect(0, 0, fig.canvas.width, fig.canvas.height);\n",
       "            }\n",
       "            fig.context.drawImage(fig.imageObj, 0, 0);\n",
       "        };\n",
       "\n",
       "    this.imageObj.onunload = function() {\n",
       "        fig.ws.close();\n",
       "    }\n",
       "\n",
       "    this.ws.onmessage = this._make_on_message_function(this);\n",
       "\n",
       "    this.ondownload = ondownload;\n",
       "}\n",
       "\n",
       "mpl.figure.prototype._init_header = function() {\n",
       "    var titlebar = $(\n",
       "        '<div class=\"ui-dialog-titlebar ui-widget-header ui-corner-all ' +\n",
       "        'ui-helper-clearfix\"/>');\n",
       "    var titletext = $(\n",
       "        '<div class=\"ui-dialog-title\" style=\"width: 100%; ' +\n",
       "        'text-align: center; padding: 3px;\"/>');\n",
       "    titlebar.append(titletext)\n",
       "    this.root.append(titlebar);\n",
       "    this.header = titletext[0];\n",
       "}\n",
       "\n",
       "\n",
       "\n",
       "mpl.figure.prototype._canvas_extra_style = function(canvas_div) {\n",
       "\n",
       "}\n",
       "\n",
       "\n",
       "mpl.figure.prototype._root_extra_style = function(canvas_div) {\n",
       "\n",
       "}\n",
       "\n",
       "mpl.figure.prototype._init_canvas = function() {\n",
       "    var fig = this;\n",
       "\n",
       "    var canvas_div = $('<div/>');\n",
       "\n",
       "    canvas_div.attr('style', 'position: relative; clear: both; outline: 0');\n",
       "\n",
       "    function canvas_keyboard_event(event) {\n",
       "        return fig.key_event(event, event['data']);\n",
       "    }\n",
       "\n",
       "    canvas_div.keydown('key_press', canvas_keyboard_event);\n",
       "    canvas_div.keyup('key_release', canvas_keyboard_event);\n",
       "    this.canvas_div = canvas_div\n",
       "    this._canvas_extra_style(canvas_div)\n",
       "    this.root.append(canvas_div);\n",
       "\n",
       "    var canvas = $('<canvas/>');\n",
       "    canvas.addClass('mpl-canvas');\n",
       "    canvas.attr('style', \"left: 0; top: 0; z-index: 0; outline: 0\")\n",
       "\n",
       "    this.canvas = canvas[0];\n",
       "    this.context = canvas[0].getContext(\"2d\");\n",
       "\n",
       "    var backingStore = this.context.backingStorePixelRatio ||\n",
       "\tthis.context.webkitBackingStorePixelRatio ||\n",
       "\tthis.context.mozBackingStorePixelRatio ||\n",
       "\tthis.context.msBackingStorePixelRatio ||\n",
       "\tthis.context.oBackingStorePixelRatio ||\n",
       "\tthis.context.backingStorePixelRatio || 1;\n",
       "\n",
       "    mpl.ratio = (window.devicePixelRatio || 1) / backingStore;\n",
       "\n",
       "    var rubberband = $('<canvas/>');\n",
       "    rubberband.attr('style', \"position: absolute; left: 0; top: 0; z-index: 1;\")\n",
       "\n",
       "    var pass_mouse_events = true;\n",
       "\n",
       "    canvas_div.resizable({\n",
       "        start: function(event, ui) {\n",
       "            pass_mouse_events = false;\n",
       "        },\n",
       "        resize: function(event, ui) {\n",
       "            fig.request_resize(ui.size.width, ui.size.height);\n",
       "        },\n",
       "        stop: function(event, ui) {\n",
       "            pass_mouse_events = true;\n",
       "            fig.request_resize(ui.size.width, ui.size.height);\n",
       "        },\n",
       "    });\n",
       "\n",
       "    function mouse_event_fn(event) {\n",
       "        if (pass_mouse_events)\n",
       "            return fig.mouse_event(event, event['data']);\n",
       "    }\n",
       "\n",
       "    rubberband.mousedown('button_press', mouse_event_fn);\n",
       "    rubberband.mouseup('button_release', mouse_event_fn);\n",
       "    // Throttle sequential mouse events to 1 every 20ms.\n",
       "    rubberband.mousemove('motion_notify', mouse_event_fn);\n",
       "\n",
       "    rubberband.mouseenter('figure_enter', mouse_event_fn);\n",
       "    rubberband.mouseleave('figure_leave', mouse_event_fn);\n",
       "\n",
       "    canvas_div.on(\"wheel\", function (event) {\n",
       "        event = event.originalEvent;\n",
       "        event['data'] = 'scroll'\n",
       "        if (event.deltaY < 0) {\n",
       "            event.step = 1;\n",
       "        } else {\n",
       "            event.step = -1;\n",
       "        }\n",
       "        mouse_event_fn(event);\n",
       "    });\n",
       "\n",
       "    canvas_div.append(canvas);\n",
       "    canvas_div.append(rubberband);\n",
       "\n",
       "    this.rubberband = rubberband;\n",
       "    this.rubberband_canvas = rubberband[0];\n",
       "    this.rubberband_context = rubberband[0].getContext(\"2d\");\n",
       "    this.rubberband_context.strokeStyle = \"#000000\";\n",
       "\n",
       "    this._resize_canvas = function(width, height) {\n",
       "        // Keep the size of the canvas, canvas container, and rubber band\n",
       "        // canvas in synch.\n",
       "        canvas_div.css('width', width)\n",
       "        canvas_div.css('height', height)\n",
       "\n",
       "        canvas.attr('width', width * mpl.ratio);\n",
       "        canvas.attr('height', height * mpl.ratio);\n",
       "        canvas.attr('style', 'width: ' + width + 'px; height: ' + height + 'px;');\n",
       "\n",
       "        rubberband.attr('width', width);\n",
       "        rubberband.attr('height', height);\n",
       "    }\n",
       "\n",
       "    // Set the figure to an initial 600x600px, this will subsequently be updated\n",
       "    // upon first draw.\n",
       "    this._resize_canvas(600, 600);\n",
       "\n",
       "    // Disable right mouse context menu.\n",
       "    $(this.rubberband_canvas).bind(\"contextmenu\",function(e){\n",
       "        return false;\n",
       "    });\n",
       "\n",
       "    function set_focus () {\n",
       "        canvas.focus();\n",
       "        canvas_div.focus();\n",
       "    }\n",
       "\n",
       "    window.setTimeout(set_focus, 100);\n",
       "}\n",
       "\n",
       "mpl.figure.prototype._init_toolbar = function() {\n",
       "    var fig = this;\n",
       "\n",
       "    var nav_element = $('<div/>')\n",
       "    nav_element.attr('style', 'width: 100%');\n",
       "    this.root.append(nav_element);\n",
       "\n",
       "    // Define a callback function for later on.\n",
       "    function toolbar_event(event) {\n",
       "        return fig.toolbar_button_onclick(event['data']);\n",
       "    }\n",
       "    function toolbar_mouse_event(event) {\n",
       "        return fig.toolbar_button_onmouseover(event['data']);\n",
       "    }\n",
       "\n",
       "    for(var toolbar_ind in mpl.toolbar_items) {\n",
       "        var name = mpl.toolbar_items[toolbar_ind][0];\n",
       "        var tooltip = mpl.toolbar_items[toolbar_ind][1];\n",
       "        var image = mpl.toolbar_items[toolbar_ind][2];\n",
       "        var method_name = mpl.toolbar_items[toolbar_ind][3];\n",
       "\n",
       "        if (!name) {\n",
       "            // put a spacer in here.\n",
       "            continue;\n",
       "        }\n",
       "        var button = $('<button/>');\n",
       "        button.addClass('ui-button ui-widget ui-state-default ui-corner-all ' +\n",
       "                        'ui-button-icon-only');\n",
       "        button.attr('role', 'button');\n",
       "        button.attr('aria-disabled', 'false');\n",
       "        button.click(method_name, toolbar_event);\n",
       "        button.mouseover(tooltip, toolbar_mouse_event);\n",
       "\n",
       "        var icon_img = $('<span/>');\n",
       "        icon_img.addClass('ui-button-icon-primary ui-icon');\n",
       "        icon_img.addClass(image);\n",
       "        icon_img.addClass('ui-corner-all');\n",
       "\n",
       "        var tooltip_span = $('<span/>');\n",
       "        tooltip_span.addClass('ui-button-text');\n",
       "        tooltip_span.html(tooltip);\n",
       "\n",
       "        button.append(icon_img);\n",
       "        button.append(tooltip_span);\n",
       "\n",
       "        nav_element.append(button);\n",
       "    }\n",
       "\n",
       "    var fmt_picker_span = $('<span/>');\n",
       "\n",
       "    var fmt_picker = $('<select/>');\n",
       "    fmt_picker.addClass('mpl-toolbar-option ui-widget ui-widget-content');\n",
       "    fmt_picker_span.append(fmt_picker);\n",
       "    nav_element.append(fmt_picker_span);\n",
       "    this.format_dropdown = fmt_picker[0];\n",
       "\n",
       "    for (var ind in mpl.extensions) {\n",
       "        var fmt = mpl.extensions[ind];\n",
       "        var option = $(\n",
       "            '<option/>', {selected: fmt === mpl.default_extension}).html(fmt);\n",
       "        fmt_picker.append(option)\n",
       "    }\n",
       "\n",
       "    // Add hover states to the ui-buttons\n",
       "    $( \".ui-button\" ).hover(\n",
       "        function() { $(this).addClass(\"ui-state-hover\");},\n",
       "        function() { $(this).removeClass(\"ui-state-hover\");}\n",
       "    );\n",
       "\n",
       "    var status_bar = $('<span class=\"mpl-message\"/>');\n",
       "    nav_element.append(status_bar);\n",
       "    this.message = status_bar[0];\n",
       "}\n",
       "\n",
       "mpl.figure.prototype.request_resize = function(x_pixels, y_pixels) {\n",
       "    // Request matplotlib to resize the figure. Matplotlib will then trigger a resize in the client,\n",
       "    // which will in turn request a refresh of the image.\n",
       "    this.send_message('resize', {'width': x_pixels, 'height': y_pixels});\n",
       "}\n",
       "\n",
       "mpl.figure.prototype.send_message = function(type, properties) {\n",
       "    properties['type'] = type;\n",
       "    properties['figure_id'] = this.id;\n",
       "    this.ws.send(JSON.stringify(properties));\n",
       "}\n",
       "\n",
       "mpl.figure.prototype.send_draw_message = function() {\n",
       "    if (!this.waiting) {\n",
       "        this.waiting = true;\n",
       "        this.ws.send(JSON.stringify({type: \"draw\", figure_id: this.id}));\n",
       "    }\n",
       "}\n",
       "\n",
       "\n",
       "mpl.figure.prototype.handle_save = function(fig, msg) {\n",
       "    var format_dropdown = fig.format_dropdown;\n",
       "    var format = format_dropdown.options[format_dropdown.selectedIndex].value;\n",
       "    fig.ondownload(fig, format);\n",
       "}\n",
       "\n",
       "\n",
       "mpl.figure.prototype.handle_resize = function(fig, msg) {\n",
       "    var size = msg['size'];\n",
       "    if (size[0] != fig.canvas.width || size[1] != fig.canvas.height) {\n",
       "        fig._resize_canvas(size[0], size[1]);\n",
       "        fig.send_message(\"refresh\", {});\n",
       "    };\n",
       "}\n",
       "\n",
       "mpl.figure.prototype.handle_rubberband = function(fig, msg) {\n",
       "    var x0 = msg['x0'] / mpl.ratio;\n",
       "    var y0 = (fig.canvas.height - msg['y0']) / mpl.ratio;\n",
       "    var x1 = msg['x1'] / mpl.ratio;\n",
       "    var y1 = (fig.canvas.height - msg['y1']) / mpl.ratio;\n",
       "    x0 = Math.floor(x0) + 0.5;\n",
       "    y0 = Math.floor(y0) + 0.5;\n",
       "    x1 = Math.floor(x1) + 0.5;\n",
       "    y1 = Math.floor(y1) + 0.5;\n",
       "    var min_x = Math.min(x0, x1);\n",
       "    var min_y = Math.min(y0, y1);\n",
       "    var width = Math.abs(x1 - x0);\n",
       "    var height = Math.abs(y1 - y0);\n",
       "\n",
       "    fig.rubberband_context.clearRect(\n",
       "        0, 0, fig.canvas.width, fig.canvas.height);\n",
       "\n",
       "    fig.rubberband_context.strokeRect(min_x, min_y, width, height);\n",
       "}\n",
       "\n",
       "mpl.figure.prototype.handle_figure_label = function(fig, msg) {\n",
       "    // Updates the figure title.\n",
       "    fig.header.textContent = msg['label'];\n",
       "}\n",
       "\n",
       "mpl.figure.prototype.handle_cursor = function(fig, msg) {\n",
       "    var cursor = msg['cursor'];\n",
       "    switch(cursor)\n",
       "    {\n",
       "    case 0:\n",
       "        cursor = 'pointer';\n",
       "        break;\n",
       "    case 1:\n",
       "        cursor = 'default';\n",
       "        break;\n",
       "    case 2:\n",
       "        cursor = 'crosshair';\n",
       "        break;\n",
       "    case 3:\n",
       "        cursor = 'move';\n",
       "        break;\n",
       "    }\n",
       "    fig.rubberband_canvas.style.cursor = cursor;\n",
       "}\n",
       "\n",
       "mpl.figure.prototype.handle_message = function(fig, msg) {\n",
       "    fig.message.textContent = msg['message'];\n",
       "}\n",
       "\n",
       "mpl.figure.prototype.handle_draw = function(fig, msg) {\n",
       "    // Request the server to send over a new figure.\n",
       "    fig.send_draw_message();\n",
       "}\n",
       "\n",
       "mpl.figure.prototype.handle_image_mode = function(fig, msg) {\n",
       "    fig.image_mode = msg['mode'];\n",
       "}\n",
       "\n",
       "mpl.figure.prototype.updated_canvas_event = function() {\n",
       "    // Called whenever the canvas gets updated.\n",
       "    this.send_message(\"ack\", {});\n",
       "}\n",
       "\n",
       "// A function to construct a web socket function for onmessage handling.\n",
       "// Called in the figure constructor.\n",
       "mpl.figure.prototype._make_on_message_function = function(fig) {\n",
       "    return function socket_on_message(evt) {\n",
       "        if (evt.data instanceof Blob) {\n",
       "            /* FIXME: We get \"Resource interpreted as Image but\n",
       "             * transferred with MIME type text/plain:\" errors on\n",
       "             * Chrome.  But how to set the MIME type?  It doesn't seem\n",
       "             * to be part of the websocket stream */\n",
       "            evt.data.type = \"image/png\";\n",
       "\n",
       "            /* Free the memory for the previous frames */\n",
       "            if (fig.imageObj.src) {\n",
       "                (window.URL || window.webkitURL).revokeObjectURL(\n",
       "                    fig.imageObj.src);\n",
       "            }\n",
       "\n",
       "            fig.imageObj.src = (window.URL || window.webkitURL).createObjectURL(\n",
       "                evt.data);\n",
       "            fig.updated_canvas_event();\n",
       "            fig.waiting = false;\n",
       "            return;\n",
       "        }\n",
       "        else if (typeof evt.data === 'string' && evt.data.slice(0, 21) == \"data:image/png;base64\") {\n",
       "            fig.imageObj.src = evt.data;\n",
       "            fig.updated_canvas_event();\n",
       "            fig.waiting = false;\n",
       "            return;\n",
       "        }\n",
       "\n",
       "        var msg = JSON.parse(evt.data);\n",
       "        var msg_type = msg['type'];\n",
       "\n",
       "        // Call the  \"handle_{type}\" callback, which takes\n",
       "        // the figure and JSON message as its only arguments.\n",
       "        try {\n",
       "            var callback = fig[\"handle_\" + msg_type];\n",
       "        } catch (e) {\n",
       "            console.log(\"No handler for the '\" + msg_type + \"' message type: \", msg);\n",
       "            return;\n",
       "        }\n",
       "\n",
       "        if (callback) {\n",
       "            try {\n",
       "                // console.log(\"Handling '\" + msg_type + \"' message: \", msg);\n",
       "                callback(fig, msg);\n",
       "            } catch (e) {\n",
       "                console.log(\"Exception inside the 'handler_\" + msg_type + \"' callback:\", e, e.stack, msg);\n",
       "            }\n",
       "        }\n",
       "    };\n",
       "}\n",
       "\n",
       "// from http://stackoverflow.com/questions/1114465/getting-mouse-location-in-canvas\n",
       "mpl.findpos = function(e) {\n",
       "    //this section is from http://www.quirksmode.org/js/events_properties.html\n",
       "    var targ;\n",
       "    if (!e)\n",
       "        e = window.event;\n",
       "    if (e.target)\n",
       "        targ = e.target;\n",
       "    else if (e.srcElement)\n",
       "        targ = e.srcElement;\n",
       "    if (targ.nodeType == 3) // defeat Safari bug\n",
       "        targ = targ.parentNode;\n",
       "\n",
       "    // jQuery normalizes the pageX and pageY\n",
       "    // pageX,Y are the mouse positions relative to the document\n",
       "    // offset() returns the position of the element relative to the document\n",
       "    var x = e.pageX - $(targ).offset().left;\n",
       "    var y = e.pageY - $(targ).offset().top;\n",
       "\n",
       "    return {\"x\": x, \"y\": y};\n",
       "};\n",
       "\n",
       "/*\n",
       " * return a copy of an object with only non-object keys\n",
       " * we need this to avoid circular references\n",
       " * http://stackoverflow.com/a/24161582/3208463\n",
       " */\n",
       "function simpleKeys (original) {\n",
       "  return Object.keys(original).reduce(function (obj, key) {\n",
       "    if (typeof original[key] !== 'object')\n",
       "        obj[key] = original[key]\n",
       "    return obj;\n",
       "  }, {});\n",
       "}\n",
       "\n",
       "mpl.figure.prototype.mouse_event = function(event, name) {\n",
       "    var canvas_pos = mpl.findpos(event)\n",
       "\n",
       "    if (name === 'button_press')\n",
       "    {\n",
       "        this.canvas.focus();\n",
       "        this.canvas_div.focus();\n",
       "    }\n",
       "\n",
       "    var x = canvas_pos.x * mpl.ratio;\n",
       "    var y = canvas_pos.y * mpl.ratio;\n",
       "\n",
       "    this.send_message(name, {x: x, y: y, button: event.button,\n",
       "                             step: event.step,\n",
       "                             guiEvent: simpleKeys(event)});\n",
       "\n",
       "    /* This prevents the web browser from automatically changing to\n",
       "     * the text insertion cursor when the button is pressed.  We want\n",
       "     * to control all of the cursor setting manually through the\n",
       "     * 'cursor' event from matplotlib */\n",
       "    event.preventDefault();\n",
       "    return false;\n",
       "}\n",
       "\n",
       "mpl.figure.prototype._key_event_extra = function(event, name) {\n",
       "    // Handle any extra behaviour associated with a key event\n",
       "}\n",
       "\n",
       "mpl.figure.prototype.key_event = function(event, name) {\n",
       "\n",
       "    // Prevent repeat events\n",
       "    if (name == 'key_press')\n",
       "    {\n",
       "        if (event.which === this._key)\n",
       "            return;\n",
       "        else\n",
       "            this._key = event.which;\n",
       "    }\n",
       "    if (name == 'key_release')\n",
       "        this._key = null;\n",
       "\n",
       "    var value = '';\n",
       "    if (event.ctrlKey && event.which != 17)\n",
       "        value += \"ctrl+\";\n",
       "    if (event.altKey && event.which != 18)\n",
       "        value += \"alt+\";\n",
       "    if (event.shiftKey && event.which != 16)\n",
       "        value += \"shift+\";\n",
       "\n",
       "    value += 'k';\n",
       "    value += event.which.toString();\n",
       "\n",
       "    this._key_event_extra(event, name);\n",
       "\n",
       "    this.send_message(name, {key: value,\n",
       "                             guiEvent: simpleKeys(event)});\n",
       "    return false;\n",
       "}\n",
       "\n",
       "mpl.figure.prototype.toolbar_button_onclick = function(name) {\n",
       "    if (name == 'download') {\n",
       "        this.handle_save(this, null);\n",
       "    } else {\n",
       "        this.send_message(\"toolbar_button\", {name: name});\n",
       "    }\n",
       "};\n",
       "\n",
       "mpl.figure.prototype.toolbar_button_onmouseover = function(tooltip) {\n",
       "    this.message.textContent = tooltip;\n",
       "};\n",
       "mpl.toolbar_items = [[\"Home\", \"Reset original view\", \"fa fa-home icon-home\", \"home\"], [\"Back\", \"Back to  previous view\", \"fa fa-arrow-left icon-arrow-left\", \"back\"], [\"Forward\", \"Forward to next view\", \"fa fa-arrow-right icon-arrow-right\", \"forward\"], [\"\", \"\", \"\", \"\"], [\"Pan\", \"Pan axes with left mouse, zoom with right\", \"fa fa-arrows icon-move\", \"pan\"], [\"Zoom\", \"Zoom to rectangle\", \"fa fa-square-o icon-check-empty\", \"zoom\"], [\"\", \"\", \"\", \"\"], [\"Download\", \"Download plot\", \"fa fa-floppy-o icon-save\", \"download\"]];\n",
       "\n",
       "mpl.extensions = [\"eps\", \"jpeg\", \"pdf\", \"png\", \"ps\", \"raw\", \"svg\", \"tif\"];\n",
       "\n",
       "mpl.default_extension = \"png\";var comm_websocket_adapter = function(comm) {\n",
       "    // Create a \"websocket\"-like object which calls the given IPython comm\n",
       "    // object with the appropriate methods. Currently this is a non binary\n",
       "    // socket, so there is still some room for performance tuning.\n",
       "    var ws = {};\n",
       "\n",
       "    ws.close = function() {\n",
       "        comm.close()\n",
       "    };\n",
       "    ws.send = function(m) {\n",
       "        //console.log('sending', m);\n",
       "        comm.send(m);\n",
       "    };\n",
       "    // Register the callback with on_msg.\n",
       "    comm.on_msg(function(msg) {\n",
       "        //console.log('receiving', msg['content']['data'], msg);\n",
       "        // Pass the mpl event to the overridden (by mpl) onmessage function.\n",
       "        ws.onmessage(msg['content']['data'])\n",
       "    });\n",
       "    return ws;\n",
       "}\n",
       "\n",
       "mpl.mpl_figure_comm = function(comm, msg) {\n",
       "    // This is the function which gets called when the mpl process\n",
       "    // starts-up an IPython Comm through the \"matplotlib\" channel.\n",
       "\n",
       "    var id = msg.content.data.id;\n",
       "    // Get hold of the div created by the display call when the Comm\n",
       "    // socket was opened in Python.\n",
       "    var element = $(\"#\" + id);\n",
       "    var ws_proxy = comm_websocket_adapter(comm)\n",
       "\n",
       "    function ondownload(figure, format) {\n",
       "        window.open(figure.imageObj.src);\n",
       "    }\n",
       "\n",
       "    var fig = new mpl.figure(id, ws_proxy,\n",
       "                           ondownload,\n",
       "                           element.get(0));\n",
       "\n",
       "    // Call onopen now - mpl needs it, as it is assuming we've passed it a real\n",
       "    // web socket which is closed, not our websocket->open comm proxy.\n",
       "    ws_proxy.onopen();\n",
       "\n",
       "    fig.parent_element = element.get(0);\n",
       "    fig.cell_info = mpl.find_output_cell(\"<div id='\" + id + \"'></div>\");\n",
       "    if (!fig.cell_info) {\n",
       "        console.error(\"Failed to find cell for figure\", id, fig);\n",
       "        return;\n",
       "    }\n",
       "\n",
       "    var output_index = fig.cell_info[2]\n",
       "    var cell = fig.cell_info[0];\n",
       "\n",
       "};\n",
       "\n",
       "mpl.figure.prototype.handle_close = function(fig, msg) {\n",
       "    var width = fig.canvas.width/mpl.ratio\n",
       "    fig.root.unbind('remove')\n",
       "\n",
       "    // Update the output cell to use the data from the current canvas.\n",
       "    fig.push_to_output();\n",
       "    var dataURL = fig.canvas.toDataURL();\n",
       "    // Re-enable the keyboard manager in IPython - without this line, in FF,\n",
       "    // the notebook keyboard shortcuts fail.\n",
       "    IPython.keyboard_manager.enable()\n",
       "    $(fig.parent_element).html('<img src=\"' + dataURL + '\" width=\"' + width + '\">');\n",
       "    fig.close_ws(fig, msg);\n",
       "}\n",
       "\n",
       "mpl.figure.prototype.close_ws = function(fig, msg){\n",
       "    fig.send_message('closing', msg);\n",
       "    // fig.ws.close()\n",
       "}\n",
       "\n",
       "mpl.figure.prototype.push_to_output = function(remove_interactive) {\n",
       "    // Turn the data on the canvas into data in the output cell.\n",
       "    var width = this.canvas.width/mpl.ratio\n",
       "    var dataURL = this.canvas.toDataURL();\n",
       "    this.cell_info[1]['text/html'] = '<img src=\"' + dataURL + '\" width=\"' + width + '\">';\n",
       "}\n",
       "\n",
       "mpl.figure.prototype.updated_canvas_event = function() {\n",
       "    // Tell IPython that the notebook contents must change.\n",
       "    IPython.notebook.set_dirty(true);\n",
       "    this.send_message(\"ack\", {});\n",
       "    var fig = this;\n",
       "    // Wait a second, then push the new image to the DOM so\n",
       "    // that it is saved nicely (might be nice to debounce this).\n",
       "    setTimeout(function () { fig.push_to_output() }, 1000);\n",
       "}\n",
       "\n",
       "mpl.figure.prototype._init_toolbar = function() {\n",
       "    var fig = this;\n",
       "\n",
       "    var nav_element = $('<div/>')\n",
       "    nav_element.attr('style', 'width: 100%');\n",
       "    this.root.append(nav_element);\n",
       "\n",
       "    // Define a callback function for later on.\n",
       "    function toolbar_event(event) {\n",
       "        return fig.toolbar_button_onclick(event['data']);\n",
       "    }\n",
       "    function toolbar_mouse_event(event) {\n",
       "        return fig.toolbar_button_onmouseover(event['data']);\n",
       "    }\n",
       "\n",
       "    for(var toolbar_ind in mpl.toolbar_items){\n",
       "        var name = mpl.toolbar_items[toolbar_ind][0];\n",
       "        var tooltip = mpl.toolbar_items[toolbar_ind][1];\n",
       "        var image = mpl.toolbar_items[toolbar_ind][2];\n",
       "        var method_name = mpl.toolbar_items[toolbar_ind][3];\n",
       "\n",
       "        if (!name) { continue; };\n",
       "\n",
       "        var button = $('<button class=\"btn btn-default\" href=\"#\" title=\"' + name + '\"><i class=\"fa ' + image + ' fa-lg\"></i></button>');\n",
       "        button.click(method_name, toolbar_event);\n",
       "        button.mouseover(tooltip, toolbar_mouse_event);\n",
       "        nav_element.append(button);\n",
       "    }\n",
       "\n",
       "    // Add the status bar.\n",
       "    var status_bar = $('<span class=\"mpl-message\" style=\"text-align:right; float: right;\"/>');\n",
       "    nav_element.append(status_bar);\n",
       "    this.message = status_bar[0];\n",
       "\n",
       "    // Add the close button to the window.\n",
       "    var buttongrp = $('<div class=\"btn-group inline pull-right\"></div>');\n",
       "    var button = $('<button class=\"btn btn-mini btn-primary\" href=\"#\" title=\"Stop Interaction\"><i class=\"fa fa-power-off icon-remove icon-large\"></i></button>');\n",
       "    button.click(function (evt) { fig.handle_close(fig, {}); } );\n",
       "    button.mouseover('Stop Interaction', toolbar_mouse_event);\n",
       "    buttongrp.append(button);\n",
       "    var titlebar = this.root.find($('.ui-dialog-titlebar'));\n",
       "    titlebar.prepend(buttongrp);\n",
       "}\n",
       "\n",
       "mpl.figure.prototype._root_extra_style = function(el){\n",
       "    var fig = this\n",
       "    el.on(\"remove\", function(){\n",
       "\tfig.close_ws(fig, {});\n",
       "    });\n",
       "}\n",
       "\n",
       "mpl.figure.prototype._canvas_extra_style = function(el){\n",
       "    // this is important to make the div 'focusable\n",
       "    el.attr('tabindex', 0)\n",
       "    // reach out to IPython and tell the keyboard manager to turn it's self\n",
       "    // off when our div gets focus\n",
       "\n",
       "    // location in version 3\n",
       "    if (IPython.notebook.keyboard_manager) {\n",
       "        IPython.notebook.keyboard_manager.register_events(el);\n",
       "    }\n",
       "    else {\n",
       "        // location in version 2\n",
       "        IPython.keyboard_manager.register_events(el);\n",
       "    }\n",
       "\n",
       "}\n",
       "\n",
       "mpl.figure.prototype._key_event_extra = function(event, name) {\n",
       "    var manager = IPython.notebook.keyboard_manager;\n",
       "    if (!manager)\n",
       "        manager = IPython.keyboard_manager;\n",
       "\n",
       "    // Check for shift+enter\n",
       "    if (event.shiftKey && event.which == 13) {\n",
       "        this.canvas_div.blur();\n",
       "        event.shiftKey = false;\n",
       "        // Send a \"J\" for go to next cell\n",
       "        event.which = 74;\n",
       "        event.keyCode = 74;\n",
       "        manager.command_mode();\n",
       "        manager.handle_keydown(event);\n",
       "    }\n",
       "}\n",
       "\n",
       "mpl.figure.prototype.handle_save = function(fig, msg) {\n",
       "    fig.ondownload(fig, null);\n",
       "}\n",
       "\n",
       "\n",
       "mpl.find_output_cell = function(html_output) {\n",
       "    // Return the cell and output element which can be found *uniquely* in the notebook.\n",
       "    // Note - this is a bit hacky, but it is done because the \"notebook_saving.Notebook\"\n",
       "    // IPython event is triggered only after the cells have been serialised, which for\n",
       "    // our purposes (turning an active figure into a static one), is too late.\n",
       "    var cells = IPython.notebook.get_cells();\n",
       "    var ncells = cells.length;\n",
       "    for (var i=0; i<ncells; i++) {\n",
       "        var cell = cells[i];\n",
       "        if (cell.cell_type === 'code'){\n",
       "            for (var j=0; j<cell.output_area.outputs.length; j++) {\n",
       "                var data = cell.output_area.outputs[j];\n",
       "                if (data.data) {\n",
       "                    // IPython >= 3 moved mimebundle to data attribute of output\n",
       "                    data = data.data;\n",
       "                }\n",
       "                if (data['text/html'] == html_output) {\n",
       "                    return [cell, data, j];\n",
       "                }\n",
       "            }\n",
       "        }\n",
       "    }\n",
       "}\n",
       "\n",
       "// Register the function which deals with the matplotlib target/channel.\n",
       "// The kernel may be null if the page has been refreshed.\n",
       "if (IPython.notebook.kernel != null) {\n",
       "    IPython.notebook.kernel.comm_manager.register_target('matplotlib', mpl.mpl_figure_comm);\n",
       "}\n"
      ],
      "text/plain": [
       "<IPython.core.display.Javascript object>"
      ]
     },
     "metadata": {},
     "output_type": "display_data"
    },
    {
     "data": {
      "text/html": [
       "<img src=\"data:image/png;base64,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\" width=\"800\">"
      ],
      "text/plain": [
       "<IPython.core.display.HTML object>"
      ]
     },
     "metadata": {},
     "output_type": "display_data"
    },
    {
     "data": {
      "application/vnd.jupyter.widget-view+json": {
       "model_id": "744f5bd07eb74c22980908e5e273e78f",
       "version_major": 2,
       "version_minor": 0
      },
      "text/plain": [
       "HBox(children=(IntProgress(value=0, max=300), HTML(value='')))"
      ]
     },
     "metadata": {},
     "output_type": "display_data"
    },
    {
     "name": "stdout",
     "output_type": "stream",
     "text": [
      "Hey, I think you've had enough! Let's stop here.\n"
     ]
    }
   ],
   "source": [
    "#@@@@@@@@@@@@@@@@@@@\n",
    "# Learning variables\n",
    "#@@@@@@@@@@@@@@@@@@@\n",
    "q_values = np.zeros((n_states,n_actions)) #initialize to zero\n",
    "#q_values = np.load(\"Q_values.npy\") # or re-use the one already trained\n",
    "reward_score = np.zeros(MAX_EPOCHS)\n",
    "halite_score = np.zeros(MAX_EPOCHS)\n",
    "shipy_pass = np.zeros(MAX_EPOCHS)\n",
    "epochs = 0\n",
    "\n",
    "# visualize online the results\n",
    "%matplotlib notebook\n",
    "fig = plt.figure(figsize = (8,6))\n",
    "plt.ion()\n",
    "\n",
    "ax1 = fig.add_subplot(221)\n",
    "ax1.set_xlim(0,MAX_EPOCHS+1)\n",
    "ax1.set_ylim(0,8000)\n",
    "ax1.set_xlabel(\"Epochs\", fontsize = 14)\n",
    "ax1.set_ylabel(\"Halite collected\", fontsize = 14)\n",
    "\n",
    "ax2 = fig.add_subplot(222)\n",
    "ax2.set_xlim(0,MAX_EPOCHS+1)\n",
    "ax2.set_ylim(-4,4)\n",
    "ax2.set_xlabel(\"Epochs\", fontsize = 14)\n",
    "ax2.set_ylabel(\"Reward\", fontsize = 14)\n",
    "\n",
    "\n",
    "ax3 = fig.add_subplot(223)\n",
    "ax3.set_xlim(0,MAX_EPOCHS+1)\n",
    "ax3.set_ylim(0,0.5)\n",
    "ax3.set_xlabel(\"Epochs\", fontsize = 14)\n",
    "ax3.set_ylabel(\"Epsilon\", fontsize = 14)\n",
    "\n",
    "\n",
    "ax4 = fig.add_subplot(224)\n",
    "ax4.set_xlim(0,MAX_EPOCHS+1)\n",
    "ax4.set_xlabel(\"Epochs\", fontsize = 14)\n",
    "ax4.set_ylabel(\"Shipyard passages\", fontsize = 14)\n",
    "\n",
    "plt.tight_layout()\n",
    "fig.show()\n",
    "fig.canvas.draw()\n",
    "\n",
    "from tqdm import tnrange\n",
    "\n",
    "for k in tnrange(MAX_EPOCHS):\n",
>>>>>>> master
    "    #@@@@@@@@@@@@@@@@@@@@@@\n",
    "    # here starts an epoch\n",
    "    #@@@@@@@@@@@@@@@@@@@@@@\n",
    "    epochs = epochs + 1\n",
<<<<<<< HEAD
    "    reward_progress = np.zeros(n_batch) # bunch of 100 episodes\n",
    "    eps = 0.5 # starting value of epsilon\n",
    "    # generate an adaptive epsilon greedy algorithm, has to be calibrated\n",
    "    epsilons = np.array(list(map(lambda i : eps*np.exp(-i/100), np.arange(0,max_epochs+1))))\n",
    "    \n",
    "    for i in range(n_batch):\n",
    "        #@@@@@@@@@@@@@@@@@@@@@@@@\n",
    "        # here starts an episode\n",
    "        #@@@@@@@@@@@@@@@@@@@@@@@@\n",
    "        s_dec = [0,4] # init state: top corners\n",
    "        s_enc = encode(s_dec, 25) # encoded state used to have a scalar index to access the states; 25 singular states\n",
    "        steps = 0\n",
    "        reward = 0\n",
    "        \n",
    "        while True:\n",
    "            steps = steps + 1\n",
    "            \n",
    "            a_enc = e_greedy_pol_v1(s_enc, q_values, eps = epsilons[epochs])\n",
    "            a_dec = decode(a_enc, 4) # 4 singular actions\n",
    "            \n",
    "            sp_dec, r = turn_v2(s_dec, a_dec) # interacts with the environment \n",
    "            sp_enc = encode(sp_dec, 25) # encode to scalar state\n",
    "            reward = reward + r\n",
    "            \n",
    "            a_temp_enc = greedy_pol_v0(sp_enc, q_values)\n",
    "            a_temp_dec = decode(a_temp_enc, 4)\n",
    "\n",
    "            q_values = update_q_v0(s_enc, a_enc, r, sp_enc, a_temp_enc, q_values, gamma = discount_factor)\n",
    "            \n",
    "            # update states\n",
    "            s_enc = sp_enc\n",
    "            s_dec = sp_dec\n",
    "            \n",
    "            \n",
    "            # terminal states are 2 and 24\n",
    "            if (s_dec[0] == 2 and s_dec[1] == 24) or (s_dec[1] == 2 and s_dec[0] == 24):\n",
    "                #print(\"Terminal state reached at step %d.\"%steps)\n",
    "                reward_progress[i] = reward\n",
    "                game_progress[i] = steps\n",
    "                terminal_states[:,i] = s_dec\n",
    "                break\n",
    "            \"\"\"if (s_dec[0] == s_dec[1]):\n",
    "                #print(\"Agent crushed one on each other.\") \n",
    "                #game_progress[i] = 100 # assign 100 equals to failure (and the -100 reward accounts for the accident)\n",
    "                #break\"\"\"\n",
    "            if steps >= 100:\n",
    "                #print(\"Too much time has passed. Game Over.\")\n",
    "                reward_progress[i] = reward\n",
    "                game_progress[i] = steps\n",
    "                terminal_states[:,i] = s_dec\n",
    "                break\n",
    "    \n",
    "    print(\"Average reward per episode in epoch %d: \"%epochs, reward_progress.mean())\n",
    "    reward_score[epochs-1] = reward_progress.mean()\n",
    "\n",
    "    if epochs >= max_epochs:\n",
=======
    "    reward_progress = np.zeros(N_BATCH) # bunch of 100 episodes\n",
    "    halite_progress = np.zeros(N_BATCH) # bunch of 100 episodes\n",
    "    shipy_pass_progress = np.zeros(N_BATCH) # bunch of 100 episodes\n",
    "    eps = 0.5 # starting value of epsilon\n",
    "    # generate an adaptive epsilon greedy algorithm, calibrated in order to have epsilon = 10^-4 at the last epoch\n",
    "    epsilons = np.array(list(map(lambda i : eps*np.exp(-i*2*np.log(10)/MAX_EPOCHS), np.arange(0,MAX_EPOCHS+1))))\n",
    "    \n",
    "    for i in range(N_BATCH):\n",
    "        #@@@@@@@@@@@@@@@@@@@@@@@@\n",
    "        # here starts an episode\n",
    "        #@@@@@@@@@@@@@@@@@@@@@@@@\n",
    "        env = Env.HaliteEnv(NUM_PLAYERS, MAP_SIZE, episode_lenght = TOT_TURNS) # init environment\n",
    "        steps = 0\n",
    "        reward = 0 # cumulative reward of the episode\n",
    "        passages = 0 # number of times the ship passes through the shipyard\n",
    "        \n",
    "        # first mandatory step\n",
    "        steps = steps + 1\n",
    "        #print(\"\\nStep number %d:\"%steps)\n",
    "        action_matrix = np.full((MAP_SIZE,MAP_SIZE), -1) # no ship, no action\n",
    "        shipyard_action = 1 # initially always choose to create a ship\n",
    "        # returns the matricial state, the array of players halite and a flag that is true if it's the final turn\n",
    "        state, players_halite, finish, _ = env.step(action_matrix, makeship = shipyard_action) \n",
    "        #print(\"Cargo layer: \\n\", state[:,:,2])\n",
    "        current_halite = players_halite[0][0]\n",
    "        s_enc = encode_state(state, map_size = MAP_SIZE, h_lev = H_LEV, n_actions = N_ACTIONS, debug=False)\n",
    "        \n",
    "        while True:\n",
    "            steps = steps + 1\n",
    "            #print(\"\\nStep number %d:\"%steps)\n",
    "            #print(\"Current halite: \", current_halite)\n",
    "            a_enc = e_greedy_policy(s_enc, q_values, eps = epsilons[epochs])\n",
    "            a_mat = scalar_to_matrix_action(a_enc, state, map_size = MAP_SIZE)\n",
    "            \n",
    "            # submit the action and get the new state\n",
    "            state, players_halite, finish, _ = env.step(a_mat, makeship = False) \n",
    "            #print(\"Cargo layer: \\n\", state[:,:,2])\n",
    "            new_halite = players_halite[0][0]\n",
    "            #print(\"New halite: \", new_halite)\n",
    "            # compute the 1--ship reward as the halite increment of the player divided by the max halite \n",
    "            # plus a standard negative reward \n",
    "            r = (new_halite - current_halite)/1000 + STD_REWARD\n",
    "            #print(\"Reward obtained: \", r)\n",
    "            sp_enc = encode_state(state, map_size = MAP_SIZE, h_lev = H_LEV, n_actions = N_ACTIONS, debug=False)\n",
    "            reward = reward + r # cumulative reward of the episode, obsolete\n",
    "            \n",
    "            s_dec = decode3D(s_enc, L1 = N_CELLS, L2 = H_LEV**6, L3 = N_ACTIONS-1)\n",
    "            sp_dec = decode3D(sp_enc, L1 = N_CELLS, L2 = H_LEV**6, L3 = N_ACTIONS-1)\n",
    "            shipy_pos = (N_CELLS-1)/2 #shipyard is at the center of the map\n",
    "            if (sp_dec[0] == shipy_pos and s_dec[0] != shipy_pos):\n",
    "                passages = passages +1\n",
    "            \n",
    "            a_temp_enc = greedy_policy(sp_enc, q_values) # simulate the best action in the new state (before update)\n",
    "            \n",
    "            # update Q-values\n",
    "            #q_values = update_q_v0(s_enc, a_enc, r, sp_enc, a_temp_enc, q_values, gamma = discount_factor)\n",
    "            q_values = update_q_v1(s_enc, a_enc, r, sp_enc, a_temp_enc, q_values, gamma = DISCOUNT_FACTOR, \n",
    "                                n_cells = N_CELLS, h_lev = H_LEV, n_actions = N_ACTIONS, alpha = LEARNING_RATE)\n",
    "            # update states and halite\n",
    "            s_enc = sp_enc\n",
    "            current_halite = new_halite\n",
    "            \n",
    "            if (finish == True) or (steps >= 400):\n",
    "                #print(\"End episode.\")\n",
    "                reward_progress[i] = reward\n",
    "                halite_progress[i] = current_halite - 4000\n",
    "                shipy_pass_progress[i] = passages\n",
    "                break\n",
    "        #break # play just 1 episode\n",
    "                \n",
    "    #break # play just 1 epoch\n",
    "    \n",
    "    #print(\"Average reward per episode in epoch %d: %.3f\"%(epochs, reward_progress.mean()))\n",
    "    #print(\"Average halite collected per episode in epoch %d: %.3f\"%(epochs,halite_progress.mean()))\n",
    "    #print(\"Espilon value: %.4f \\n\"%epsilons[epochs])\n",
    "    reward_score[epochs-1] = reward_progress.mean()\n",
    "    halite_score[epochs-1] = halite_progress.mean()\n",
    "    shipy_pass[epochs-1] = shipy_pass_progress.mean()\n",
    "    \n",
    "    ax1.scatter(epochs, halite_score[epochs-1], s = 10, color='blue')\n",
    "    ax2.scatter(epochs, reward_score[epochs-1], s = 10,color='blue')\n",
    "    ax3.scatter(epochs, epsilons[epochs], s = 10, color='blue')\n",
    "    ax4.scatter(epochs, shipy_pass[epochs-1], s = 10, color='blue')\n",
    "    fig.canvas.draw()\n",
    "    \n",
    "    if epochs >= MAX_EPOCHS:\n",
>>>>>>> master
    "        print(\"Hey, I think you've had enough! Let's stop here.\")\n",
    "        break"
   ]
  },
  {
   "cell_type": "code",
<<<<<<< HEAD
   "execution_count": null,
   "metadata": {},
   "outputs": [],
   "source": []
  }
 ],
 "metadata": {
  "kernelspec": {
   "display_name": "Python 3",
   "language": "python",
   "name": "python3"
  },
  "language_info": {
   "codemirror_mode": {
    "name": "ipython",
    "version": 3
   },
   "file_extension": ".py",
   "mimetype": "text/x-python",
   "name": "python",
   "nbconvert_exporter": "python",
   "pygments_lexer": "ipython3",
   "version": "3.7.3"
  }
 },
 "nbformat": 4,
 "nbformat_minor": 2
}
{
 "cells": [
  {
   "cell_type": "markdown",
   "metadata": {},
   "source": [
    "# Halite challenge - basics"
=======
   "execution_count": 147,
   "metadata": {},
   "outputs": [],
   "source": [
    "#np.save(\"Q_values\", q_values)\n",
    "q_values = np.load(\"Q_values.npy\")"
   ]
  },
  {
   "cell_type": "code",
   "execution_count": 148,
   "metadata": {},
   "outputs": [
    {
     "data": {
      "image/png": "iVBORw0KGgoAAAANSUhEUgAAAYkAAAEOCAYAAAB8aOvdAAAABHNCSVQICAgIfAhkiAAAAAlwSFlzAAALEgAACxIB0t1+/AAAADl0RVh0U29mdHdhcmUAbWF0cGxvdGxpYiB2ZXJzaW9uIDIuMi4zLCBodHRwOi8vbWF0cGxvdGxpYi5vcmcvIxREBQAAIABJREFUeJzsvXmYHVWd//8+t6ru3nt39j0hJOwJiyyKAWRAx20cVJwZFVFRZ/yKjivOuOvPBXV0dGYUB3eHQcVlVFQQWQXBEAIEAiRkIZ2103vftaru+f1RdU6dqlt1+3bn9k0vn9fz5En37bpV5y513uezHsY5B0EQBEGEETveAyAIgiCmLyQSBEEQRCQkEgRBEEQkJBIEQRBEJCQSBEEQRCQkEgRBEEQkJBIEQRBEJCQSBEEQRCQkEgRBEEQk+vEewLHS3d3NV6xYcbyHQRAEMaN4+OGHj3LOe8Y7bsaLxIoVK7B58+bjPQyCIIgZBWNsbz3HkbuJIAiCiIREgiAIgoiERIIgCIKIZMbHJAiCICaLaZro7e1FsVg83kOZMpLJJJYsWQLDMCb1fBIJgiDmLL29vWhpacGKFSvAGDvew2k4nHP09/ejt7cXK1eunNQ5yN1EEMScpVgsoqura1YKBAAwxtDV1XVMlhKJBEEQc5rZKhCCY319JBIEMQs5MlLE7584dLyHQcwCSCQIYhZy81/24R0/fBiWXTneQyHGgTGG17/+9fJ3y7LQ09ODl770pQCA7373u+jp6cGGDRtwwgkn4LLLLsP9998vj7/qqquwcuVKnHHGGdi4cSMeeOCBho6PRIIgZiEF00aFA2USiWlPJpPBtm3bUCgUAAC33347Fi9e7Dvmta99LR555BHs2LEDH/rQh/CqV70K27dvl3+//vrrsXXrVnzuc5/D2972toaOj0SCIGYhpisOpsWP80iIenjxi1+M3/zmNwCAm266Ca973esij73oootwzTXX4IYbbqj624UXXoidO3c2dGyUAksQsxDTdsSBLIn6+cSvnsCTB0Yaes6TFrXiYy87edzjrrzySnzyk5/ES1/6Ujz22GO4+uqrce+990Yev3HjRnzzm9+sevxXv/oVTj311GMacxASCYKYhZQsRxxIJGYGp512Gvbs2YObbroJL3nJS8Y9nnO/hfj+978fn/70p9HT04Mbb7yxoWMjkSCIWYjnbiKRqJd6VvxTyctf/nK8733vw1133YX+/v6axz7yyCNYv369/P3666/HFVdcMSXjIpEgiFmIEAmyJGYOV199Ndra2nDqqafirrvuijzu7rvvxg033IA777yzKeMikSCIWYgUCbIkZgxLlizBtddeG/q3m2++Gffddx/y+TxWrlyJW265xWdJTCUkEgQxCxHiYJIlMe0ZGxuremzTpk3YtGkTAKcO4qqrrop8/ne/+92pGZgLpcASxAxnb38Of9p51PdYWWQ3kSVBHCMkEgQxw/nG3c/i3Tdv9T1mSkuC6iSIY4NEgiBmOEN5E/mS5XtMBKzJ3TQ+wXTS2caxvj4SCYKY4YwWLVkXIRDiEHyc8JNMJtHf3z9rhULsJ5FMJid9DgpcE8QMZ7RowqpwWHYFuuas+yhwXR9LlixBb28v+vr6jvdQpgyxM91kIZEgiBnOaNFxNZUsTyRMcjfVhWEYk96xba5A7iaCmOGMuCJRNG35WJnqJIgGQSJBEDOc0aIJwB9/EN1fyZIgjhVyNxHEDKZsVaQ4FE0bw3kT+4cKSluO2RmQJZpH0ywJxliSMfYQY+xRxtgTjLFPhBxzFWOsjzG21f33lmaNjyBmIsKKABxL4sY/7cZrv/mAdDORu2ny2BUOuzL9RPa5/rzPtTjVNNPdVAJwMef8dABnALicMXZuyHE3c87PcP/9dxPHRxAzjjGlPqJo2hgpmBgtWSi4kwi5mybP236wGR/55bbjPQwfll3Bi796D77/wJ6mXbNp7ibuJCKLJiWG+2/6yTRBzCBEZhPgWBJihWlVKCZxrOztzyNfbt6KvR5GixZyZRv7BgpNu2ZTA9eMMY0xthXAEQC3c84fDDnsbxljjzHGfsoYWxpxnmsYY5sZY5tnc34zMTv58V/2Yf9QY27yEcXdVDTtquI5cjdNnpJVmZYiAQADuXLTrtlUkeCc25zzMwAsAXAOY+yUwCG/ArCCc34agD8A+F7EeW7gnJ/FOT+rp6dnagdNEA2kaNr4wC2P4eIv3tWQ80VZEgLaT2LylK0K8mVr/AObiFgUHB0rNe2axyUFlnM+BOAuAJcHHu/nnItX/y0AZzZ5aAQxpZSVdhmNCIoGRYIsicZRsuzjYknkStHCJD7v/tloSTDGehhj7e7PKQAvAvBU4JiFyq8vB7C9WeMjiGagbif68N7Bqr//4IE9VW2/azEacDcFLQmKSUyeklVBockicWi4iNM/cVvodwPwPu/+WWpJLARwJ2PsMQB/gROT+DVj7JOMsZe7x7zLTY99FMC7AFzVxPERc5QHd/Xje/fvacq1VPfPn3dV72P8lT/swI8376v7fONZEnO5Vfi+gfwxNe4rWRXkmuxu6hstwarwyJiV+LwH8yasJi0Ampnd9BiADSGPf1T5+ToA1zVrTMTcZuu+IRwaLuDtP9wCAHjj+Sum/JqiEhrwp68CTsfOoYJZ08Xx4K5+5Ms2Llo3D0CgTsK0UbICMYk56m46MlLEpi/ehW+94UxcvG7+hJ9v2RVZJ1GpcMRibApGWY1Zcd2REXUQ6uc9kC9jXsvku7vWC1VcE3OWV/7Hn5p+zbLt3fxBV8ZI0YJd4TVdHF/5ww7050q4aN08DOXL+MueQXSkDQzmTTdwHYhJhKw2x0oWfrp5H954/gow1pzJr9kMFUzYFY4jI5Nzy6gWWcG0kUk0Z6q0XMsvqsW7ajn2jzVHJKh3E0G4hLkm8mULj/UONewaZcWSCFoMQ/myvKbgO3/a7XM/HRopyvTHL9/+DLbtH8aHXrwOjIkU2PFjEndsP4yP/+pJ7DhSvbfybEFYUJPdT0N9XjNdTlal9rhHS36RaAYkEgThErbqvvHe3Xj51/+EO7Yfbsg11Ek7GGQezDuuBFU8frK5Fz/fsh+AI2KHR4oYzJuoVDgODRexuieL1569DAk9Fm5JhEw2omts0N3VTPrHStg3kJ+y84vPcrLtK1SxbWbw2rMkxnc39eeaE7wmkSAIl+AECwA5d4L48M8fb4h/XxWiYA7+oGtJFJSJrWjaGC05E8NoyUK+bMOucAwXTBRMG6m4BgBIGppjSdSR3TTmikSzM3dUPnPrdrz9hw9P2fmP2ZIw1c+piSIhYxLh4x4pWujKxAGQJUEQU07S8H/9w4KFFdcFdXikhGcOj457zqcOjeCcz/wh8lgz4OtWEe4mdfIumLb0Qx8ZKcrHB/Jl5Ms20q5IJPQYSmYFReX8KUML7QI7Vqq2WJrN/sHClFYNm8dsSUSL+VRi1hGTWNyRQox5i4qphkSCmLN0pOO+34OTNuAvbNp+cGTcc773x4/iyGgJm/eE57kLS6IlqaMQWC0O5JzJOygSYuV/aLikHCtEwgmoJg0NBdP2WTuZhBZq/Yjz1Tv53bujr67J9sM/fxw/f6S3rnMO5Mqh73ejOPaYhDe2ZoqpKLCs5W5qTRqI67GmZa6RSBBzipGiiUF3BdseEIkwd1OhbGNRWxJJI4btB2tbEgeGCnjigCMkhhaeNSRu7LaUgUJgkpaBa9OWQfRC2bMkDimWRP9YGYWy5bMk1D5OAJBJ6OHuppItzz0eR0aLeP2ND+Hv/zuszZrHvoE8/ufB5/Cemx/F+37yKL51z66axwuRmyoaa0lMfpzfu38PVnzoN3XHf0y7triNFi20JHUkdG3SAjhRSCSIOcVHfrEN77zJqYuI6/6vf9iEki876Y8nLmgd15LYfTTnnSviBhbuhNakUbWSFu4Du8JRtiuoVDhKVgVlu4KSZeOw6m7K+d1NSUPDcCEgEvEokajf3TTsBtMf3jtYs8r3tiedwH5bysDvtx3CvTWqxisVjsF8GeUGtSYJo3SMlkS5Qe6mHz24FwDQO1hfkF4GriNiEqNFEy1JHXE3UaEZkEgQc4pDw0UcHHIm22DFapj7I286E/FJC1uw/dBIzQpedZI+OFTAhk9Wt1cQk7ZjSfivL7KbAGeVX1RcDqNFC4dHilIUBnIlFMpe4DqhxzASEIlsQg93N7mr2nrcPeoK+PdPRGd43fbEIfn6RksWjo5GC8pQwYTQhqnaPEeIsTj/c/35CVUoN8rd1Jo0AABDeXOcIx28FNgod5OFlqThZrM1xw1GIkE0HNOuyBXodKNg2nLiswJB3bAJq1C2kIprOGFeC4byZs3GaupE8GzfGAbzJnYe8buo6nE3Ac7EpLqDhEgs6UghE9fQnytLAQOEJeE/Xzqh1cxuqmeFnCupY4j+TLftH5bjBmp3KR1QUjenyuWkxiRGiyZe9G934xdbD9T9fHUlfyxZYG0pRySO1BBNFasSHbi2bKd1ubAkKCZBzFi+d/8eXPLluyf8PLvC8YM/753SL3++bMtgtFi1CcJiEiI43JFxbna14jWIakmIzJ2xkn+CKauWhBJ7AIDBnPf8fNn2rfTHihaG8iba03F0ZuM4PFKEXeEycB1mSWQSum+y6R3M41O/flKOs54J2r/zXfjnUijbyJVtLO9Ky8f6c2VUIlxJaurm1FkSyr7fBRNlq+Jz16k8fWhUxqkEvmK60jFYEkIkIq4dpFbF9b5Bp5/TorYU4hq5m4gZzMHhIo6OlSbsb360dwgf+cU23P9s/V1QJ4qY0CoVDqvC0dOSwFVuz6Yw873g+v0z7mRcq43zUKGMuBZDS0KXFkc+cLx0N6UNVLh/MhjKl+XKM9jRdbTo9HTKJnR0ZhLodSeMlOG6mwxNCpBI7c0GYhK/23YIN963G3v68/K1BeGc45db90uhVl9vlHtKFHWdsrhNPma7cQeV4YKJ4bzpS30dz+W188gYPvfbpyIFJ4yBXNlnSYj3MSx4XLJsXPaVe/Dm7/2l6nFB3vSed9sTh/CTCTRgFJ9FX52WhAxch7wvT7kxsfULW53Pm0SCmKmIG3+iX2Jh4k/lJu/CxZIrW7BsjgtP6MFbL1wFIHzSFMHhrNu7p1aWykjBRFvaQCqueZZEwKUj3pPWpHM+nxCULMxvTcjrqiv30ZKFnJvN1JWJS5FQs5sEnW7WluNu8iZX8Rz1tQW5b+dRXPu/W3H9750u/mpLiqjPRVgGpyoiAQBHFYvhD08exumfuA3vvGmLz2U3njXz68cO4Bt3P4tdSlJALR7dN4SNn7odt2xxUnFLpi1jP2MhVuAjzzktV0Tm2sHhAkaLphRvxvzfi2t+8DDe/9PH6hqLc33nPPW6m+wa7qbth0YRY8AJ87NIaBSTIGYwRfemmuiXeLz0v0YgBCxXsmHaFRgak6vx8OwmC+m4Lhu81bQk8ibaUo5IiPhEPuCqUAPX6ng458iVLPS0CJGwfKvs0aKFfMlGJq6jMxOXIqRWXAs63IrcbEKXnUyB+kSCwUndfXSfE2MQotiWMqJFQlgSi4Ii4U2M37rXSYl9aPeA35IYRySEi+iJA8M1jxNsdhMFnjrkTPolq6J85tWf3f1uFtaJC1oAAOd99o849eO3ydfamjSOyd0kkg+OjNbpbqolEgdHsLI7g6ShIWFQTIKYwUzWkvBM7an58lcqXK7Ox0omrAqHrjHpEhBpq88cHsU//uhhvOfmrbL1RSahuc+rHZNoTxlI6t6EHZyYRAV0i5v1IibqgmmjwoGerCMSharAtelYEglNtmUAIGMSHWlDPtaVTUCLMcxvdTqE3v3MEQDVaZgFs/q1cDjjOzhSkOPXYkzGUMIQFsPyrjRakrqMTaguFvFcQ4v5REJMxkdGi3h0X3UjxYPDzuQqAuPjEQyuF01bWo9hn92fnnX29Ahmrf1hu/OedWbioe9TvUhLos5utN5CKcTddGgE6xa2AgDFJIiZjZgQJvolljfIFG2m4gsEu5aEHovJSV1MWD99uBe3Pn4IP39kP0ybI21oiiURvaocLjiWRDLuiURwYipbFcS1mLQAhBCI4zxLwq62JMqeJSEQ7qbF7V7Q+E0XrMB//N1GXHHmEqxb0IIP/PQxlK0K9tdhSQgRPexWd+dKNjJxDem4Nq67qSsbxxvOW463vsBx36mWhPo6Dygb6ojXeMPdu3DVdx6Sj5t2BUdGizgkRWL8anegOrGgaEbHJCy7Ijv8DrnBfLFgeGj3AGLMcQuKz3wyDRE9S6LO7CalTqJS4fjm3c+ib7SE0aKJfQMFnOSKBFkSxIymUJ6cSJTlDTI1vlZ1UsyVnJiEoTHEYgxxLSYnrGCmi2NJ6O456nA3KT2hghNxlItLTERCJP71F9tw43275fP63USAdEKT7iQxNgBY0pGSj63syuDyUxYgaWh4x6bVODpWxpbnBn1tpoFwV4+0Am1hcVnIJnQkDK2qjYg6tpShIR3X8f7L1uHvn7cMcS2GPkUk1JqPJw+OYGFb0vf+jBRNDOZNuVD43v17cPEX75Yusm0HhuvaZS5oSZQsO9LdtG+wANPmyMS9QkQ14S2ha2hJGlIc6s1Q8l3ffc+GC2ZdsTbV3fTMkVF89rdP4UcP7pW9wNa5bjGyJIgZwQ//vBcf/eW2qseLEe4m067U9C2bVnVMgnOOHz2411dDEMVgrlwzDhKsO7ArHFrMuQWSRkze0EOBVNJ0XJfZTXUFro1oS8K0K4jrMWkBiElSBFXFJjIF08ZDuwfk80RLjkxcD7ibXEtCEQk1PiF87Xc+7bhPRIC7I22E7pOgTmRD+TJyJQuZhI6UEasRkyijK+uNiTGGnpaE391UrkgB7B0sYFVPRr5OwPvMRRrvEwdGMFayMFay0J1NYLRo+QLhYewbyGOkUG1JyMB14LN41t1PY+PyDgwXnO1A1S69CSOGlqQux3RYcRnVuy1qsCByPCzF3bS7zwnWP/BsvwysC3dTQqfsJmIGcP+zR+XkoxJcjQpuffwgXva1+yILrcI2XNk/VMC//Hwb3vDth0KfI9i2fxgbPnU7vvC7pyOPUVMZcyULZqUieyyJVtuAMzkGJ2It5qz+g6vRwyNFXPWdh9A/VsJoyZKBa3nNkOwmQ4vJibwQcIV0uzEJlY60ISeoTCLgbjIc8Vrc7omEmum0sjsDLcZw51PO53TG0nYAjhiFWRKqFbenP48xVyTU9yfI0bESugLjbk0Zvgm7aNq+Ma7uyTqPu2MQ5966bwg/fbjXl820dr5zbC2B/sofnsELvnAnfudWfsvXY3kxiaCr8Nk+RyQ2LOsA5/BZPoCzWm9NGrInlhp8Flljv3hkPz4WslCS11esr2BdThiqJbG733kPHnluCI88N4SWpI5FrgUW12Oh+59MBSQSxKQpmRXfns0CuToMTCoDuTIq3KtMrlQ4dvWNyVVZOWTDFbFaeqy3duDyXf/7CIDanVpV189I0QTngC4tCVUkTKyZl5XHikk/k9CriuP+vKsfdz3dJ7Nq2lOGbyXfN1rC8z//R/xy6373NToikQ7EJIT4tKaqt8mc15KUWT6ZuIaujDchh2U3JRR3V0LXsKIrjWcOj0GPMZy7qguA49YS78eR0SKu+K/7cWSk6Eu77R3MI+e6m1I1RKJ/rIzujL9ZYtLwp2gWTNtn7azqdiyJvBQJ57pv/t5mvO8nj+LpQ97nKD6LqMyynUfG8JU/7Aj9W4V7K/gqS6JvDN3ZBJZ3OvEcIcTL3N+LplPdLJ6vFuOJ1/a7bYfw4829kZaFakmo98ojzw1ixYd+g/1D/jiRcLeVrYq0JMp2Bbds6cX6Ba1yu9m4Hpsyt2wQEgli0pTtSujqSJj3wZWOmAjExHj/s/24+Et34/Pu6l+6m5SJSrUq9vZH58qLAGe7kuVTPS7VleIIlS4tiRh+sfUArrzhAQzmTazszkCPOX8TE3o2UW1JiJtcuFba0n6RGMyb6B0s4Nr/3YqSZcO0ORK6ErgOWBLZkL2U57Um5ASVTujozFa7m1QSuv+xle6E/KL183H5KQtw9ooOnLigRVZ83/zQPmzeO4jvPbDHJwTDBdMJXCc02Yo8jP5cyeduAuATFdN2GvktUSyJpZ1pXxwo6CZUxUqIRJS75uBwIfRx9XUATs2HOpnv6sthVU9GpiOL91iIxEjRQmvKQL7sJDmoGUpFWf9QdPb8iBCwklmRn5Gp3Cs3/8UpyLv76T7f8WoB6jOHR3HK4lbpplMr2hNkSRAzgZJZ8RVrCaJiEuJxYf6Lm/Ibdz+LbfuHQ+sk1HPcuyO8EptzLs9dK31WFQkxcQh3k4gj/HnXAAZyJXRk4nLiSyuWRFAkRKaOcKE5gevqiRsAfvv4IZQtG4YWk8d8+OeP48+7+muKRE82IRviZeIaMnFNdrANu5YW87cpF6Lx6rOWYP3CVvzk7eejO5sA585kl1Yyt9SV70jBCribKqEr5uGCWdV2XRUV8X9PS0K+3wvbUkgqcY6wlh+nLWlDjAFrempbEuJ7I6yTIKLym3O/Nfls3xhW92TkwkJ8H5d2epNxi1v0OFa0cFiJsZQCWUtRQe2iacukB7VXmHAJlqv2JFdFYgzrF7TiO1edjdakjkvWz5d/i+sxmDafUCX6ZCGRICaNszL239yc88gUWDEBiRtV9dff+vhBn6ktUFdLUZaEaXOvq2iNwHVeWQmLiUO4mxLKZFvhjttIrOBELUImrlcFe0VHWeF/Txl6pEgcGS3CtDkMnUlLgnPg3+/YISfATELHqzYu9rm7urL+ugjGGDrTcSSNGGKKIFx9wUqwkG0sPvTidfjnS9di04nzlPOIwLmFjPJz0aw4IqTFHEui7LibkkYMo0UT5372Dvzb7c/I85i2s692UNwcAXAr6N3POxXXZDxlUXsS6bguvwNhmTqfeeWp+MGbn4f5rh8+KiZRdt04KyNEQm28KM5RNG0M5k0sbk9JkRDWqLpiF11cR4qmr1W6EEwhEocj6iBKVgUt7nuj3itC5IPWgGqZF0wbK7ozOGVxGx792F/h8lMWyL8J4W+GNUEiQUyaklWp6qRq2l6Fr9c/x7/K99IenRv2zOUduO3Jw6ExCdUy2DcQ7lYoRhwfRHRd1WJMThxiZasHVt8d6bgMInuWhFYV/BTuJlFwFVcEoPr6FVknEde8W68jHUeuZIEx51pffs0Z+PQrT5F/V4PCoqivMxOX4iX46MtOwu7P/nXVdZd2pvGuS07wWRgpJbtKuMdyZadfVNLQ0JrSMVI0nSpvGZOo4PBICV+9Y4cM+uYiLCA1xiMWDSlDQ2cmgZShyQC/SKsN+tfb0wbWL2zBBWu65SQbJRJi8n3rhatwwZou2dpEoGbGiXOIgr6ubAJtKUe4DgXcTYBnSYwWLZ+7q2jaGClY8jse1jyQc2c/kKx7DqvC8dShEbzmGw/IAHXQ2g7eTyu6HOFjAfUXIjNVhacqJBIEACeIPFHTtWxVfH5WwF+wVrJs3PJwL07819/hFV+/T96gagWsoTG87LSF2HlkTLbV9rmbbOd8nZk4nhsI37hF9aPXtCRccerKxGWaq+5O1sFip/a0IaufUzXcTaIiWIhHXNN8MQnAyViK6zHkTUsGrhljuPVdL8D6ha0YzJcxWrKQda0E5zlx3/MFQhi6svFIi6Ue1BRcMcnmS44lkTQ0tCYN9I+VULYrriXhv9ZNDz4HQImlJMcXiaShoTsbx6L2JBhjjksqpKbmPS9aizvfu0l+NuLc44nEwrYkfvSWc7GqO+v7u7pPh/j8RAFgZybutfN2rQE1riW6uI4UTIwUTfm3klXxZTuFWRLiNWWlu6mCj/3yCTy0ZwBPujsYBi2oYIxvRXcaYQh3Vcme+uB1tQOUmJOs+vCteOlpC/H1v9tY87j7nz2KQtnGJevno2RVwDncegNnclMn7LJVwaOHnKykR3uH5c0ug7VFx5Uhcr/3ut1Jw2ISa3qy2H7Q2fQnuKryBbprrKyESPS0JDDsri7FuIPVyO3pOLoD7qZsQvdNVLmSpbTddh43dK/NR3vawFDexIK2BKxKBQV3QhaTxkmLWrGkI4V9A3lZjyBQhUF1NwlL4pwVnb5U2Iki9vcezJelyyJXtpFO2EgYTuqnEMBMXKuKPYlsrqhYSlLXPHeT+3/K0PCeS9fKflbpuCYtMPV7s7At6S8YNDTE2PgxCcMVFSHqeozBCnSjFfUoot9UdzYu61aEJSEE0dCYtCRGXEuiJ5vAUN5EybRxRBlzmCUhvscZ6W7i8vsiPt96LYkgzbQkSCQIya8fO4iv/13tY/7rrmdxdKzsioSXvaLF/CmdgJvr3efFEcTqLa+0aGhJetlAwpwvmf5zAMDqeVk8tGcgNEgqxmForKYlUSjbYMxZPQo3kXA3CeESzfM60gYuP3kBxoqez161JOwK92XViMlSDUqLCWV+SxIDY852o2Wrgnja37H10X1DMotIIFa3ANDtprwyBtlC5P9dckLk66yHea4AHhktyayyfNlCydSR1DW0pgzZLymb9G+QdMm6ebhnRx+Kpi0n3fCYhGtJlD1LYuOyDnlMytBCYxIiFiRgjCGT0COzm4SbUoiEEOnWlIGBXNnZzS2hY9QtzgNUS8K5VlvKkBN9Qo/h3g9c5LOGRoomRosmTpzfgh1HxlCyKhgqOOeI67FwkXCfq8YkZHzEXecELQlTsebntSR8CweVRERMYyogdxPhy1gZbw8IxxfrfNHFKkYNyBUCE/yuo2PyJhErOiESo64lIb7woqWCeuNIkXArdMNcTmKl6nQqDa7MvH2U82Xb6cMU96poReD63S86AZ2ZOE5wA8ZtaQOnL23Hp155irRcMgkdubKN/7xrJ9Z95LeyU6r6muKqSLiT3fy2pON/L4vOs0o8IhP33E1JTxhUa0lmWRmaL1B9LIix9Y2W5ESTL9muuymG1qQu/fYLWpM+d9OlJ82HaXM81jsc6W5KGRqsCncD217gWiWptPpQLYmgSACOCEVaEu53JK55NS+AF09Qz5krOzv8HXZdReK9VeshkoaGpZ1p9LQkZOC6b7QE0+byPEXTli6m9Qtb67IkrIonLEK076W8AAAgAElEQVQ4g5O8rbibVkQE4gHF3UQxCaIZqJPyLjcgGUXRrMgKVNGITzWRVZEYypdxeKSEkxc77iQx6RRkTMJENqlXWxJh7iZ38g4LXosJpi1lVAVAT/n473HZV+6RY0vFdaTimsyGEpbEu1+0Fls+cqks+GpPVbtysu5K/wu/exqmzXHPDi/HXYqEHpMN/qRItHiZPE52k3fbdWXiMG2Ow8NFeX5BOq5hw7J2TyQiVpWToS1lIK7FZMYV4EygXuDaE6yF7X6RuHi9kyX1lz0D0e4mpTeVF5PwTzeZhIYDQwU8cWBYBnKBaJEYLyZh6F71POAXCeHeOTpaxiVfuhtf/P3TcoMowMtiUp8PeOInUp2FBVa0bBwZKSEd17C6OxMakxDfS3EO0/a6EAsLajhv4t9uf0b+btpcupJWRriagOjsqKmARILwrUYeH6clc9HdI9qucDmB+ywJxd0kevqLfQbEZKRaEi2KJeFlfFRXXAuR2BOSBuuzJKpqMyrYeWQMA7kyDgwVkI77A8vCkhC8cG0PLlzbI29ClZQbmxBxjM17BuXf8iHuJtGGYmlnynWt2DK7SSB87/sG87I/lGDbxy/Dz95xvttoTpdur0ag9lcSoizqJJJu9pFgUVtKvqaWpI55LUmctLAVdz/TV9PdBPi7sAYD7W84bzn0GMNbv7dZGRdCYy2ZekRCxCTEWBPea1jQloShMdyzow9jJQsV7lxHWGyqoCSVz16LMWQTunRPijhVyaxgwC0iXNSewuGRouy7JKgOXCuLKfce+M3jB/HVO3bIinFLiVnVtiQ0dxxTH7gmkSB8fvzxWjIXLRuce4E/wPOjfvJXT+Lv//tB+bgUicCOZWrbaNWSEAwXLHzgp49i99GcvNE6M3H0tCSwO2SHMjEJtafjKFvhBV9v/8HDuPuZPgzkyr7JSlRcC15xxmJ8/+pzQl/75ScvwHUvXoct/3opACf9VaxQc2UvLiLOv7oni5+8/Ty87PRFbrqnjbJdQVz3rtmZ8faVCE60sRhTsp0SVSmvx4oQCTHJjpUsjBUt193kjKvd3WlPfEZiAt90Yg8e3jsog9th2U2A35IIisSZyzvxNxsW44B7jovXzcMbzl3uc8cJWpKeSHDO8Vy/53YUMQmRxiyus8CtrxDPXzOvBfe7+0cA/oSAlghLAnDahYvEBpHxJl5XJq5jcUcKVoX7iu3EMYAiEoorKdgd+IZ7dmHjp27HM4fHsLQjhdakjnNWdiAKsiSIpqKu/gdytfvei5YbaodPsYL69p92+44Vx6x3s5cEoiBNZDcF3RBHx0r48eZeXPTFu+QEE9diWNWdCRcJy3M3AcA7b3oEX7rtaZ9YiJ5OzqTnXS9sQoqipyWBt71wNdrShmwAuKzTsRZyiiWxsC2JuB7Diu4Mzl7RKXs1hcYklCB8MCCv4mT8RLccmQxCJNQMm0MjRTdw7Uxsi9qc1yfeMzHei9bNg13h+L3bUC9oBflEwv1+JYxqS0h1a1128nx84hWnVB0jzi/e42/duwsXXn+nbJ9t2o51JgRVfJ+6s3HZQj0d17B+QYsv5qZai2rPrETAimxNGdWWhFVBwU0XFtfoDcTLgjGJwXG2bR3IlTFWstDTksRjH78MZy7vDH0v1DFSTIJoCqoloZr0f9p5tKq1tzBv1bbNYiUa5qJJK1W2Auluci2JYK8hldueOAQtxqBrMazqcUSCc47X3fBn3OZOUKq7CQB+89hBfO2PO+XqHnBM9zXzsvj+1ef4do4LFtHVyyLXlbSoPYW4FpOusrgWw7zWJLZ9/DKcuVzJ5ImHu5vUZn3nr+6KvN5nX3UqPvPKUyc11ijmtSSc7CZlNVo0K0jGNWlJLGp3VuNBS2LD0nakDA1PHRqVXXJVPJGIdjcB3l7fQHXPKZVsUpeurV9uPQDAq6Q2La+br3ptQ4tJV2fK0KoWK+pCR1gSuvtd843R7d8EqJZEBcWyjZShYUmHU8sQ3B42aEkcVILbtfYlqec7SZYE0VTUjCARPN62fxhXfechfDXQXVMIinqDiVhDj1oZ7PrP21NGVRO6QtlGyXImzJaEDi3GfDe5yv6hgpxUV3ZnMJAro3ewgAd29eMRd7tLNXCtonYSLVsVrOnJYlVP1pdlE3Q31YvYNGdRe8pXtS2yj4KCmXbdTaZd8QWuVevg/DXRIrG8K1PTRz0ZeloSGMiVq6rIk7oXk1joWhJi4hWWhK7FsNS1osL6TQlBKJhOxlTUZ6xaEkGLUkUNXItVvRoTUyd2Mda4HsNadz+Nss2xbqHzs2iXPqLsGyJiEkFXE+CvwG5PGzLVWmxtK4Q0KBLCkhDnFi1cAPgWMCu7M3jww5fI3+v5Tsq2HE3YU6JpIsEYSzLGHmKMPcoYe4Ix9omQYxKMsZsZYzsZYw8yxlY0a3xzGeEOSMc1jBYtFMo23n3zVpg295nFlu019FOrTUVATm1RLSaZtnR1ZXC+bMuJSUwwUavI0aIlz7vSraTd8tygb9xeTMIvErc+7u0toE7OtQLX9SItibakPG8t11XadZeYNvcdp06wjY45jIfY4CjYRTVpxOTkLV5nSoqE9x4vdVfQYSIhJvzHeofw5MERpAytqggS8GcV1bQkXJHgnEsLQohGOfCephRLQqRO7+obw7oFjiVx4doevP7c5fjvN54tnyMsiTChUntCtSSdOpKSWXFEwtCQ0DXMb01g/5Df3RS0JNRtW9XJvSsT9y2k6nGBymK6GnVBjaKZ38oSgIs552OMMQPAfYyx33LO/6wc82YAg5zzNYyxKwF8HsBrmzjGOYmwDnpaEhgrWfj8757CziNj6M7GfSmtauaQz5JwA3JqI7XWlIEDw0W0pwzEYgxp190COKtLUROh3pwRexFJS0LsZvawW+0bLMQKWhK/VzagKduem6dW4LpehCWxsD0lb+ooa0hcU4xT9XkzxvDBy9dh47L2SY3jWBCtPw4MFbCoLSkDyElDw8K2JPQYw4kLHGGWIqG4DkW31LCCLyHEn/7Ndt+1gqiWRKKGJZFJ6Kjw8BYbTkyi2t2U0GM4z3Xhvez0RehpSeDbV52FDUs7fK8D8NxeYUKldpfNxHUkjJhjSSh9rxa3pyItCfH+DETsrhhMSgi67sLwusjOoopr7kQRRRK+4f4LpqG8AsDH3Z9/CuDrjDHG690rkJgUIs7Qk01g19EcfrftEF5y6gKULe5b/agFT76YhOVs2q42UhMrI7G6V0UiX/aapWUjbs64HgO4O7m7N4RYuYoNiPKKJcGYP0MF8Jv/ZcvLKlItiYkErlWE62dFVwaGdDFFr4TVlWLQpfGOTasnNYZjRaxwhwomFrQmMVpyPpekEcP81iTuv+5i6UJsTxt476Vr8bLTFsnni4CtFVKAGXyNUROfP2BcOyYBOJv1CHJlTyRUF54IshtaDPNaktjzOa/p4cXrvHbbvnHUsCRUN18sxpBwLYmiactrLelISwtXIO4X4W6KKgbsysahxRgSurNvda3FhsCzJGaRuwkAGGMaY2wrgCMAbuecPxg4ZDGAfQDAObcADAOIdtQSDUFYC85ewiYG8mUs7UwjFffvRqb+3Ke6myoco27u+evOWYovvfp0+SX2RMK5URhzJnfhKhDFTMFVZDquIZ3wfMvi/460gR1uVovaHC6pa74bvCWQkqlmFanZTZMNXL9o/Xzc8o7zcOKCFjlBxWvc3KpILGhNRh7XTERsZrhgIq7H5LjEBD+vJSldRIwx/L9LTsAypY22sCTUrB1BcLKNaqXtL2KLno6EWD2gpLCK75AVcDepMYl6aalhSQT7JyWFJeG6mwBg47J29A4WcMf2w/I4sYgRYpwvhbuGRBq1sDjqcYEKq3jWiQTn3OacnwFgCYBzGGPBfLewu6xqmcIYu4Yxtpkxtrmvry/kKQTgrLrC2mw49Qfq5O980bpbnOrfslVBZzqOlBHzu5vMCHeTXcGw6wY4c3kn/vbMJXJVLdowp5VAdqFsY/OeAQDRlkQmrsu0SvVv81uTMuinWhIJI+Zbva5f4M9kUWMBjbAktBiTKYrS3VRjUkop7gQ1f/94IoSbc+c1iHEla6zoVYRlF+ZGCQsAh+EPXEc/R4xNNBYEvJV5OZBWrGY31YsYR5hQBduJOJaEXyT+7nnLsbong8/cul0e1zdaQktCRyahgzFgLCKjqTuwuVV9getZKhICzvkQgLsAXB74Uy+ApQDAGNMBtAEYCHn+DZzzszjnZ/X09EzxaGcm+wby+Jv/vN+3sgGcQNdFX7wLZ3/6D/ImK0p3kzd5dWScgHMh0pLwROJzv30KF15/JwBHBACvH5SIE4gboCMTh1Xh+OJtz2DDsnasne9knIibU7glUnFNPkddEaotG8QmQkXTRlLXfL7+E92sFvF8x93UuJiEiheTqBW49q65cNqIhDemuFvfAdSfVimym8L84vWKRCbudHgFqusTVMTYnjgwjK5MHK1JXSY/BGMS4nXVOl+QWtlNgBNcFt+9pBHDSMEC55AtWOJ6DC8/fTF29eVwcLiA+3YcxZHRIua5e1sYsRg4B8IMV2lJxIUlMf53kjGGuBabXTEJxlgPAJNzPsQYSwF4EZzAtMr/AXgjgAcAXAHgjxSPmBzC5z+spPkB3r4HI0ULNz30HK6+YKWvhbagMx1HMq75Cu1UkRhROnKKymrAS+kU5xTuJmFKOymUOcxvTeCWt58vU0bFDZ1N6BgumEjHvWyYhDL5iowcwOsBJZrSqTe4SHcEnKysCq9uJQ3UFyQcDzFB1RIJVZjCehMdD3wWlR7DAjfdNaxZXRgtSQOnLWnDPzxvefW5lQn6bzYslgHkIIwxtKacluq1hKU7m4AWYzBtjkXtKfSPlaS7KViguHZeC6578TpsOrH+BaSXQBE+hvuvu1j+nNA1uV2t+rl2tzgWwRd//wx+sXU/TpzfgvmuC0/XGMq281yr4t/2VxToyRbndVpA377qbBkXmkqamd20EMD3GGMaHAvmx5zzXzPGPglgM+f8/wDcCOAHjLGdcCyIK5s4vllF2H7RgL+IZyhvYtWHb5W/q20KhCVRcoPSsRiT7ibRpz8MUTUsxEVYFuJmEuJxxZlLfB1Nxc2pioQWUnMwT9l1THU3JQ2/JbFOsSTEUMVkrrpTjEmmwKqIm7qWDzw1wRTHZhC0JF579lL8dPM+vGrjkrrP8X/vfH7o4+pE954XrfXFMoK0Jh2RqLXy12IMPdkEDo0Usag9iaJpe9lNlj8mEYsxvO2FE0sGEBZNVFxEdXkmjZjctEoVFWERPL5/CLa7C90rzlgMwLMOEkYMzAJM28bZKzrw0tMWyfbp4vMw6ly4PP+E7om8xEnTzOymxwBsCHn8o8rPRQCvbtaYZgp/fOowPv5/T+L2f76wZgaISjlSJDxrQK20TRoxX7C3M+PVNxQtG+m4Li2J+a1JWdAURIiCcFO1BSyJfzh3GR7eO4h/3LTG9zwxcYs5OxPXq6wMAJivrMJlnYRVQcLwN+4TbiyVMEuiMe4mV8zqDFxPF9RVcEKPYXF7Cvdfd0mNZ0wOscKOQmQ4jeeimt+WdEUihcMjJaVOooLW+LG1LGGMoSVp1HV/peO6DNanQkTiWXcPlQr3FjXiu5fQHbcT4NxTbzx/hXy+OFe9lkSzmF6jIULZfnAUzw3kZVuCwVwZ/37HjprbjYoe+0GfpSoSarwhaWi+rpmd6bicTL3J2Pk/aktFwItBCItFtNwW51q3oAVffs0ZVbn1IrtJFOal4pqs2vZbEp67yWdJ6DEpJo7gGVW5+XH598au6icak5guxGLeLnr1pF1OlvGKBFuTBmJsfF/8AnfCXdye8u0vEYxJTJZXnrEIF64df3XenjakJa1+l0QGlposMt91j3oioUV+X8T3sxEu0EZCIjEDUHvNA8AfnzqCL9/+jNyMPgzPkvCn3eWVXO0xJa6QMjSZaaTFnG0bxQ1QMG184XdP4VO/fhKAvwI1iFgFFYIxCRlMDJ8shSUhfKwbl3XI/RN8IqFaEqaNSoWj5LqbxHhFWuULTujxWUfBVtLA5FNgVeJ1iITIbmpku+9GICbwiaSLNppWd3fCsIpsFZGiu6g9hUxC8wWuGyH2n3jFKfibDeO72tReZKpV2hVSMKjGJADHkvBiWP7XKz6DqRTsyUAiMQ244Z5n8fobgyUjHurNAHhFRGGdJAVCUGq5m3JKfCJpaDKfuyPtVElLd5Np47YnD8tc95WBjeYB4NTFbfjx286Tv4v4RbBOIsqlICyJ56/pwa/e+Xy86YIVirBUB67FfFK0vN3UxGQthOHfXnsGrnvxevlcbzJnMsukEas2o46YRNp93eetbo4fuV7UFhbHi/Z0dX+vMERgfWFb0re/RLDVyVSjdu5VFxyZhF7VgmZBm9/dFNdjMlU66FYSx0y2VcxUQXtcTwOePjRWc7OfvFJZCnhFRLVFIsLdpLiY1MZuCd2LSYibQA02H1RiEKtCLIlVPRmcs9JrbfzDtzwPP9m8T55DTAJRgUGZ264znLqkzX1OiCXRmkA2oWNBWxI7j4whX/Y2yonFGOJ6zFd5ra7KxM5ljDkCWLYr465e60GXMYnom7sjE8fN15wrX9t0IRXi0msU/7hpdVWrlDCuuXAVLjtlwbjHnbWiAyu60lg9L+u4m9z7omxVGhJbqhefJREQhe6WOPYNOE0py3ZFLmp0Jb5WssIthsQ0dTeRSEwD1H2AwxBiIHd2K4keSNHths1x3E2ZuFa101dCj8HQmOxrIyaQIyOlqrbbQYIFWOes7PSJxrLONDJxLXLPBHGDqBNtRlRca/6WFne894W4Y/sRfPjnj6NQtmWdhDMOfwBenfzU86TiGiq1t86oG9VCqcXzVk2/5gGyFmUKVuIfuHxdXcetcrvzjsfZKzpx1/svAuDuN+6LSTTRkvC5m/zX7c4msG+ggOet6sTmPYMy3VlXYhJ6zN2gKmAxiO+q2YT23xOBRGIa4IiEl2oaxBOJ+i0JYUGom5JseW4Q/W5WRns67uslky/bYMzZqrHTncjF6n7XUX/sQ2zLqRKsSg1y+SkL8IK1PaEdQ9VrqW6DKH/5/NakzIjJlz13E+BsbNPqsyRiys/+lNtGbdhST+B6uiJWwsczJjEZsgkdps1Rsqo3cppqOpWFTtB9KjKcPnj5Ol9cT3z3EkbMiz3o4TGJZuwRMRFIJKYBak1D2GSrrpgAz/1UT0xCfOGOjBTxt/91v8y2aEsZvoZ84hoXrZuHDW7etphAgrvBqRMKY05bh1odPJ3jWKRAAJ4lYYRYEmH582IFfGikiOGCKbOeLjyhB2cs9Vw6PpFQzpM0NOS0aEtsIoibfaZNtMDUWhJTiYhX5Up282MSyh4gVe4mN3i9rCvtW6yo7qao2IP4DJpRRT0RSCSmAWKPXrGJSZCgu0m4fgp1xCTEavmpQ6Pg3JlU9RhDJqGhd9CbJIV/98uvOUM+JsYi8r7DMGKO7zVs17GJkAisuIDamTcpw/nbw24PqJMXOb2avvSa0/3jU86nToQpQ2tYPvpMtiTEe1yr79R0RKRQ50qW07tJP04xicD9evqSdmzZOyQbVwpUd5MRkd3UzH5ME4FEYhogahqi4hLCchB7SecmErh2/99xxHMZpeJOrnbO13Kj+ospJv5dISLRnnaqZA233cAxi4TS6VXgNfiLtiT+ssdp+HbyovCAsCoM6rlThlZ3Zet41JPdNF1JzVBLQlilo0Wr6TGJlKHJfmDBWNyV5yzDlecsq3qOoVVbElF1EjPKkmCM7UZIF9YwOOerGjKiOYiY0AuRIuE8LiZ8L3BdIyYRCFyL9tqAM/nG9Vhoh1gVMfEfHSthYVsSB4e9nj73fuAimDbHRV+8C4A9brXseIjnqyZ4uoa7SbiiNu8dwPzWRGQ/JHWF7OsUGm+kJRG+MpwJyBTYGSZwomvrYL4su9g2C8YYOtNxDObLoTHEMMT3Oq57qdrB75/4LCrTrF3deJbE15WfswD+GcBDcBrwAcB5AM4B8KXGD23uIEUiwjLIlfzFdCJwXaixmbppuXUSroXwjCIS6bhWdVOpvY4ESSVzIygSIs1UTIyNsiTUiTYbUkwnEMVpps3lZvdhRAWuU0asYWmT0pLQju09OB7IjqkzzJIQqbWi0V6zXX0dmbjsQFAPoRXXAYF59VlL8dShUVx7yQmNG2gDqCkSnHM5+TPGvgvg85zz/089hjF2HYCTp2R0cwQRk4h2NzmPWxMIXJdtz/rgnFe5m1Tz/AtXnIa/Oql6x664FkOMOT1oVnZnseW5oapj5Jd/nMD1eCRDVrSL2lM4aWErTlpYLQJpRZQ21Nj6MyomceXZy3Cozm6n4+HtJzEDLQnRVG6GjV2IhGhZ32wrrjPjT/wYDzW7SSxOgtZb0tDwmb85tXGDbBATiUm8CsDGkMd/AuC6xgxnblLL3VS2KrJPTFmmwNYTuPYsid7BAkaLlizwEe4mwamL20LrFxhjsoPq+oUteOQjl1b5HvUGWRJdbjBQrWbNJnTceu0LQo9XA4avOXtp5HmjYhIXrZs36bFGXWOm+fUBNbtpZllBopK/z7Ukmh0PWtaZkfdhPXiBa8XdNM2K5qKYiEjkAGwCsDPw+CYA+QaNZ04iRCIseKy29pbFdPVYEpYXk/jTzqMAgBee2IPbnzzsBq6VSuQ6JreTFrZWbR4PeAVB49VJjMcpi9vw22tfEOr2CkO4p5Z0pHx7TFSNz+dumpqJxItJzDyREG67mRZPySZ0aDGGo6POar7Z7/2//PX6CQWYDZkCq824RIeJiMS/AfgPxthZAP7sPnYunE2CPt7gcc0pRHZTmCWhZiBZtlNwJ8QhXyNwrbbluHfnUcxvTeB5Kztx+5OHkY5rvi9oPTt4rV/YGvq4sCSONXBd6xphMMbw22tfgOU19ikAogPXjaSe/SSmK+kZWkzHGENbyjhuMYlsQgcmsHeU2uBPuPamW4+mKOoWCc75FxhjewBcC+A17sPbAbyRc/7jKRjbnEHGJBRB+MueAfz8kf24Suk3b9oVnzDUDFyL+IXpWBKXrJsv87vTcd13U9UzQYRZEUB4Z9VmUY+oRMUkGkk9XWCnK1PZu2mq8YvE9LaEdCV2J4vppvmYBXWJhLvf9F8BuIME4dgZK1mw7IqMA4TFJK7+zl8wWrLwovWe77xsc1+r73oqrofyzg5aZ6/okBN9OhC4Hm8fhODeDyriyx/VuO94ExWTaCRiZTjdJ6owRAxIrQ6eKbSlDBxwG09Od4EW7qa4FptxMay6RIJzbjHGfgZgHYD+qR3S7Ocjv9iGA0MF3Oy21g4TiZakjtGShe0HvdRVy674mvLVClwH+790ZxOy50w6odU9eW75yKU1X4v48jfC3TQVRKXATsU1ZspNr3Luqk78z1ueJyvWZxJtKQOP9ToZd9NdJDxLQptxlsRE3tlHAawZ9yhiXPb059A76LXe9gLX3qTf6faAefLAiO+4vLKZT61iOjMQVOvIGJ67ydDrnjzVzXzCMKQlMb1FgrGpa8E80wKRKowxnL+muyEt05tNe9qQ2XfT3YpTYxL6DEt0mMgoPw7gS4yxVzLGljLGOtV/UzS+WclArowRdyN1zrl0DamTvsgDf/KgJxJlm0tLoiebqKsth3e+OLqzzl4Mi9qT/pjEMXxZG5UCO1V4+0/HpmwinMnZTTMZda+K6W7FifH523JMb2ETTCS76Tfu/z+Dv1UHc3+fnrPENGRgrIzRkgW7wn2tMdTAtaiUVjuwWnZFpr92ZxPY2x+deSyER9CeNpCKa7j7/ZvQno7ju/fvAeB8UY9l8pzulgRjDIbGpnQSETUGJBLNpV0ViWluxYlMpoSuKXUS03vMgomIxEVTNoo5RMmyMepaAyMF0/flVi2J0WJ15pJpV2QBT09LAmW7Asuu+HrAcM5x1zN9VdXb4obqcvvdx5UV9rGgx5wJeLrtpqViaLEp7U101ooO/POla7FxeXTlN9F4WhWROGmax1R0peJ6plmeE0mBvXsqBzJXGMyZ8ueRoukzmdViutGid9zpS9qw62gOppLdJDY3yZs2hoaKeNN3H8JNbz0XR0ZLeNN3/lJ13WAzMW/jk2P7ohp6bNpmNgkMLTalpn3S0PCuadZvZy4gsu42LGuXLc+nK6rb0wjpUzadmfA7yxhbBGAZAF/iPOf8nkYNajYj8roBYLhg+iqVg5bE4vYUsgkd33z9WXjp1+51LQlHJOa1OiJRKNv41r278GxfDr95/CBWdFVvLRpGozJyjBibtq4mgaHFpr07gpg4YnHytxuXHOeRjI9wLSV9dRIz4ztZt0i44vA/AC6EE4MQsQjB9J4ppgkDOa8p2HDBlO4fwMtuqlQ4xsoW3vT8lfjnS9cCcCY6065IN5S0JMo2ht0geFvKwKDSdEzsGhfWI6ZRGTkXrZuH+a3RbTGmA3GNzRjTnqifl5++GF2ZBF5wQvfxHsq4ePtJaErx5cywJCZy53wFgA3gJDi9ml4A4NVwqq4vb/zQZidBkVBTVUXdw1jZAudAa9LTcF1jMN3spnRcw8pux2K4b+dRKRIpQ8Ng3nNTZV0TPKyvkhCHY7UkXnHGYlz3kvXHdI6pxlCaqhGzBy3GcOHanhmRvrtmXguWdqbQlY2jpyWBGPM3s5zOTMTd9EIAf805f4oxxgH0cc7/xBgrAfgUgNunZISzjP6ASFgVRSRcS0JYCy2KSAhLIleykE3o2LisHRuXteMbdz0r6x/KdgXDiiUhCvLSYSIxg3P7J4oTk5j9r5OYvpy3ugv3fuBiAMD5q7tw3wcvxqL21HEeVX1M5M5JATjq/jwAQPSLeBLAaY0c1GxmIFeCWPiMFCyU3c2BDI1Jd5MIWrck/Xngpl3BaMlCNqmDMYY3P38V9g8V8Pj+YQBO2qxqSYjAXlgNw0zel3miUA6b4+YAABpZSURBVEyCmE4wxmaMQAATE4mn4LTlAICtAN7OGFsO4J8A7G/0wGYrA7kyujIJxLWY425yi97aUobMbhKWRDYR4m4qWnKT9eBmO0XL9sUk0kIkQjI/pLtpDkyeTkxi+rskCGI6MhF301cBLHB//iSA3wF4HYASnHbhRB30j5XlBjuqSHRnE9h9NIeRoqlYEtXupnzZRtZ9fGFb0nEpuaJSMisyPgE4NRMAQt1NM3lf5olyzsrOaZ+BRRDTlbqXkZzzH3HOv+v+vAXACgBnA1jGOf/JlIxuFiJqI9pSOkYKpmzEd8WZS1CyKvjZw71KTMJzNxkxf0wCcMzWE+d7m/SUApbEYtekvWR99S5sniUx+yfPf/nrk/DevzrxeA+DIGYkdYsEY2yh+jvnPM8538I5Pxr1HKKaXMlGJqGhNWW4loSz2t+4vAOnL23HTQ/tw4grEmp2k6EzWDbHaNHyte5eq+zkVjQrvmK9E+Zl8acPXYx3vHB11Ti8dsWz35IgCGLyTMQhvZ8x9jRj7JuMsdcFRYOoj1zZQjqhoy1lYKTopcDGtRguWN2FZ/vGQgPXwt00VvJiEgCqLAnV3WRoMSxuT4WmCM7kzqUEQTSPicwQawFcDyAD4Avwi8aVUzK6WUiuZCEb19GaNDCixCQMLYb2tAGrwnFouAg9xnztLvRYTHaBzSoWxgVrurGqx6mZGCtZvv0marXcaFSdBEEQs5uJxCR2cs7/m3P+D5zzpQBOBnA/gKsB/GiqBjjbcNxNOrJJHWMlW8YkDI2hPeUEtHcfzaEjE/dZAHGdYaxkwq5wZBOehbFmXhZ/fO8mLGhN4vCI0/Ij4waqub8RrI+5lAJLEMTkmUhMIsYYO4cx9kHG2G8BPAhgExyBuLqO5y9ljN3JGNvOGHuCMXZtyDGbGGPDjLGt7r+PTuC1THs458iVLWQTGloSOsZKXkzC0GJoSzuT/+6jObmLnMDQYjLeoFoSgoQRw6HhIgBgfpvTJiPYCVZlLhXTEQQxeSaSAjsEoAhnX4n/BfB2zvneCTzfAvBezvkWxlgLgIcZY7dzzp8MHHcv5/ylEzjvtCenuIA4d+oXDK2CollBwd0fwtBisp33/qECzl3Z5TuHHotJV1I2UZ2RlNBjODLqiMS8lgR29eVQtGqIhE6WBEEQ4zMRkXgcwJkAzgGQAzDGGMvVm93EOT8I4KD78yhjbDuAxXAqtmclz/XnkYzH8MIv3IUK57j3g86WHJmEDkt33EyiQtrQGNpd64FzyFYbgrjuuZ5Ud5MgaWiyL9S8FseSKJmVquMEhrKdIkEQRBQT2U/iAsZYCsAFcNxM7wHwQ8bYDgB3cs6r3EdRMMZWANgAx2UV5DzG2KMADgB4H+f8iZDnXwPgGgBYtmxZvZdtKkXTxoXX34kT5mVlT6acu2FQNqHBsp3JWUzshu4ErgUdGb8QqCt+tRJbkNBjcr/fnpaEHEMUWowhHdd8G7cQBEEEmdAyknNe4Jz/AcDXAfwHgFsArAfwznrPwRjLus97N+d8JPDnLQCWc85PB/A1AL+IGMcNnPOzOOdn9fT0TOQlNI1btvQCAPb0e9uP7jg8CgBIx3VZTS2K3+JazLcBUTAmoW512BIWk1CK4s5b5biqzloRvfU4Ywy3vON8vP685fW9IIIg5iQTCVy/mjH2n66baD+AL8GxRP4fnPbh9ZzDgCMQP+Kc/yz4d875COd8zP35VgAGY2z6N4sP4X8f2gcAOH2J11/pod0DABxLQLiMpCWhxZA0NJn22hFwNxk+d1O4JSE4f00XHvqXS/C3GxfXHOP6ha1oTZIlQRBENBOJSfw7gLvh9HC6i3P+1EQuxJx8zhsBbOecfznimAUADnPOOWPsHDgi1j+R6zSSHYdHsboni9gk9m8+POIEkYuWjbgeQ9mq4KE9jkioFdOD+TJiDHKP6PZUHIfMYlVMwnAtCcaArmx1H3rRm0iLMaQMbdpv50gQxMxgIjGJY62wvgDA6wE8zhjb6j72YThboYJz/g0AVwB4B2PMAlAAcCXntbL9p47ewTz+6iv34NtvPBsXravufTQeov9S0axASMxjvU5Lbyc7yXl0MGf64g3taQOHRkJEwj1mZXfGV4ktEJZENqHPiE1YCIKYGUxouckYmw9nol8N4COc86OMsQsAHOCc7671XM75fQBqzl6c86/DiXccdwZyZXDu3ySoXiy7IoPV+ZKFkuXPMkrHdWk5DOTKvqpnEZcI7lqlu9lIpyxqC71mwvBEgiAIolFMJCZxJoCnAfw9gDcDaHX/dCmAzzR+aMcXsbdDqUatQRRqa4whpZeSIJPQ5WReMG1f+wyR4RS0JESh3MmLWhGGCFyHBbUJgiAmy0Sym74I4Kuc8w1w9pAQ/B6OK2lWIdJHizVqDYLc9NBzeOS5Qelqak8byLv7Vp8wLyuPy8Q1pOOa3KFO3dNBtOYIioQIcJ+6pLYlQSJBEEQjmciMciYcCyLIQQDzGzOc6YMQiXotiUqF47qfPQ4A+M27ng/AqXwecovl1i5owY4jYwAAXfNcQ6NFy5e+uqI7g0VtyapNcv7lr9fjpEWtVZXYAnEOcjcRBNFIJmJJFAB0hDy+DsCRxgxn+lB04wi1qpZV9g8V5M/CkhBFbYC/pbdATOiqlfGWF6zE799zYdWxi9pT+KeL1kRmWiWlJUEprQRBNI6JiMQvAXyMMSZmPu5WTn8eTu3DrMKzJOoTid1HnaK5TFyTIiHaYwDA6p5s1XNirr/p5MWeC8nQYpOa6KUlQe4mgiAayERE4n1wLIk+AGkA9wHYCafx3782fmjHl9IE3U1CJOa3JuWmQfMUSyJs8hbWx6mLw+MME0GkwLaQu4kgiAZS14ziVkrfDuANcJrybYQjMFvcNh2zDi+7qT5LYlefE29IJzSZ3aS6m1JuNTULyQI+ZXF4xtJEkCJBlgRBEA2krhmFc24yxlY6P/I/Avjj1A7r+CPdTePEJF781Xvxqg2Lscu1JPJl23M3tXrupqQRw5aPXBp6jgXKcZNFBLopcE0QRCOZyIzyPQBvBfD+KRrLtELsxVBrT4ZKhWP7wRF85uAIFrenAAD5ko2Room47m/YF9Yq47b3XIijY6WGVEh7lgQFrgmCaBwTEYkMgL9njF0K4GE4e0pIOOfvauTAjjfS3VTDklBdUfuHCjA0hlzZwmjRQktCR0pJYw2mtALA2vktWBuS9TQZEgYFrgmCaDwTmVHWw2nlDQCrAn87Lv2VppJ66iTyZa+yWosxXHHmUvx48z5HJJLji0QjWdiWBGPA0o70lF6HIIi5xUQa/F00lQOZbtQTuC4om/pcsKYbSztTsCscR0dLaEkasnYBAFLxqRWJtfNb8PC/XlpVqU0QBHEs0N6VEYhYhCoSnHN89tbtcvMgYW2cu6oTH7jsRGTcmMPhkSJakrrPekg2YZtQEgiCIBoNiUQEsk5CsRaOjpXxzXt24ZdbDwAACmVHQN7y/FU4ZXEb0q61IERCWA+GxmQrDoIgiJkEzVwRCAuirFgSwwWnyd7egTwALyYhxEBsJpQr22hLGTImkdSn1tVEEAQxVZBIRBDWlkM063vO3bdaxCSEWymtxB0WtHpN+pJTHI8gCIKYKkgkIhCB66LibhIiISwJ8TdhMajbks5vS0KLMcT1mC+ATRAEMZOg2SsCIQD9uTLO++wd+POufrmB0FDexHDelJaEsCDUlNf5bnO/lKH5HicIgphJUOVVBGql9cHhIp48MIKKst323oGcDFwHYxIAsKCNRIIgiJkPiUQEwR3phgomuCoS/XkZuBaxh4wSe5jv9mNKxTVZDU0QBDHTIJGIQI1FAMBIwUSFcySNGIpmBfuHCrBs15IQgWvFkuhyaxbIkiAIYiZDIhFByawgZWgy7jCUL6PCnayl5wbyGCta4ODQYkzuUa2KgdhB7v2XnejLeiIIgphJkEiEYFc4ynYFCzJJKRLDBRM2B9rTcfSPlZErW2BgSBua7OKqhWwtetG6eU0dO0EQRCOh7KYQRFM/tdX3UMHEcL6M9rSBTEJHrmShYFpUA0EQxKyGLIkQRNBaFYnhggm7wrGyO4N0QkOubMOIsap4w/svOxHrFjSm/TdBEMTxhkQiBBG0blVEYqRgwrQ52lIGMnEd+ZKFuB6rEol/umhNU8dKEAQxlZBIhCBEoj3ticRAzglct6XjSMc15Eo2bD71LcAJgiCOJxSTCGGs5NQ/dCgiUXFLJDrSBrIJHbmyhWLZpvRWgiBmNSQSIew+6jTwO2FedWxh7fwWpBM68mUbedMiS4IgiFkNiUQIz/blEGPAovZU1d9OWdSGTFzDWMlCgSwJgiBmOSQSITx7ZAzLOtOy/9L5q7vk39rcFNh8yULRrJAlQRDErIZEIoRn+8awuieLNfOyuPN9m/Dhl6wH4BXLZeIa8qaNXNkiS4IgiFkNiUQAu8Kx62gOq+dlAQAruzMyy+n5a7oBOD2aOHdahpMlQRDEbIZSYF0qFY47njqCE+ZlUbYqWN2TkX9b0pHG1163AZtO7AHgbwmeidNbSBDE7KVplgRjbClj7E7G2HbG2BOMsWtDjmGMsX9njO1kjD3GGNvYrPE9uHsAb/3+Zvzq0QMAgMXtad/fX3b6IrQkHYtCbQm+qD3ZrCESBEE0nWYugy0A7+Wcb2GMtQB4mDF2O+f8SeWYFwM4wf33PAD/5f4/5RwaKQAAdrnpr2pLjiBpxXpY3FGdAUUQBDFbaJolwTk/yDnf4v48CmA7gMWBw14B4Pvc4c8A2hljC5sxvqOjZQDA3v7xRSKruJuWBCwOgiCI2cRxCVwzxlYA2ADgwcCfFgPYp/zei2ohmRKOjpUAAM8NOBZFTUsi4bmbRJosQRDEbKTpIsEYywK4BcC7OecjwT+HPIUHH2CMXcMY28wY29zX19eQcfWNOiJxdKwExoCWZLQnTg1Wx3VKECMIYvbS1BmOMWbAEYgfcc5/FnJIL4Clyu9LABwIHsQ5v4Fzfhbn/Kyenp6GjK3PtSQAx50UC9lASEA7zREEMVdoZnYTA3AjgO2c8y9HHPZ/AN7gZjmdC2CYc36wGeM7OlaWP9dyNQH+mARBEMRsppmz3QUAXg/gccbYVvexDwNYBgCc828AuBXASwDsBJAH8KZmDU64m4DxRULEJNa4BXcEQRCzlaaJBOf8PoTHHNRjOIB/as6IPOwKx0CufpFI6BpufONZOH1p+1QPjSAI4rgy5/0mm/cM4IpvPOB7bDyRAIBL1s+fqiERBEFMG+Z8as437t4lf57XkgBQn0gQBEHMBea0SOwbyOOOpw7LbKUTFzibDJFIEARBOMxpd9MTB4bBOXDzNefBqlSwdd8Q7t1xFK0kEgRBEADmuCVRsioAnGylDcs6pAVBlgRBEIQDiQSAuOa8DSQSBEEQfua0SJRdkUi4rTWWdKTd/6mzK0EQBDDHYxKm7VoSrkicuKAF933wIikWBEEQcx2yJOBv0kcCQRAE4UEiAS8mQRAEQfiZ07Nj2a4gxgCdRIIgCCKUOT07lq0K7QdBEARRgzk9Q5asCrmaCIIgajCnZ8iyXUFcpw2ECIIgopjbImFVENdqdi8nCIKY05BIUEyCIAgikjk9Q5JIEARB1GZOz5BOTGJOvwUEQRA1mdMzZJmymwiCIGoyp2dIcjcRBEHUZk7PkCVKgSUIgqjJnBYJk9xNBEEQNZnTM2TZrsi9JAiCIIhq5vQMSTEJgiCI2szpGbJsVWBQxTVBEEQkc1skqE6CIAiiJnN6hnTqJCi7iSAIIgoSCbIkCIIgIpmzMyTnnNxNBEEQ4zBnZ8iy7exvTSmwBEEQ0czZGbJsOSJBxXQEQRDRzNkZUooEWRIEQRCRzNkZUribSCQIgiCimbMzJLmbCIIgxmfOzpCma0kYZEkQBEFE0rQZkjH2bcbYEcbYtoi/b2KMDTPGtrr/PjqV4ymRJUEQBDEuehOv9V0AXwfw/RrH3Ms5f2kzBiPcTZQCSxAEEU3TZkjO+T0ABpp1vfGg7CaCIIjxmW4z5HmMsUcZY79ljJ0cdRBj7BrG2GbG2Oa+vr5JXYiymwiCIMZnOs2QWwAs55yfDuBrAH4RdSDn/AbO+Vmc87N6enomdTHKbiIIghifaTNDcs5HOOdj7s+3AjAYY91TdT1yNxEEQYzPtJkhGWMLGGPM/fkcOGPrn6rrzWtN4CWnLkB72piqSxAEQcx4mpbdxBi7CcAmAN2MsV4AHwNgAADn/BsArgDwDsaYBaAA4ErOOZ+q8Zy5vBNnLu+cqtMTBEHMCpomEpzz143z96/DSZElCIIgpgnTxt1EEARBTD9IJAiCIIhISCQIgiCISEgkCIIgiEhIJAiCIIhISCQIgiCISEgkCIIgiEjYFNarNQXGWB+AvZN8ejeAow0czvFkNr0WYHa9Hnot05O5/lqWc87HbX4340XiWGCMbeacn3W8x9EIZtNrAWbX66HXMj2h11If5G4iCIIgIiGRIAiCICKZ6yJxw/EeQAOZTa8FmF2vh17L9IReSx3M6ZgEQRAEUZu5bkkQBEEQNZizIsEYu5wx9jRjbCdj7EPHezwThTG2hzH2OGNsK2Nss/tYJ/v/2zvbWDuqKgw/L+W2GEss4kealvRDILEmClclNWJ/CFRbYioJxEqMmJgYC0YJoikCBhNrseJXo9jGSCxGLR9i4Ic1bRSDTbCo2NZCoVxEpLRpQ7S0Bilolz/2GhwPZ25ve7mde3reJzmZPXv2zF7rrDmz7t6z71rSBkmP5faUtuXshqRbJO2VtK1W11V2FVamnbZKGmxP8pfToMsNkp5O22yWtLB27JrU5VFJ72tH6u5IOk3SvZK2S3pI0meyvudsM4wuPWcbSSdJekDSltTlS1k/S9KmtMttkiZm/aTcH8rjM0clQET03QeYADwOzAYmAluAOW3LdYQ6/BV4XUfdCmBplpcCX21bzgbZ5wGDwLbDyQ4sBNYBAuYCm9qWfwS63ABc3aXtnLzXJgGz8h6c0LYONfmmAoNZPhnYkTL3nG2G0aXnbJPf7+QsDwCb8vu+nZKcDWAVsCTLlwOrsrwYuG00/ffrSOIcYCgi/hIRLwBrgUUty/RKsAhYk+U1wAdblKWRiLgP+HtHdZPsi4Bbo/A7YIqkqcdG0sPToEsTi4C1EXEwIp4Ahij34rggInZHxINZPgBsB6bRg7YZRpcmxq1t8vv9Z+4O5CeA9wJ3Zn2nXSp73QmcV6WGPhr61UlMA56q7e9k+BtoPBLAekl/lPSJrHtjROyG8iMB3tCadEdOk+y9aqtP5RTMLbVpv57RJacozqb81drTtunQBXrQNpImSNoM7AU2UEY6+yLi39mkLu9LuuTxZ4FTj7bvfnUS3bxqry3zendEDAILgCskzWtboDGiF231PeBNwFnAbuDrWd8TukiaDPwMuDIi9g/XtEvduNKniy49aZuI+E9EnAVMp4xw3tytWW5fUV361UnsBE6r7U8HdrUky1EREbtyuxf4OeXG2VMN93O7tz0Jj5gm2XvOVhGxJ3/Uh4Dv879pi3Gvi6QBykP1xxFxV1b3pG266dLLtgGIiH3AbyjvJKZIOjEP1eV9SZc8/hpGPiX6MvrVSfweOCNXB0ykvNy5p2WZRoykV0s6uSoD84FtFB0uy2aXAXe3I+FR0ST7PcBHcyXNXODZaupjvNIxL38RxTZQdFmcq09mAWcADxxr+ZrIeesfANsj4hu1Qz1nmyZdetE2kl4vaUqWXwWcT3nHci9wcTbrtEtlr4uBX0e+xT4q2n5z39aHsjJjB2Vu79q25TlC2WdTVmJsAR6q5KfMO/4KeCy3r21b1gb5f0oZ6r9I+avn402yU4bO3007/Rl4R9vyj0CXH6WsW/MHO7XW/trU5VFgQdvyd+hyLmVaYiuwOT8Le9E2w+jSc7YB3gr8KWXeBnwx62dTHNkQcAcwKetPyv2hPD57NP37P66NMcY00q/TTcYYY0aAnYQxxphG7CSMMcY0YidhjDGmETsJY4wxjdhJGNMikmZKCknHRa5lc/xhJ2GMMaYROwljjDGN2EmYviZDSnxe0uOS/qWSyOkjeayaCrpU0kZJz0t6RNL8jmvMy+Quz0vaI+mbVQKYWh+fzeQwByXtlLS8Q5QZKgl9npP0sKQLaucPqCT32ZXnPyXpxjH9YoxJ7CRMv/NlSiiNKyiJZ5YDqyVdWGuzAlhJiRy6Abhb0jSA3K6jhE04O6/14bxOxVeA67PuLcAl/H9YaoBl2cfbKLHF1mYEU4BPU+IMLabEFPoQJXSEMWOOw3KYviWDIz4DzI+I39bqvwWcScnw9QRwXUQsy2MnAI8At0fEdZKWUR7aZ0aJLIqkjwGrgVMof4g9QwlVvaqLDDOzj09GxOqsm0aJA/WeiNgoaSXFuZwf/sGaY8yJh29izHHLHEowtF9Kqj98ByjpYSvurwoRcUjSpjwXSlz/+ysHkWykpMU9Pa8/iRIYbzi21spVyOcquc8PKSOYHZLWA78A1nX0acyYYCdh+plquvUDwN86jr1I9+QtnYjmhC4xwmtU/ZWTIiKzTZ6Q+w/miOP9lJSVa4Atki6wozBjjd9JmH7mYeAgMCMihjo+T9baza0KmafgHEo8/+oa78ppqIpzgRcoYaerPs4bjaARcSAi7oiIJcCFFGdx+miuacxI8EjC9C0RcUDSTcBN+fC/D5hMcQqHgPXZdImkHZQ8BJcDMyhpMAFuBq4Ebpb0bUqM/xuB70TEcwBZv1zSwezjVODtEVFdY1gkXUXJWbGZMuK4FNhPeW9hzJhiJ2H6neuBPcDVlAf/fsrDeEWtzVLgKmAQeBK4KCJ2AkTE05IWAF/L8/YBPwG+UDv/GuAf2df07O/WI5DxAPA5ysqmoKykWlA5IWPGEq9uMqaB2sqjd0bEH9qVxph28DsJY4wxjdhJGGOMacTTTcYYYxrxSMIYY0wjdhLGGGMasZMwxhjTiJ2EMcaYRuwkjDHGNGInYYwxppH/Ap/XhZk1BN9BAAAAAElFTkSuQmCC\n",
      "text/plain": [
       "<Figure size 432x288 with 1 Axes>"
      ]
     },
     "metadata": {
      "needs_background": "light"
     },
     "output_type": "display_data"
    }
   ],
   "source": [
    "%matplotlib inline\n",
    "plt.plot(reward_score[:epochs-1], label = 'MDP')\n",
    "plt.xlabel(\"epochs\", fontsize = 14)\n",
    "plt.ylabel(\"reward\", fontsize = 14)\n",
    "plt.legend()\n",
    "plt.show()"
>>>>>>> master
   ]
  },
  {
   "cell_type": "code",
<<<<<<< HEAD
   "execution_count": null,
   "metadata": {},
   "outputs": [],
   "source": [
    "import gym\n",
    "import numpy as np\n",
    "import matplotlib.pyplot as plt\n",
    "from Environment import halite_env as Env"
=======
   "execution_count": 149,
   "metadata": {},
   "outputs": [
    {
     "data": {
      "image/png": "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\n",
      "text/plain": [
       "<Figure size 432x288 with 1 Axes>"
      ]
     },
     "metadata": {
      "needs_background": "light"
     },
     "output_type": "display_data"
    }
   ],
   "source": [
    "plt.plot(halite_score[:epochs-1], label = 'MDP')\n",
    "plt.xlabel(\"epochs\", fontsize = 14)\n",
    "plt.ylabel(\"halite collected\", fontsize = 14)\n",
    "plt.legend()\n",
    "plt.show()"
>>>>>>> master
   ]
  },
  {
   "cell_type": "code",
<<<<<<< HEAD
   "execution_count": null,
   "metadata": {},
   "outputs": [],
   "source": [
    "from importlib import reload\n",
    "reload(Env)"
=======
   "execution_count": 150,
   "metadata": {},
   "outputs": [
    {
     "name": "stdout",
     "output_type": "stream",
     "text": [
      "Maximal amount of states-actions experienced:  6000000\n",
      "Total amount of states-actions to be experienced:  714420\n"
     ]
    }
   ],
   "source": [
    "experience = TOT_TURNS*N_BATCH*MAX_EPOCHS\n",
    "tot_q = q_values.shape[0]* q_values.shape[1]\n",
    "print(\"Maximal amount of states-actions experienced: \", experience)\n",
    "print(\"Total amount of states-actions to be experienced: \", tot_q)"
>>>>>>> master
   ]
  },
  {
   "cell_type": "markdown",
   "metadata": {},
   "source": [
<<<<<<< HEAD
    "## Setup of the environment"
=======
    "## Debug\n",
    "\n",
    "Problem (hypothesis): terminal state coincide with the start state, that has a lower value. Thus becomes inconvinient to deposit the halite.\n",
    "\n",
    "Solution: if the position of the ship is the one of the shipyard and the previous position is different from that, use Q_max(s') = 0 to update. \n",
    "\n",
    "In this way we should enforce the terminal state to be of value zero (this should always hold, since at the end of the loop there is no more reward, just the one you gained through the road).\n",
    "\n",
    "Consequently the state-action of depositing the halite will have a value equal to the reward (halite collected - 10)/1000, that at best will be 0.99. All the other states will assume a value \"back-propagated\" from that value. For example if it takes 10 moves to get to the last state (the one from which we go in the terminal state depositing the halite) and we deposit 1000 halite, the initial state will have an state-action value of $0.99 - 10\\times0.01 = 0.89$.\n",
    "\n",
    "This of course has the drawback that if we initialize all the Q-values with 0 at the beginning, we will find out that once it founds a good solution it would not explore willingly all the states that has never seen! One possible solution is to be \"over-optimistic\" and set all the initial values to a number greater than the highest possible Q-value, 1 for example. In this way all the untried state-action combinations will seem the most appealing and will be tried out.\n",
    "\n",
    "Test of the hypothesis:\n",
    "count and store the number of times that the ship passes through the shipyard as a function of time. If decreases than the hypothesis could be true, otherwise it could be the inverse problem (just takes 10 of halite or so and makes a lot of short and inefficient loops)."
>>>>>>> master
   ]
  },
  {
   "cell_type": "code",
<<<<<<< HEAD
   "execution_count": null,
   "metadata": {},
   "outputs": [],
   "source": [
    "num_players = 1\n",
    "n_actions = 5 # no dropoffs, 1 action for staying still, 4 for moving in the cardinal directions\n",
    "map_size = 7 # 7 x 7 map"
=======
   "execution_count": 151,
   "metadata": {},
   "outputs": [
    {
     "data": {
      "text/plain": [
       "(142884, 5)"
      ]
     },
     "execution_count": 151,
     "metadata": {},
     "output_type": "execute_result"
    }
   ],
   "source": [
    "q_values.shape"
>>>>>>> master
   ]
  },
  {
   "cell_type": "code",
<<<<<<< HEAD
   "execution_count": null,
   "metadata": {},
   "outputs": [],
   "source": [
    "env = Env.HaliteEnv(num_players, map_size)"
=======
   "execution_count": 152,
   "metadata": {},
   "outputs": [
    {
     "name": "stdout",
     "output_type": "stream",
     "text": [
      "[[ 0  1  2  3  4  5  6]\n",
      " [ 7  8  9 10 11 12 13]\n",
      " [14 15 16 17 18 19 20]\n",
      " [21 22 23 24 25 26 27]\n",
      " [28 29 30 31 32 33 34]\n",
      " [35 36 37 38 39 40 41]\n",
      " [42 43 44 45 46 47 48]]\n"
     ]
    }
   ],
   "source": [
    "print(np.arange(N_CELLS).reshape((MAP_SIZE,MAP_SIZE)))"
>>>>>>> master
   ]
  },
  {
   "cell_type": "code",
<<<<<<< HEAD
   "execution_count": null,
   "metadata": {},
   "outputs": [],
   "source": [
    "# halite in the map, min = 0, max = 1000\n",
    "env.map[:,:,0]"
   ]
  },
  {
   "cell_type": "code",
   "execution_count": null,
   "metadata": {},
   "outputs": [],
   "source": [
    "# ship position\n",
    "env.map[:,:,1] "
   ]
  },
  {
   "cell_type": "code",
   "execution_count": null,
   "metadata": {},
   "outputs": [],
   "source": [
    "# shows the halite carried from each ship in the position corresponding to the ship\n",
    "# initially there is no ship, hence no halite carried either\n",
    "\n",
    "env.map[:,:,2] "
   ]
  },
  {
   "cell_type": "code",
   "execution_count": null,
   "metadata": {},
   "outputs": [],
   "source": [
    "# shipyard position\n",
    "env.map[:,:,3] "
   ]
  },
  {
   "cell_type": "code",
   "execution_count": null,
   "metadata": {},
   "outputs": [],
   "source": [
    "print(\"Initial halite: \", env.player_halite[0])"
   ]
  },
  {
   "cell_type": "code",
   "execution_count": null,
   "metadata": {},
   "outputs": [],
   "source": [
    "# actions are represented as a matrix whose entries are -1 if no ship is in that position, \n",
    "#'a_i' if ship i is present in that position \n",
    "action_matrix = np.full((map_size,map_size), -1) # no ship, no action"
   ]
  },
  {
   "cell_type": "code",
   "execution_count": null,
   "metadata": {},
   "outputs": [],
   "source": [
    "# the environment already has in memory the last state, thus we don't need to resubmit it\n",
    "# the only things that we submit are the action matrix and the shipyard action (1 or True to spawn a ship, 0 otherwise)\n",
    "shipyard_action = 1 # initially always choose to create a ship\n",
    "# returns the state, i.e. env.map\n",
    "s, h, finish, _ = env.step(action_matrix, makeship = shipyard_action)\n",
    "# s_0 -> map_halite, s_1 -> cargo_halite, s_2 -> shipyard_position (not used), s_3 -> ship_position\n",
    "map_halite = s[:,:,0]\n",
    "ship_pos_matrix = s[:,:,1]"
   ]
  },
  {
   "cell_type": "code",
   "execution_count": null,
   "metadata": {},
   "outputs": [],
   "source": [
    "def encode(v_dec, L):\n",
    "    # v_two = [v1,v2]\n",
    "    # returns the encoded version V[v1,v2] of V = np.arange(0,L)\n",
    "    # L = length(all_possible_v)\n",
    "    V = np.arange(0,L**2).reshape((L,L))\n",
    "    v_enc = V[v_dec[0],v_dec[1]] \n",
    "    return v_enc\n",
    "\n",
    "def decode(v_enc, L):\n",
    "    V = np.arange(0,L**2).reshape((L,L))\n",
    "    v_dec = np.array([np.where(v_enc == V)[0][0],np.where(v_enc == V)[1][0]])\n",
    "    return v_dec\n",
    "\n",
    "def one_to_index(V,L):\n",
    "    # matrix V with one entry = 1 and the others 0\n",
    "    return np.arange(L**2).reshape((L, L))[V.astype(bool)]\n",
    "\n",
    "# ship positions x (n_cells + 1) x halite levels -> tensor\n",
    "# we will need a 3D encoding, like the 2D seen above\n",
    "def encode3D(v_dec, L1, L2, L3):\n",
    "    # v_dec = [v1,v2,v3]\n",
    "    # returns the encoded version V[v1,v2,v3] of V = np.arange(0,L1*L2*L3)\n",
    "    V = np.arange(0,L1*L2*L3).reshape((L1,L2,L3))\n",
    "    v_enc = V[v_dec[0],v_dec[1], v_dec[2]] \n",
    "    return v_enc\n",
    "\n",
    "def decode3D(v_enc, L1, L2, L3):\n",
    "    # v_enc = V[v1,v2,v3] \n",
    "    # V = np.arange(0,L1*L2*L3)\n",
    "    # returns the decoded version v_dec = [v1,v2,v3] of V[v1,v2,v3] \n",
    "    V = np.arange(0,L1*L2*L3).reshape((L1,L2,L3))\n",
    "    v_dec = np.array([np.where(v_enc == V)[0][0],np.where(v_enc == V)[1][0], np.where(v_enc == V)[2][0]])\n",
    "    return v_dec"
   ]
  },
  {
   "cell_type": "code",
   "execution_count": null,
   "metadata": {},
   "outputs": [],
   "source": [
    "#position_encoded\n",
    "pos_enc = one_to_index(ship_pos_matrix, map_size)\n",
    "print(\"Encoded position of the ship: \", pos_enc)\n",
    "#position_decoded\n",
    "pos_dec = decode(pos_enc, map_size)\n",
    "print(\"Decoded position of the ship: \", pos_dec)"
   ]
  },
  {
   "cell_type": "code",
   "execution_count": null,
   "metadata": {},
   "outputs": [],
   "source": [
    "ship_cargo = s[pos_dec[0],pos_dec[1],2]\n",
    "print(\"Initial ship cargo: \", ship_cargo)"
   ]
  },
  {
   "cell_type": "code",
   "execution_count": null,
   "metadata": {},
   "outputs": [],
   "source": [
    "# functions for the agent\n",
    "def greedy_policy(s, q_values):\n",
    "    return np.argmax(q_values[s])\n",
    "\n",
    "def e_greedy_policy(s, q_values, eps = 0.01):\n",
    "    # s is encoded in input, a is encoded in output\n",
    "    u = np.random.rand()\n",
    "    if u > eps:\n",
    "        return np.argmax(q_values[s])\n",
    "    else:\n",
    "        return np.random.randint(0, len(q_values[s]))\n",
    "    \n",
    "def update_q(s, a, r, sp, ap, q_values, gamma = 1):\n",
    "    q_values[s,a] = r + gamma*q_values[sp,ap]\n",
    "    return q_values"
   ]
  },
  {
   "cell_type": "markdown",
   "metadata": {},
   "source": [
    "## State complexity and state approximation\n",
    "\n",
    "We have:\n",
    "- $(map size)^2$ positions ($49$ in this case, up to $64^2 = 4096$);\n",
    "- 1000 values of halite for each position (h_val);\n",
    "- 1000 values of carried halite (h_val).\n",
    "\n",
    "The state of the system is defined by the halite in each cell + the halite carried by the ship + the position of the ship. We can have almost all the possible combinations of the values that those variables can assume, thus we have the combinations of $1000$ values of halite for $50$ cells ($49$ of the map + the one carried by the ship) all multiplied by $49$ possible positions of the ship, for a total of $49\\times 10^{147}$ possible states. If instead we consider the largest map of $64 \\times 64$ we arrive at $4096\\times 10^{12288}$ possible states.\n",
    "\n",
    "WORK IN PROGRESS\n",
    "\n",
    "To tackle this issue we choose to approximate the information about the halite using for example 4 halite levels and the following encoding:\n",
    "- $h = 0$ if $0 \\le halite \\le 1$; \n",
    "- $h = 1$ if $1 < halite \\le 10$; \n",
    "- $h = 2$ if $10 < halite \\le 100$; \n",
    "- $h = 3$ if $100 < halite \\le 1000$.\n",
    "\n",
    "In this way for a $7 \\times 7$ map, the total number of states are $9800$ and for the $64 \\times 64$ there are \"just\" $67.125.248$, that means a lot of training and experience are needed, but we're talking about millions and not tens of billions (an order $10^5$ of difference!). "
   ]
  },
  {
   "cell_type": "code",
   "execution_count": null,
   "metadata": {},
   "outputs": [],
   "source": [
    "4096*3"
   ]
  },
  {
   "cell_type": "code",
   "execution_count": null,
   "metadata": {},
   "outputs": [],
   "source": [
    "def halite_quantization(h, q_number = 4):\n",
    "    # h can either be a scalar or a matrix \n",
    "    tresholds = np.logspace(0,3,4) # [1, 10, 100, 1000] = [10^0, 10^1, 10^2, 10^3]\n",
    "    h_shape = h.shape\n",
    "    h_temp = h.flatten()\n",
    "    mask = (h_temp[:,np.newaxis] < tresholds).astype(int)\n",
    "    level = np.argmax(mask, axis = 1)\n",
    "    return level.reshape(h_shape)"
   ]
  },
  {
   "cell_type": "code",
   "execution_count": null,
   "metadata": {},
   "outputs": [],
   "source": [
    "# how to use it\n",
    "q_h = halite_quantization(map_halite)\n",
    "c_h = halite_quantization(ship_cargo)"
   ]
  },
  {
   "cell_type": "code",
   "execution_count": null,
   "metadata": {},
   "outputs": [],
   "source": [
    "# Now we need to write a function that is able to get the decoded state from the output of the environment\n",
    "# ship positions x (n_cells + 1) -> ship positions x (n_cells + 1) x halite levels\n",
    "\n",
    "pos_enc = one_to_index(ship_pos_matrix, map_size) #this is the first entry\n",
    "\n",
    "# Now we compose an array of the halite values of the n cells and the ship \n",
    "# and encode it through the matrix [(n_cells + 1) x halite levels]\n"
   ]
  },
  {
   "cell_type": "code",
   "execution_count": null,
   "metadata": {},
   "outputs": [],
   "source": [
    "h_lev = 4 # halite levels\n",
    "n_cells = map_size**2\n",
    "n_states = n_cells*(n_cells+1)*h_lev\n",
    "print(\"Total number of states to be experienced: \", n_states)\n",
    "n_actions = 5\n",
    "tot_turns = 400\n",
    "# to account the fact that the ships can't know the number of turns elapsed we train them as if there was\n",
    "# a uniform probability of 1/tot_turns of ending the game at each turn\n",
    "discount_factor = 1 - 1/tot_turns \n",
    "n_batch = 100 # number of episodes in an epoch\n",
    "epochs = 0\n",
    "q_values = np.zeros((n_states,n_actions)) #initialize to zero\n",
    "max_epochs = 1000\n",
    "reward_score = np.zeros(max_epochs)"
   ]
  },
  {
   "cell_type": "code",
   "execution_count": null,
   "metadata": {},
   "outputs": [],
   "source": [
    "s_dec = np.array([0,0,1])\n",
    "print(\"Original decoded state: \", s_dec)\n",
    "s_enc = encode3D(s_dec, L1 = n_cells, L2 = n_cells+1, L3 = h_lev)\n",
    "print(\"Encoded state: \", s_enc)\n",
    "s_dec_2 = decode3D(s_enc, L1 = n_cells, L2 = n_cells+1, L3 = h_lev)\n",
    "print(\"New decoded state: \", s_dec)"
   ]
  },
  {
   "cell_type": "code",
   "execution_count": null,
   "metadata": {},
   "outputs": [],
   "source": [
    "while True:\n",
    "    #@@@@@@@@@@@@@@@@@@@@@@\n",
    "    # here starts an epoch\n",
    "    #@@@@@@@@@@@@@@@@@@@@@@\n",
    "    epochs = epochs + 1\n",
    "    reward_progress = np.zeros(n_batch) # bunch of 100 episodes\n",
    "    eps = 0.5 # starting value of epsilon\n",
    "    # generate an adaptive epsilon greedy algorithm, has to be calibrated\n",
    "    epsilons = np.array(list(map(lambda i : eps*np.exp(-i/100), np.arange(0,max_epochs+1))))\n",
    "    \n",
    "    for i in range(n_batch):\n",
    "        #@@@@@@@@@@@@@@@@@@@@@@@@\n",
    "        # here starts an episode\n",
    "        #@@@@@@@@@@@@@@@@@@@@@@@@\n",
    "        s_dec = [0,4] # init state: top corners\n",
    "        s_enc = encode(s_dec, 25) # encoded state used to have a scalar index to access the states; 25 singular states\n",
    "        steps = 0\n",
    "        reward = 0\n",
    "        \n",
    "        while True:\n",
    "            steps = steps + 1\n",
    "            \n",
    "            a_enc = e_greedy_pol_v1(s_enc, q_values, eps = epsilons[epochs])\n",
    "            a_dec = decode(a_enc, 4) # 4 singular actions\n",
    "            \n",
    "            sp_dec, r = turn_v2(s_dec, a_dec) # interacts with the environment \n",
    "            sp_enc = encode(sp_dec, 25) # encode to scalar state\n",
    "            reward = reward + r\n",
    "            \n",
    "            a_temp_enc = greedy_pol_v0(sp_enc, q_values)\n",
    "            a_temp_dec = decode(a_temp_enc, 4)\n",
    "\n",
    "            q_values = update_q_v0(s_enc, a_enc, r, sp_enc, a_temp_enc, q_values, gamma = discount_factor)\n",
    "            \n",
    "            # update states\n",
    "            s_enc = sp_enc\n",
    "            s_dec = sp_dec\n",
    "            \n",
    "            \n",
    "            # terminal states are 2 and 24\n",
    "            if (s_dec[0] == 2 and s_dec[1] == 24) or (s_dec[1] == 2 and s_dec[0] == 24):\n",
    "                #print(\"Terminal state reached at step %d.\"%steps)\n",
    "                reward_progress[i] = reward\n",
    "                game_progress[i] = steps\n",
    "                terminal_states[:,i] = s_dec\n",
    "                break\n",
    "            \"\"\"if (s_dec[0] == s_dec[1]):\n",
    "                #print(\"Agent crushed one on each other.\") \n",
    "                #game_progress[i] = 100 # assign 100 equals to failure (and the -100 reward accounts for the accident)\n",
    "                #break\"\"\"\n",
    "            if steps >= 100:\n",
    "                #print(\"Too much time has passed. Game Over.\")\n",
    "                reward_progress[i] = reward\n",
    "                game_progress[i] = steps\n",
    "                terminal_states[:,i] = s_dec\n",
    "                break\n",
    "    \n",
    "    print(\"Average reward per episode in epoch %d: \"%epochs, reward_progress.mean())\n",
    "    reward_score[epochs-1] = reward_progress.mean()\n",
    "\n",
    "    if epochs >= max_epochs:\n",
    "        print(\"Hey, I think you've had enough! Let's stop here.\")\n",
    "        break"
   ]
  },
  {
   "cell_type": "code",
   "execution_count": null,
   "metadata": {},
   "outputs": [],
   "source": []
  }
 ],
 "metadata": {
  "kernelspec": {
   "display_name": "Python 3",
   "language": "python",
   "name": "python3"
  },
  "language_info": {
   "codemirror_mode": {
    "name": "ipython",
    "version": 3
   },
   "file_extension": ".py",
   "mimetype": "text/x-python",
   "name": "python",
   "nbconvert_exporter": "python",
   "pygments_lexer": "ipython3",
   "version": "3.7.3"
  }
 },
 "nbformat": 4,
 "nbformat_minor": 2
}
{
 "cells": [
  {
   "cell_type": "markdown",
   "metadata": {},
   "source": [
    "# Halite challenge - basics"
   ]
  },
  {
   "cell_type": "code",
   "execution_count": null,
   "metadata": {},
   "outputs": [],
   "source": [
    "import gym\n",
    "import numpy as np\n",
    "import matplotlib.pyplot as plt\n",
    "from Environment import halite_env as Env"
   ]
  },
  {
   "cell_type": "code",
   "execution_count": null,
   "metadata": {},
   "outputs": [],
   "source": [
    "from importlib import reload\n",
    "reload(Env)"
   ]
  },
  {
   "cell_type": "markdown",
   "metadata": {},
   "source": [
    "## Setup of the environment"
   ]
  },
  {
   "cell_type": "code",
   "execution_count": null,
   "metadata": {},
   "outputs": [],
   "source": [
    "num_players = 1\n",
    "n_actions = 5 # no dropoffs, 1 action for staying still, 4 for moving in the cardinal directions\n",
    "map_size = 7 # 7 x 7 map"
   ]
  },
  {
   "cell_type": "code",
   "execution_count": null,
   "metadata": {},
   "outputs": [],
   "source": [
    "env = Env.HaliteEnv(num_players, map_size)"
   ]
  },
  {
   "cell_type": "code",
   "execution_count": null,
   "metadata": {},
   "outputs": [],
   "source": [
    "# halite in the map, min = 0, max = 1000\n",
    "env.map[:,:,0]"
   ]
  },
  {
   "cell_type": "code",
   "execution_count": null,
   "metadata": {},
   "outputs": [],
   "source": [
    "# ship position\n",
    "env.map[:,:,1] "
   ]
  },
  {
   "cell_type": "code",
   "execution_count": null,
   "metadata": {},
   "outputs": [],
   "source": [
    "# shows the halite carried from each ship in the position corresponding to the ship\n",
    "# initially there is no ship, hence no halite carried either\n",
    "\n",
    "env.map[:,:,2] "
   ]
  },
  {
   "cell_type": "code",
   "execution_count": null,
   "metadata": {},
   "outputs": [],
   "source": [
    "# shipyard position\n",
    "env.map[:,:,3] "
   ]
  },
  {
   "cell_type": "code",
   "execution_count": null,
   "metadata": {},
   "outputs": [],
   "source": [
    "print(\"Initial halite: \", env.player_halite[0])"
=======
   "execution_count": 153,
   "metadata": {},
   "outputs": [],
   "source": [
    "a_max = np.argmax(q_values, axis=1) #choose for each state the action whose value is the max\n",
    "a_shape = a_max.reshape((N_CELLS,H_LEV**6,N_ACTIONS-1)) #shape this vector in a decoded way"
>>>>>>> master
   ]
  },
  {
   "cell_type": "code",
<<<<<<< HEAD
   "execution_count": null,
   "metadata": {},
   "outputs": [],
   "source": [
    "# actions are represented as a matrix whose entries are -1 if no ship is in that position, \n",
    "#'a_i' if ship i is present in that position \n",
    "action_matrix = np.full((map_size,map_size), -1) # no ship, no action"
   ]
  },
  {
   "cell_type": "code",
   "execution_count": null,
   "metadata": {},
   "outputs": [],
   "source": [
    "# the environment already has in memory the last state, thus we don't need to resubmit it\n",
    "# the only things that we submit are the action matrix and the shipyard action (1 or True to spawn a ship, 0 otherwise)\n",
    "shipyard_action = 1 # initially always choose to create a ship\n",
    "# returns the state, i.e. env.map\n",
    "s, h, finish, _ = env.step(action_matrix, makeship = shipyard_action)\n",
    "# s_0 -> map_halite, s_1 -> cargo_halite, s_2 -> shipyard_position (not used), s_3 -> ship_position\n",
    "map_halite = s[:,:,0]\n",
    "ship_pos_matrix = s[:,:,1]"
   ]
  },
  {
   "cell_type": "code",
   "execution_count": null,
   "metadata": {},
   "outputs": [],
   "source": [
    "def encode(v_dec, L):\n",
    "    # v_two = [v1,v2]\n",
    "    # returns the encoded version V[v1,v2] of V = np.arange(0,L)\n",
    "    # L = length(all_possible_v)\n",
    "    V = np.arange(0,L**2).reshape((L,L))\n",
    "    v_enc = V[v_dec[0],v_dec[1]] \n",
    "    return v_enc\n",
    "\n",
    "def decode(v_enc, L):\n",
    "    V = np.arange(0,L**2).reshape((L,L))\n",
    "    v_dec = np.array([np.where(v_enc == V)[0][0],np.where(v_enc == V)[1][0]])\n",
    "    return v_dec\n",
    "\n",
    "def one_to_index(V,L):\n",
    "    # matrix V with one entry = 1 and the others 0\n",
    "    return np.arange(L**2).reshape((L, L))[V.astype(bool)]\n",
    "\n",
    "# ship positions x (n_cells + 1) x halite levels -> tensor\n",
    "# we will need a 3D encoding, like the 2D seen above\n",
    "def encode3D(v_dec, L1, L2, L3):\n",
    "    # v_dec = [v1,v2,v3]\n",
    "    # returns the encoded version V[v1,v2,v3] of V = np.arange(0,L1*L2*L3)\n",
    "    V = np.arange(0,L1*L2*L3).reshape((L1,L2,L3))\n",
    "    v_enc = V[v_dec[0],v_dec[1], v_dec[2]] \n",
    "    return v_enc\n",
    "\n",
    "def decode3D(v_enc, L1, L2, L3):\n",
    "    # v_enc = V[v1,v2,v3] \n",
    "    # V = np.arange(0,L1*L2*L3)\n",
    "    # returns the decoded version v_dec = [v1,v2,v3] of V[v1,v2,v3] \n",
    "    V = np.arange(0,L1*L2*L3).reshape((L1,L2,L3))\n",
    "    v_dec = np.array([np.where(v_enc == V)[0][0],np.where(v_enc == V)[1][0], np.where(v_enc == V)[2][0]])\n",
    "    return v_dec"
=======
   "execution_count": 154,
   "metadata": {},
   "outputs": [
    {
     "data": {
      "image/png": "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\n",
      "text/plain": [
       "<Figure size 432x288 with 1 Axes>"
      ]
     },
     "metadata": {
      "needs_background": "light"
     },
     "output_type": "display_data"
    }
   ],
   "source": [
    "a_shipy_left = a_shape[23,:,:] # select for example the position at the left of the shipyard\n",
    "# now reshape again so that we can highlight the variable of the \n",
    "# halite carried (the first dimension)\n",
    "a_tens_left = a_shipy_left.reshape((3,3,3,3,3,3,N_ACTIONS-1)) \n",
    "# select all the possible configurations in which the ship has the max level of halite carried\n",
    "# and make an histogram of the favourite choices\n",
    "# (1,2,3,4) = (S,N,E,W)\n",
    "# notice that to get to the shipyard and deposit the halite it should choose to go to the east (3), \n",
    "# but this is actually the least choosen option!\n",
    "plt.hist(a_tens_left[2,...].flatten()) \n",
    "plt.show()"
>>>>>>> master
   ]
  },
  {
   "cell_type": "code",
<<<<<<< HEAD
   "execution_count": null,
   "metadata": {},
   "outputs": [],
   "source": [
    "#position_encoded\n",
    "pos_enc = one_to_index(ship_pos_matrix, map_size)\n",
    "print(\"Encoded position of the ship: \", pos_enc)\n",
    "#position_decoded\n",
    "pos_dec = decode(pos_enc, map_size)\n",
    "print(\"Decoded position of the ship: \", pos_dec)"
=======
   "execution_count": 155,
   "metadata": {},
   "outputs": [
    {
     "data": {
      "image/png": "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\n",
      "text/plain": [
       "<Figure size 432x288 with 1 Axes>"
      ]
     },
     "metadata": {
      "needs_background": "light"
     },
     "output_type": "display_data"
    }
   ],
   "source": [
    "# Now we look at the right\n",
    "a_shipy_right = a_shape[25,:,:]\n",
    "a_tens_right = a_shipy_right.reshape((3,3,3,3,3,3,N_ACTIONS-1)) \n",
    "plt.hist(a_tens_right[2,...].flatten()) \n",
    "plt.show()"
>>>>>>> master
   ]
  },
  {
   "cell_type": "code",
<<<<<<< HEAD
   "execution_count": null,
   "metadata": {},
   "outputs": [],
   "source": [
    "ship_cargo = s[pos_dec[0],pos_dec[1],2]\n",
    "print(\"Initial ship cargo: \", ship_cargo)"
=======
   "execution_count": 156,
   "metadata": {},
   "outputs": [
    {
     "data": {
      "image/png": "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\n",
      "text/plain": [
       "<Figure size 432x288 with 1 Axes>"
      ]
     },
     "metadata": {
      "needs_background": "light"
     },
     "output_type": "display_data"
    }
   ],
   "source": [
    "# Now we look up\n",
    "a_shipy_right = a_shape[17,:,:]\n",
    "a_tens_right = a_shipy_right.reshape((3,3,3,3,3,3,N_ACTIONS-1)) \n",
    "plt.hist(a_tens_right[2,...].flatten()) \n",
    "plt.show()\n"
>>>>>>> master
   ]
  },
  {
   "cell_type": "code",
<<<<<<< HEAD
   "execution_count": null,
   "metadata": {},
   "outputs": [],
   "source": [
    "# functions for the agent\n",
    "def greedy_policy(s, q_values):\n",
    "    return np.argmax(q_values[s])\n",
    "\n",
    "def e_greedy_policy(s, q_values, eps = 0.01):\n",
    "    # s is encoded in input, a is encoded in output\n",
    "    u = np.random.rand()\n",
    "    if u > eps:\n",
    "        return np.argmax(q_values[s])\n",
    "    else:\n",
    "        return np.random.randint(0, len(q_values[s]))\n",
    "    \n",
    "def update_q(s, a, r, sp, ap, q_values, gamma = 1):\n",
    "    q_values[s,a] = r + gamma*q_values[sp,ap]\n",
    "    return q_values"
=======
   "execution_count": 157,
   "metadata": {},
   "outputs": [
    {
     "data": {
      "image/png": "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\n",
      "text/plain": [
       "<Figure size 432x288 with 1 Axes>"
      ]
     },
     "metadata": {
      "needs_background": "light"
     },
     "output_type": "display_data"
    }
   ],
   "source": [
    "# Now we look up\n",
    "a_shipy_right = a_shape[31,:,:]\n",
    "a_tens_right = a_shipy_right.reshape((3,3,3,3,3,3,N_ACTIONS-1)) \n",
    "plt.hist(a_tens_right[2,...].flatten())\n",
    "plt.show()"
>>>>>>> master
   ]
  },
  {
   "cell_type": "markdown",
   "metadata": {},
   "source": [
<<<<<<< HEAD
    "## State complexity and state approximation\n",
    "\n",
    "We have:\n",
    "- $(map size)^2$ positions ($49$ in this case, up to $64^2 = 4096$);\n",
    "- 1000 values of halite for each position (h_val);\n",
    "- 1000 values of carried halite (h_val).\n",
    "\n",
    "The state of the system is defined by the halite in each cell + the halite carried by the ship + the position of the ship. We can have almost all the possible combinations of the values that those variables can assume, thus we have the combinations of $1000$ values of halite for $50$ cells ($49$ of the map + the one carried by the ship) all multiplied by $49$ possible positions of the ship, for a total of $49\\times 10^{147}$ possible states. If instead we consider the largest map of $64 \\times 64$ we arrive at $4096\\times 10^{12288}$ possible states.\n",
    "\n",
    "WORK IN PROGRESS\n",
    "\n",
    "To tackle this issue we choose to approximate the information about the halite using for example 4 halite levels and the following encoding:\n",
    "- $h = 0$ if $0 \\le halite \\le 1$; \n",
    "- $h = 1$ if $1 < halite \\le 10$; \n",
    "- $h = 2$ if $10 < halite \\le 100$; \n",
    "- $h = 3$ if $100 < halite \\le 1000$.\n",
    "\n",
    "In this way for a $7 \\times 7$ map, the total number of states are $9800$ and for the $64 \\times 64$ there are \"just\" $67.125.248$, that means a lot of training and experience are needed, but we're talking about millions and not tens of billions (an order $10^5$ of difference!). "
   ]
  },
  {
   "cell_type": "code",
   "execution_count": null,
   "metadata": {},
   "outputs": [],
   "source": [
    "4096*3"
   ]
  },
  {
   "cell_type": "code",
   "execution_count": null,
   "metadata": {},
   "outputs": [],
   "source": [
    "def halite_quantization(h, q_number = 4):\n",
    "    # h can either be a scalar or a matrix \n",
    "    tresholds = np.logspace(0,3,4) # [1, 10, 100, 1000] = [10^0, 10^1, 10^2, 10^3]\n",
    "    h_shape = h.shape\n",
    "    h_temp = h.flatten()\n",
    "    mask = (h_temp[:,np.newaxis] < tresholds).astype(int)\n",
    "    level = np.argmax(mask, axis = 1)\n",
    "    return level.reshape(h_shape)"
   ]
  },
  {
   "cell_type": "code",
   "execution_count": null,
   "metadata": {},
   "outputs": [],
   "source": [
    "# how to use it\n",
    "q_h = halite_quantization(map_halite)\n",
    "c_h = halite_quantization(ship_cargo)"
   ]
  },
  {
   "cell_type": "code",
   "execution_count": null,
   "metadata": {},
   "outputs": [],
   "source": [
    "# Now we need to write a function that is able to get the decoded state from the output of the environment\n",
    "# ship positions x (n_cells + 1) -> ship positions x (n_cells + 1) x halite levels\n",
    "\n",
    "pos_enc = one_to_index(ship_pos_matrix, map_size) #this is the first entry\n",
    "\n",
    "# Now we compose an array of the halite values of the n cells and the ship \n",
    "# and encode it through the matrix [(n_cells + 1) x halite levels]\n"
=======
    "Now we look at the Q-values instead."
>>>>>>> master
   ]
  },
  {
   "cell_type": "code",
<<<<<<< HEAD
   "execution_count": null,
   "metadata": {},
   "outputs": [],
   "source": [
    "h_lev = 4 # halite levels\n",
    "n_cells = map_size**2\n",
    "n_states = n_cells*(n_cells+1)*h_lev\n",
    "print(\"Total number of states to be experienced: \", n_states)\n",
    "n_actions = 5\n",
    "tot_turns = 400\n",
    "# to account the fact that the ships can't know the number of turns elapsed we train them as if there was\n",
    "# a uniform probability of 1/tot_turns of ending the game at each turn\n",
    "discount_factor = 1 - 1/tot_turns \n",
    "n_batch = 100 # number of episodes in an epoch\n",
    "epochs = 0\n",
    "q_values = np.zeros((n_states,n_actions)) #initialize to zero\n",
    "max_epochs = 1000\n",
    "reward_score = np.zeros(max_epochs)"
=======
   "execution_count": 158,
   "metadata": {},
   "outputs": [
    {
     "data": {
      "image/png": "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\n",
      "text/plain": [
       "<Figure size 432x288 with 1 Axes>"
      ]
     },
     "metadata": {
      "needs_background": "light"
     },
     "output_type": "display_data"
    }
   ],
   "source": [
    "plt.hist(q_values.flatten(), bins = 50)\n",
    "plt.show()"
>>>>>>> master
   ]
  },
  {
   "cell_type": "code",
<<<<<<< HEAD
   "execution_count": null,
   "metadata": {},
   "outputs": [],
   "source": [
    "s_dec = np.array([0,0,1])\n",
    "print(\"Original decoded state: \", s_dec)\n",
    "s_enc = encode3D(s_dec, L1 = n_cells, L2 = n_cells+1, L3 = h_lev)\n",
    "print(\"Encoded state: \", s_enc)\n",
    "s_dec_2 = decode3D(s_enc, L1 = n_cells, L2 = n_cells+1, L3 = h_lev)\n",
    "print(\"New decoded state: \", s_dec)"
=======
   "execution_count": 159,
   "metadata": {},
   "outputs": [
    {
     "name": "stdout",
     "output_type": "stream",
     "text": [
      "0.2848814793384433\n"
     ]
    }
   ],
   "source": [
    "print(q_values.max())"
>>>>>>> master
   ]
  },
  {
   "cell_type": "code",
<<<<<<< HEAD
   "execution_count": null,
   "metadata": {},
   "outputs": [],
   "source": [
    "while True:\n",
    "    #@@@@@@@@@@@@@@@@@@@@@@\n",
    "    # here starts an epoch\n",
    "    #@@@@@@@@@@@@@@@@@@@@@@\n",
    "    epochs = epochs + 1\n",
    "    reward_progress = np.zeros(n_batch) # bunch of 100 episodes\n",
    "    eps = 0.5 # starting value of epsilon\n",
    "    # generate an adaptive epsilon greedy algorithm, has to be calibrated\n",
    "    epsilons = np.array(list(map(lambda i : eps*np.exp(-i/100), np.arange(0,max_epochs+1))))\n",
    "    \n",
    "    for i in range(n_batch):\n",
    "        #@@@@@@@@@@@@@@@@@@@@@@@@\n",
    "        # here starts an episode\n",
    "        #@@@@@@@@@@@@@@@@@@@@@@@@\n",
    "        s_dec = [0,4] # init state: top corners\n",
    "        s_enc = encode(s_dec, 25) # encoded state used to have a scalar index to access the states; 25 singular states\n",
    "        steps = 0\n",
    "        reward = 0\n",
    "        \n",
    "        while True:\n",
    "            steps = steps + 1\n",
    "            \n",
    "            a_enc = e_greedy_pol_v1(s_enc, q_values, eps = epsilons[epochs])\n",
    "            a_dec = decode(a_enc, 4) # 4 singular actions\n",
    "            \n",
    "            sp_dec, r = turn_v2(s_dec, a_dec) # interacts with the environment \n",
    "            sp_enc = encode(sp_dec, 25) # encode to scalar state\n",
    "            reward = reward + r\n",
    "            \n",
    "            a_temp_enc = greedy_pol_v0(sp_enc, q_values)\n",
    "            a_temp_dec = decode(a_temp_enc, 4)\n",
    "\n",
    "            q_values = update_q_v0(s_enc, a_enc, r, sp_enc, a_temp_enc, q_values, gamma = discount_factor)\n",
    "            \n",
    "            # update states\n",
    "            s_enc = sp_enc\n",
    "            s_dec = sp_dec\n",
    "            \n",
    "            \n",
    "            # terminal states are 2 and 24\n",
    "            if (s_dec[0] == 2 and s_dec[1] == 24) or (s_dec[1] == 2 and s_dec[0] == 24):\n",
    "                #print(\"Terminal state reached at step %d.\"%steps)\n",
    "                reward_progress[i] = reward\n",
    "                game_progress[i] = steps\n",
    "                terminal_states[:,i] = s_dec\n",
    "                break\n",
    "            \"\"\"if (s_dec[0] == s_dec[1]):\n",
    "                #print(\"Agent crushed one on each other.\") \n",
    "                #game_progress[i] = 100 # assign 100 equals to failure (and the -100 reward accounts for the accident)\n",
    "                #break\"\"\"\n",
    "            if steps >= 100:\n",
    "                #print(\"Too much time has passed. Game Over.\")\n",
    "                reward_progress[i] = reward\n",
    "                game_progress[i] = steps\n",
    "                terminal_states[:,i] = s_dec\n",
    "                break\n",
    "    \n",
    "    print(\"Average reward per episode in epoch %d: \"%epochs, reward_progress.mean())\n",
    "    reward_score[epochs-1] = reward_progress.mean()\n",
    "\n",
    "    if epochs >= max_epochs:\n",
    "        print(\"Hey, I think you've had enough! Let's stop here.\")\n",
    "        break"
=======
   "execution_count": 160,
   "metadata": {},
   "outputs": [],
   "source": [
    "q_shape = q_values.reshape((N_CELLS,H_LEV**6,N_ACTIONS-1, N_ACTIONS))"
>>>>>>> master
   ]
  },
  {
   "cell_type": "code",
   "execution_count": null,
   "metadata": {},
   "outputs": [],
   "source": []
  }
 ],
 "metadata": {
  "kernelspec": {
   "display_name": "Python 3",
   "language": "python",
   "name": "python3"
  },
  "language_info": {
   "codemirror_mode": {
    "name": "ipython",
    "version": 3
   },
   "file_extension": ".py",
   "mimetype": "text/x-python",
   "name": "python",
   "nbconvert_exporter": "python",
   "pygments_lexer": "ipython3",
<<<<<<< HEAD
   "version": "3.7.3"
=======
   "version": "3.7.2"
>>>>>>> master
  }
 },
 "nbformat": 4,
 "nbformat_minor": 2
}
